{
 "cells": [
  {
   "cell_type": "markdown",
   "id": "9734fb20-c1b3-4b0d-b24d-4eb59a7f95d5",
   "metadata": {},
   "source": [
    "# Survival Analysis Tutorial Part 2\n",
    "\n",
    "\n",
    "The goal of this tutorial is to extract implicit failure information from a raw event log using [Ibis](ibis-project.org/) and [DuckDB](https://duckdb.org)"
   ]
  },
  {
   "cell_type": "code",
   "execution_count": null,
   "id": "b84cdb26-b0fa-4b3d-94e8-19dc52c330c5",
   "metadata": {},
   "outputs": [],
   "source": []
  }
 ],
 "metadata": {
  "jupytext": {
   "formats": "ipynb,py:percent"
  },
  "kernelspec": {
   "display_name": "Python 3 (ipykernel)",
   "language": "python",
   "name": "python3"
  },
  "language_info": {
   "codemirror_mode": {
    "name": "ipython",
    "version": 3
   },
   "file_extension": ".py",
   "mimetype": "text/x-python",
   "name": "python",
   "nbconvert_exporter": "python",
   "pygments_lexer": "ipython3",
   "version": "3.11.3"
  }
 },
 "nbformat": 4,
 "nbformat_minor": 5
}
