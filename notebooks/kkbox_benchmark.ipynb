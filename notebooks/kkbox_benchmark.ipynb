{
 "cells": [
  {
   "cell_type": "markdown",
   "id": "99851409-4d70-4192-8afb-91803a0b7946",
   "metadata": {},
   "source": [
    "## KKBox Benchmark (PyCox Preprocessing)"
   ]
  },
  {
   "cell_type": "code",
   "execution_count": 1,
   "id": "6e90813b-787e-48c4-988f-6c22385de3f7",
   "metadata": {},
   "outputs": [
    {
     "data": {
      "text/plain": [
       "'data/kkbox'"
      ]
     },
     "execution_count": 1,
     "metadata": {},
     "output_type": "execute_result"
    }
   ],
   "source": [
    "%load_ext autoreload\n",
    "%autoreload 2\n",
    "\n",
    "import sys\n",
    "sys.path.append(\"..\")\n",
    "\n",
    "import os\n",
    "import numpy as np\n",
    "import pandas as pd\n",
    "\n",
    "os.getenv(\"PYCOX_DATA_DIR\")"
   ]
  },
  {
   "cell_type": "code",
   "execution_count": 2,
   "id": "7f37e107-70df-4bd4-9f89-cd968194dce9",
   "metadata": {},
   "outputs": [],
   "source": [
    "from pycox.datasets import kkbox_v1\n",
    "\n",
    "kkbox_v1._path_dir.mkdir(exist_ok=True)"
   ]
  },
  {
   "cell_type": "code",
   "execution_count": 4,
   "id": "bf0c1543-782c-407f-94a2-d0e3e5e254bd",
   "metadata": {},
   "outputs": [],
   "source": [
    "if not kkbox_v1.path_train.exists():    \n",
    "    kkbox_v1._csv_to_feather_with_types()\n",
    "    kkbox_v1._make_survival_data()\n",
    "    kkbox_v1._make_survival_covariates()\n",
    "    kkbox_v1._make_train_test_split()"
   ]
  },
  {
   "cell_type": "code",
   "execution_count": 5,
   "id": "16f661e8-854d-49f2-8bbf-5c123f792aab",
   "metadata": {},
   "outputs": [
    {
     "data": {
      "text/html": [
       "<div>\n",
       "<style scoped>\n",
       "    .dataframe tbody tr th:only-of-type {\n",
       "        vertical-align: middle;\n",
       "    }\n",
       "\n",
       "    .dataframe tbody tr th {\n",
       "        vertical-align: top;\n",
       "    }\n",
       "\n",
       "    .dataframe thead th {\n",
       "        text-align: right;\n",
       "    }\n",
       "</style>\n",
       "<table border=\"1\" class=\"dataframe\">\n",
       "  <thead>\n",
       "    <tr style=\"text-align: right;\">\n",
       "      <th></th>\n",
       "      <th>msno</th>\n",
       "      <th>event</th>\n",
       "      <th>n_prev_churns</th>\n",
       "      <th>log_days_between_subs</th>\n",
       "      <th>duration</th>\n",
       "      <th>log_days_since_reg_init</th>\n",
       "      <th>log_payment_plan_days</th>\n",
       "      <th>log_plan_list_price</th>\n",
       "      <th>log_actual_amount_paid</th>\n",
       "      <th>is_auto_renew</th>\n",
       "      <th>is_cancel</th>\n",
       "      <th>city</th>\n",
       "      <th>gender</th>\n",
       "      <th>registered_via</th>\n",
       "      <th>age_at_start</th>\n",
       "      <th>strange_age</th>\n",
       "      <th>nan_days_since_reg_init</th>\n",
       "      <th>no_prev_churns</th>\n",
       "    </tr>\n",
       "  </thead>\n",
       "  <tbody>\n",
       "    <tr>\n",
       "      <th>0</th>\n",
       "      <td>khTQl3B7k10IA9zPMpm5jMc4VxHKh+mo8ngDaos2Od4=</td>\n",
       "      <td>1.0</td>\n",
       "      <td>0.0</td>\n",
       "      <td>0.0</td>\n",
       "      <td>7.0</td>\n",
       "      <td>0.000000</td>\n",
       "      <td>2.079442</td>\n",
       "      <td>0.000000</td>\n",
       "      <td>0.000000</td>\n",
       "      <td>0.0</td>\n",
       "      <td>0.0</td>\n",
       "      <td>NaN</td>\n",
       "      <td>NaN</td>\n",
       "      <td>NaN</td>\n",
       "      <td>-1.0</td>\n",
       "      <td>0.0</td>\n",
       "      <td>1.0</td>\n",
       "      <td>1.0</td>\n",
       "    </tr>\n",
       "    <tr>\n",
       "      <th>1</th>\n",
       "      <td>2jy816+2+7/UYg7RNhP1PnifBmP9CL0/3ioqGBg/jrc=</td>\n",
       "      <td>0.0</td>\n",
       "      <td>0.0</td>\n",
       "      <td>0.0</td>\n",
       "      <td>694.0</td>\n",
       "      <td>4.262680</td>\n",
       "      <td>3.433987</td>\n",
       "      <td>5.017280</td>\n",
       "      <td>5.017280</td>\n",
       "      <td>0.0</td>\n",
       "      <td>0.0</td>\n",
       "      <td>15</td>\n",
       "      <td>NaN</td>\n",
       "      <td>9</td>\n",
       "      <td>0.0</td>\n",
       "      <td>1.0</td>\n",
       "      <td>0.0</td>\n",
       "      <td>1.0</td>\n",
       "    </tr>\n",
       "    <tr>\n",
       "      <th>2</th>\n",
       "      <td>yTnAG21OBNMRG6yL2ovgHG5zJ2GFTRpRZDVP04dqsKY=</td>\n",
       "      <td>1.0</td>\n",
       "      <td>0.0</td>\n",
       "      <td>0.0</td>\n",
       "      <td>61.0</td>\n",
       "      <td>0.000000</td>\n",
       "      <td>3.433987</td>\n",
       "      <td>5.010635</td>\n",
       "      <td>0.000000</td>\n",
       "      <td>1.0</td>\n",
       "      <td>0.0</td>\n",
       "      <td>NaN</td>\n",
       "      <td>NaN</td>\n",
       "      <td>NaN</td>\n",
       "      <td>-1.0</td>\n",
       "      <td>0.0</td>\n",
       "      <td>1.0</td>\n",
       "      <td>1.0</td>\n",
       "    </tr>\n",
       "    <tr>\n",
       "      <th>3</th>\n",
       "      <td>PU3abZF43MOIGUKry3qu9vetFKi1d7BlJ8//Kk4zIHY=</td>\n",
       "      <td>0.0</td>\n",
       "      <td>0.0</td>\n",
       "      <td>0.0</td>\n",
       "      <td>58.0</td>\n",
       "      <td>0.693147</td>\n",
       "      <td>3.433987</td>\n",
       "      <td>4.615121</td>\n",
       "      <td>4.615121</td>\n",
       "      <td>1.0</td>\n",
       "      <td>0.0</td>\n",
       "      <td>1</td>\n",
       "      <td>NaN</td>\n",
       "      <td>7</td>\n",
       "      <td>-0.0</td>\n",
       "      <td>1.0</td>\n",
       "      <td>0.0</td>\n",
       "      <td>1.0</td>\n",
       "    </tr>\n",
       "    <tr>\n",
       "      <th>4</th>\n",
       "      <td>h7n6QC+6LkEsVtWHknIABBGN87SSMhu1cCEYq0f5lxw=</td>\n",
       "      <td>1.0</td>\n",
       "      <td>0.0</td>\n",
       "      <td>0.0</td>\n",
       "      <td>30.0</td>\n",
       "      <td>0.693147</td>\n",
       "      <td>3.433987</td>\n",
       "      <td>5.010635</td>\n",
       "      <td>0.000000</td>\n",
       "      <td>1.0</td>\n",
       "      <td>0.0</td>\n",
       "      <td>13</td>\n",
       "      <td>female</td>\n",
       "      <td>7</td>\n",
       "      <td>0.0</td>\n",
       "      <td>1.0</td>\n",
       "      <td>0.0</td>\n",
       "      <td>1.0</td>\n",
       "    </tr>\n",
       "    <tr>\n",
       "      <th>...</th>\n",
       "      <td>...</td>\n",
       "      <td>...</td>\n",
       "      <td>...</td>\n",
       "      <td>...</td>\n",
       "      <td>...</td>\n",
       "      <td>...</td>\n",
       "      <td>...</td>\n",
       "      <td>...</td>\n",
       "      <td>...</td>\n",
       "      <td>...</td>\n",
       "      <td>...</td>\n",
       "      <td>...</td>\n",
       "      <td>...</td>\n",
       "      <td>...</td>\n",
       "      <td>...</td>\n",
       "      <td>...</td>\n",
       "      <td>...</td>\n",
       "      <td>...</td>\n",
       "    </tr>\n",
       "    <tr>\n",
       "      <th>1786353</th>\n",
       "      <td>v8HEZ52iJ1vMcy6s4nA6fdmJ4GbJuRdPyk4YP9J8yx4=</td>\n",
       "      <td>1.0</td>\n",
       "      <td>0.0</td>\n",
       "      <td>0.0</td>\n",
       "      <td>7.0</td>\n",
       "      <td>0.000000</td>\n",
       "      <td>2.079442</td>\n",
       "      <td>0.000000</td>\n",
       "      <td>0.000000</td>\n",
       "      <td>0.0</td>\n",
       "      <td>0.0</td>\n",
       "      <td>NaN</td>\n",
       "      <td>NaN</td>\n",
       "      <td>NaN</td>\n",
       "      <td>-1.0</td>\n",
       "      <td>0.0</td>\n",
       "      <td>1.0</td>\n",
       "      <td>1.0</td>\n",
       "    </tr>\n",
       "    <tr>\n",
       "      <th>1786354</th>\n",
       "      <td>h8Ui90iYczbI7Z4ezCl6AQ6kKjsz0kF+2vt7jrDCjV8=</td>\n",
       "      <td>0.0</td>\n",
       "      <td>0.0</td>\n",
       "      <td>0.0</td>\n",
       "      <td>476.0</td>\n",
       "      <td>0.693147</td>\n",
       "      <td>2.397895</td>\n",
       "      <td>0.000000</td>\n",
       "      <td>0.000000</td>\n",
       "      <td>0.0</td>\n",
       "      <td>0.0</td>\n",
       "      <td>4</td>\n",
       "      <td>female</td>\n",
       "      <td>4</td>\n",
       "      <td>27.0</td>\n",
       "      <td>0.0</td>\n",
       "      <td>0.0</td>\n",
       "      <td>1.0</td>\n",
       "    </tr>\n",
       "    <tr>\n",
       "      <th>1786355</th>\n",
       "      <td>7k3u/jaF58rUPcqsxLVizRAZgh5HbZB3UR0tHsC86qY=</td>\n",
       "      <td>0.0</td>\n",
       "      <td>0.0</td>\n",
       "      <td>0.0</td>\n",
       "      <td>273.0</td>\n",
       "      <td>6.228511</td>\n",
       "      <td>3.433987</td>\n",
       "      <td>5.198497</td>\n",
       "      <td>5.198497</td>\n",
       "      <td>0.0</td>\n",
       "      <td>0.0</td>\n",
       "      <td>12</td>\n",
       "      <td>male</td>\n",
       "      <td>3</td>\n",
       "      <td>22.0</td>\n",
       "      <td>0.0</td>\n",
       "      <td>0.0</td>\n",
       "      <td>1.0</td>\n",
       "    </tr>\n",
       "    <tr>\n",
       "      <th>1786356</th>\n",
       "      <td>qXE+j9MNdtPUbcCy2pyKLzAWZ1LztDukUa9RKmFfDUE=</td>\n",
       "      <td>1.0</td>\n",
       "      <td>0.0</td>\n",
       "      <td>0.0</td>\n",
       "      <td>59.0</td>\n",
       "      <td>7.101676</td>\n",
       "      <td>3.433987</td>\n",
       "      <td>5.010635</td>\n",
       "      <td>5.010635</td>\n",
       "      <td>1.0</td>\n",
       "      <td>0.0</td>\n",
       "      <td>14</td>\n",
       "      <td>female</td>\n",
       "      <td>9</td>\n",
       "      <td>27.0</td>\n",
       "      <td>0.0</td>\n",
       "      <td>0.0</td>\n",
       "      <td>1.0</td>\n",
       "    </tr>\n",
       "    <tr>\n",
       "      <th>1786357</th>\n",
       "      <td>SWoWJ6qiJdO874HSiCfSOah3KEpw/x6c4dPBDEOHMQI=</td>\n",
       "      <td>0.0</td>\n",
       "      <td>0.0</td>\n",
       "      <td>0.0</td>\n",
       "      <td>790.0</td>\n",
       "      <td>0.000000</td>\n",
       "      <td>3.433987</td>\n",
       "      <td>5.010635</td>\n",
       "      <td>5.010635</td>\n",
       "      <td>1.0</td>\n",
       "      <td>0.0</td>\n",
       "      <td>NaN</td>\n",
       "      <td>NaN</td>\n",
       "      <td>NaN</td>\n",
       "      <td>-1.0</td>\n",
       "      <td>0.0</td>\n",
       "      <td>1.0</td>\n",
       "      <td>1.0</td>\n",
       "    </tr>\n",
       "  </tbody>\n",
       "</table>\n",
       "<p>1786358 rows × 18 columns</p>\n",
       "</div>"
      ],
      "text/plain": [
       "                                                 msno  event  n_prev_churns  \\\n",
       "0        khTQl3B7k10IA9zPMpm5jMc4VxHKh+mo8ngDaos2Od4=    1.0            0.0   \n",
       "1        2jy816+2+7/UYg7RNhP1PnifBmP9CL0/3ioqGBg/jrc=    0.0            0.0   \n",
       "2        yTnAG21OBNMRG6yL2ovgHG5zJ2GFTRpRZDVP04dqsKY=    1.0            0.0   \n",
       "3        PU3abZF43MOIGUKry3qu9vetFKi1d7BlJ8//Kk4zIHY=    0.0            0.0   \n",
       "4        h7n6QC+6LkEsVtWHknIABBGN87SSMhu1cCEYq0f5lxw=    1.0            0.0   \n",
       "...                                               ...    ...            ...   \n",
       "1786353  v8HEZ52iJ1vMcy6s4nA6fdmJ4GbJuRdPyk4YP9J8yx4=    1.0            0.0   \n",
       "1786354  h8Ui90iYczbI7Z4ezCl6AQ6kKjsz0kF+2vt7jrDCjV8=    0.0            0.0   \n",
       "1786355  7k3u/jaF58rUPcqsxLVizRAZgh5HbZB3UR0tHsC86qY=    0.0            0.0   \n",
       "1786356  qXE+j9MNdtPUbcCy2pyKLzAWZ1LztDukUa9RKmFfDUE=    1.0            0.0   \n",
       "1786357  SWoWJ6qiJdO874HSiCfSOah3KEpw/x6c4dPBDEOHMQI=    0.0            0.0   \n",
       "\n",
       "         log_days_between_subs  duration  log_days_since_reg_init  \\\n",
       "0                          0.0       7.0                 0.000000   \n",
       "1                          0.0     694.0                 4.262680   \n",
       "2                          0.0      61.0                 0.000000   \n",
       "3                          0.0      58.0                 0.693147   \n",
       "4                          0.0      30.0                 0.693147   \n",
       "...                        ...       ...                      ...   \n",
       "1786353                    0.0       7.0                 0.000000   \n",
       "1786354                    0.0     476.0                 0.693147   \n",
       "1786355                    0.0     273.0                 6.228511   \n",
       "1786356                    0.0      59.0                 7.101676   \n",
       "1786357                    0.0     790.0                 0.000000   \n",
       "\n",
       "         log_payment_plan_days  log_plan_list_price  log_actual_amount_paid  \\\n",
       "0                     2.079442             0.000000                0.000000   \n",
       "1                     3.433987             5.017280                5.017280   \n",
       "2                     3.433987             5.010635                0.000000   \n",
       "3                     3.433987             4.615121                4.615121   \n",
       "4                     3.433987             5.010635                0.000000   \n",
       "...                        ...                  ...                     ...   \n",
       "1786353               2.079442             0.000000                0.000000   \n",
       "1786354               2.397895             0.000000                0.000000   \n",
       "1786355               3.433987             5.198497                5.198497   \n",
       "1786356               3.433987             5.010635                5.010635   \n",
       "1786357               3.433987             5.010635                5.010635   \n",
       "\n",
       "         is_auto_renew  is_cancel city  gender registered_via  age_at_start  \\\n",
       "0                  0.0        0.0  NaN     NaN            NaN          -1.0   \n",
       "1                  0.0        0.0   15     NaN              9           0.0   \n",
       "2                  1.0        0.0  NaN     NaN            NaN          -1.0   \n",
       "3                  1.0        0.0    1     NaN              7          -0.0   \n",
       "4                  1.0        0.0   13  female              7           0.0   \n",
       "...                ...        ...  ...     ...            ...           ...   \n",
       "1786353            0.0        0.0  NaN     NaN            NaN          -1.0   \n",
       "1786354            0.0        0.0    4  female              4          27.0   \n",
       "1786355            0.0        0.0   12    male              3          22.0   \n",
       "1786356            1.0        0.0   14  female              9          27.0   \n",
       "1786357            1.0        0.0  NaN     NaN            NaN          -1.0   \n",
       "\n",
       "         strange_age  nan_days_since_reg_init  no_prev_churns  \n",
       "0                0.0                      1.0             1.0  \n",
       "1                1.0                      0.0             1.0  \n",
       "2                0.0                      1.0             1.0  \n",
       "3                1.0                      0.0             1.0  \n",
       "4                1.0                      0.0             1.0  \n",
       "...              ...                      ...             ...  \n",
       "1786353          0.0                      1.0             1.0  \n",
       "1786354          0.0                      0.0             1.0  \n",
       "1786355          0.0                      0.0             1.0  \n",
       "1786356          0.0                      0.0             1.0  \n",
       "1786357          0.0                      1.0             1.0  \n",
       "\n",
       "[1786358 rows x 18 columns]"
      ]
     },
     "execution_count": 5,
     "metadata": {},
     "output_type": "execute_result"
    }
   ],
   "source": [
    "train = kkbox_v1.read_df(subset=\"train\")\n",
    "train"
   ]
  },
  {
   "cell_type": "code",
   "execution_count": 6,
   "id": "0412d456-33cf-4beb-acfc-3a5a57dd213e",
   "metadata": {},
   "outputs": [
    {
     "data": {
      "text/html": [
       "<div>\n",
       "<style scoped>\n",
       "    .dataframe tbody tr th:only-of-type {\n",
       "        vertical-align: middle;\n",
       "    }\n",
       "\n",
       "    .dataframe tbody tr th {\n",
       "        vertical-align: top;\n",
       "    }\n",
       "\n",
       "    .dataframe thead th {\n",
       "        text-align: right;\n",
       "    }\n",
       "</style>\n",
       "<table border=\"1\" class=\"dataframe\">\n",
       "  <thead>\n",
       "    <tr style=\"text-align: right;\">\n",
       "      <th></th>\n",
       "      <th>msno</th>\n",
       "      <th>event</th>\n",
       "      <th>n_prev_churns</th>\n",
       "      <th>log_days_between_subs</th>\n",
       "      <th>duration</th>\n",
       "      <th>log_days_since_reg_init</th>\n",
       "      <th>log_payment_plan_days</th>\n",
       "      <th>log_plan_list_price</th>\n",
       "      <th>log_actual_amount_paid</th>\n",
       "      <th>is_auto_renew</th>\n",
       "      <th>is_cancel</th>\n",
       "      <th>city</th>\n",
       "      <th>gender</th>\n",
       "      <th>registered_via</th>\n",
       "      <th>age_at_start</th>\n",
       "      <th>strange_age</th>\n",
       "      <th>nan_days_since_reg_init</th>\n",
       "      <th>no_prev_churns</th>\n",
       "    </tr>\n",
       "  </thead>\n",
       "  <tbody>\n",
       "    <tr>\n",
       "      <th>0</th>\n",
       "      <td>ySeDlgqnyg7s6GysoIT6PA4dxKUtf7nNRCwc1rM9KHI=</td>\n",
       "      <td>1.0</td>\n",
       "      <td>0.0</td>\n",
       "      <td>0.000000</td>\n",
       "      <td>413.0</td>\n",
       "      <td>6.037871</td>\n",
       "      <td>6.018593</td>\n",
       "      <td>7.489412</td>\n",
       "      <td>7.489412</td>\n",
       "      <td>0.0</td>\n",
       "      <td>0.0</td>\n",
       "      <td>8</td>\n",
       "      <td>female</td>\n",
       "      <td>9</td>\n",
       "      <td>39.0</td>\n",
       "      <td>0.0</td>\n",
       "      <td>0.0</td>\n",
       "      <td>1.0</td>\n",
       "    </tr>\n",
       "    <tr>\n",
       "      <th>1</th>\n",
       "      <td>V8P2TtMajBFvu73ylPvuuL+TZt4gnJga4/2eP7zfcLg=</td>\n",
       "      <td>1.0</td>\n",
       "      <td>0.0</td>\n",
       "      <td>0.000000</td>\n",
       "      <td>29.0</td>\n",
       "      <td>0.000000</td>\n",
       "      <td>3.433987</td>\n",
       "      <td>5.010635</td>\n",
       "      <td>0.000000</td>\n",
       "      <td>1.0</td>\n",
       "      <td>0.0</td>\n",
       "      <td>NaN</td>\n",
       "      <td>NaN</td>\n",
       "      <td>NaN</td>\n",
       "      <td>-1.0</td>\n",
       "      <td>0.0</td>\n",
       "      <td>1.0</td>\n",
       "      <td>1.0</td>\n",
       "    </tr>\n",
       "    <tr>\n",
       "      <th>2</th>\n",
       "      <td>TBph+97zCjGwbI2nUxuWyOp2qpWqVn9k1iR4uaXEG7k=</td>\n",
       "      <td>0.0</td>\n",
       "      <td>0.0</td>\n",
       "      <td>0.000000</td>\n",
       "      <td>791.0</td>\n",
       "      <td>7.178545</td>\n",
       "      <td>3.433987</td>\n",
       "      <td>4.867535</td>\n",
       "      <td>4.867535</td>\n",
       "      <td>1.0</td>\n",
       "      <td>0.0</td>\n",
       "      <td>1</td>\n",
       "      <td>NaN</td>\n",
       "      <td>7</td>\n",
       "      <td>0.0</td>\n",
       "      <td>1.0</td>\n",
       "      <td>0.0</td>\n",
       "      <td>1.0</td>\n",
       "    </tr>\n",
       "    <tr>\n",
       "      <th>3</th>\n",
       "      <td>4+I6SwJRG6DipLKRrJtu4TivQqfEqUUs+FxK+dvo1wI=</td>\n",
       "      <td>1.0</td>\n",
       "      <td>0.0</td>\n",
       "      <td>0.000000</td>\n",
       "      <td>14.0</td>\n",
       "      <td>0.000000</td>\n",
       "      <td>3.433987</td>\n",
       "      <td>5.010635</td>\n",
       "      <td>0.000000</td>\n",
       "      <td>1.0</td>\n",
       "      <td>0.0</td>\n",
       "      <td>NaN</td>\n",
       "      <td>NaN</td>\n",
       "      <td>NaN</td>\n",
       "      <td>-1.0</td>\n",
       "      <td>0.0</td>\n",
       "      <td>1.0</td>\n",
       "      <td>1.0</td>\n",
       "    </tr>\n",
       "    <tr>\n",
       "      <th>4</th>\n",
       "      <td>S746huKfehQhDU9EHDppF5hnFRkNCBTilQT1l5XXibo=</td>\n",
       "      <td>1.0</td>\n",
       "      <td>0.0</td>\n",
       "      <td>0.000000</td>\n",
       "      <td>673.0</td>\n",
       "      <td>7.280697</td>\n",
       "      <td>3.465736</td>\n",
       "      <td>5.010635</td>\n",
       "      <td>5.010635</td>\n",
       "      <td>1.0</td>\n",
       "      <td>0.0</td>\n",
       "      <td>5</td>\n",
       "      <td>male</td>\n",
       "      <td>9</td>\n",
       "      <td>39.0</td>\n",
       "      <td>0.0</td>\n",
       "      <td>0.0</td>\n",
       "      <td>1.0</td>\n",
       "    </tr>\n",
       "    <tr>\n",
       "      <th>...</th>\n",
       "      <td>...</td>\n",
       "      <td>...</td>\n",
       "      <td>...</td>\n",
       "      <td>...</td>\n",
       "      <td>...</td>\n",
       "      <td>...</td>\n",
       "      <td>...</td>\n",
       "      <td>...</td>\n",
       "      <td>...</td>\n",
       "      <td>...</td>\n",
       "      <td>...</td>\n",
       "      <td>...</td>\n",
       "      <td>...</td>\n",
       "      <td>...</td>\n",
       "      <td>...</td>\n",
       "      <td>...</td>\n",
       "      <td>...</td>\n",
       "      <td>...</td>\n",
       "    </tr>\n",
       "    <tr>\n",
       "      <th>198635</th>\n",
       "      <td>YvRQdn78R7qa5uC4p/N4m+iJmcQIEJQmvtB3DLuER3U=</td>\n",
       "      <td>1.0</td>\n",
       "      <td>0.0</td>\n",
       "      <td>0.000000</td>\n",
       "      <td>3.0</td>\n",
       "      <td>6.216606</td>\n",
       "      <td>5.278115</td>\n",
       "      <td>0.000000</td>\n",
       "      <td>0.000000</td>\n",
       "      <td>0.0</td>\n",
       "      <td>0.0</td>\n",
       "      <td>5</td>\n",
       "      <td>female</td>\n",
       "      <td>3</td>\n",
       "      <td>48.0</td>\n",
       "      <td>0.0</td>\n",
       "      <td>0.0</td>\n",
       "      <td>1.0</td>\n",
       "    </tr>\n",
       "    <tr>\n",
       "      <th>198636</th>\n",
       "      <td>0TSySc3XgF3BoFN1gmDxssKqARwnE/fUnPQau+6wOgA=</td>\n",
       "      <td>1.0</td>\n",
       "      <td>0.0</td>\n",
       "      <td>0.000000</td>\n",
       "      <td>7.0</td>\n",
       "      <td>0.000000</td>\n",
       "      <td>2.079442</td>\n",
       "      <td>0.000000</td>\n",
       "      <td>0.000000</td>\n",
       "      <td>0.0</td>\n",
       "      <td>0.0</td>\n",
       "      <td>NaN</td>\n",
       "      <td>NaN</td>\n",
       "      <td>NaN</td>\n",
       "      <td>-1.0</td>\n",
       "      <td>0.0</td>\n",
       "      <td>1.0</td>\n",
       "      <td>1.0</td>\n",
       "    </tr>\n",
       "    <tr>\n",
       "      <th>198637</th>\n",
       "      <td>t4J50mpx8fCCalbag3FWOem0KblFWMgVKuq7fPwuFLk=</td>\n",
       "      <td>0.0</td>\n",
       "      <td>0.0</td>\n",
       "      <td>0.000000</td>\n",
       "      <td>150.0</td>\n",
       "      <td>0.000000</td>\n",
       "      <td>3.433987</td>\n",
       "      <td>4.867535</td>\n",
       "      <td>4.867535</td>\n",
       "      <td>1.0</td>\n",
       "      <td>0.0</td>\n",
       "      <td>NaN</td>\n",
       "      <td>NaN</td>\n",
       "      <td>NaN</td>\n",
       "      <td>-1.0</td>\n",
       "      <td>0.0</td>\n",
       "      <td>1.0</td>\n",
       "      <td>1.0</td>\n",
       "    </tr>\n",
       "    <tr>\n",
       "      <th>198638</th>\n",
       "      <td>7d7OstX9Mt6oIf7lt16ssUiGvmVou1vdolonepYfeY0=</td>\n",
       "      <td>1.0</td>\n",
       "      <td>0.0</td>\n",
       "      <td>0.000000</td>\n",
       "      <td>30.0</td>\n",
       "      <td>5.710427</td>\n",
       "      <td>0.000000</td>\n",
       "      <td>0.000000</td>\n",
       "      <td>5.010635</td>\n",
       "      <td>0.0</td>\n",
       "      <td>0.0</td>\n",
       "      <td>1</td>\n",
       "      <td>NaN</td>\n",
       "      <td>9</td>\n",
       "      <td>0.0</td>\n",
       "      <td>1.0</td>\n",
       "      <td>0.0</td>\n",
       "      <td>1.0</td>\n",
       "    </tr>\n",
       "    <tr>\n",
       "      <th>198639</th>\n",
       "      <td>7d7OstX9Mt6oIf7lt16ssUiGvmVou1vdolonepYfeY0=</td>\n",
       "      <td>1.0</td>\n",
       "      <td>1.0</td>\n",
       "      <td>3.610918</td>\n",
       "      <td>30.0</td>\n",
       "      <td>5.908083</td>\n",
       "      <td>3.433987</td>\n",
       "      <td>5.010635</td>\n",
       "      <td>5.010635</td>\n",
       "      <td>0.0</td>\n",
       "      <td>0.0</td>\n",
       "      <td>1</td>\n",
       "      <td>NaN</td>\n",
       "      <td>9</td>\n",
       "      <td>0.0</td>\n",
       "      <td>1.0</td>\n",
       "      <td>0.0</td>\n",
       "      <td>0.0</td>\n",
       "    </tr>\n",
       "  </tbody>\n",
       "</table>\n",
       "<p>198640 rows × 18 columns</p>\n",
       "</div>"
      ],
      "text/plain": [
       "                                                msno  event  n_prev_churns  \\\n",
       "0       ySeDlgqnyg7s6GysoIT6PA4dxKUtf7nNRCwc1rM9KHI=    1.0            0.0   \n",
       "1       V8P2TtMajBFvu73ylPvuuL+TZt4gnJga4/2eP7zfcLg=    1.0            0.0   \n",
       "2       TBph+97zCjGwbI2nUxuWyOp2qpWqVn9k1iR4uaXEG7k=    0.0            0.0   \n",
       "3       4+I6SwJRG6DipLKRrJtu4TivQqfEqUUs+FxK+dvo1wI=    1.0            0.0   \n",
       "4       S746huKfehQhDU9EHDppF5hnFRkNCBTilQT1l5XXibo=    1.0            0.0   \n",
       "...                                              ...    ...            ...   \n",
       "198635  YvRQdn78R7qa5uC4p/N4m+iJmcQIEJQmvtB3DLuER3U=    1.0            0.0   \n",
       "198636  0TSySc3XgF3BoFN1gmDxssKqARwnE/fUnPQau+6wOgA=    1.0            0.0   \n",
       "198637  t4J50mpx8fCCalbag3FWOem0KblFWMgVKuq7fPwuFLk=    0.0            0.0   \n",
       "198638  7d7OstX9Mt6oIf7lt16ssUiGvmVou1vdolonepYfeY0=    1.0            0.0   \n",
       "198639  7d7OstX9Mt6oIf7lt16ssUiGvmVou1vdolonepYfeY0=    1.0            1.0   \n",
       "\n",
       "        log_days_between_subs  duration  log_days_since_reg_init  \\\n",
       "0                    0.000000     413.0                 6.037871   \n",
       "1                    0.000000      29.0                 0.000000   \n",
       "2                    0.000000     791.0                 7.178545   \n",
       "3                    0.000000      14.0                 0.000000   \n",
       "4                    0.000000     673.0                 7.280697   \n",
       "...                       ...       ...                      ...   \n",
       "198635               0.000000       3.0                 6.216606   \n",
       "198636               0.000000       7.0                 0.000000   \n",
       "198637               0.000000     150.0                 0.000000   \n",
       "198638               0.000000      30.0                 5.710427   \n",
       "198639               3.610918      30.0                 5.908083   \n",
       "\n",
       "        log_payment_plan_days  log_plan_list_price  log_actual_amount_paid  \\\n",
       "0                    6.018593             7.489412                7.489412   \n",
       "1                    3.433987             5.010635                0.000000   \n",
       "2                    3.433987             4.867535                4.867535   \n",
       "3                    3.433987             5.010635                0.000000   \n",
       "4                    3.465736             5.010635                5.010635   \n",
       "...                       ...                  ...                     ...   \n",
       "198635               5.278115             0.000000                0.000000   \n",
       "198636               2.079442             0.000000                0.000000   \n",
       "198637               3.433987             4.867535                4.867535   \n",
       "198638               0.000000             0.000000                5.010635   \n",
       "198639               3.433987             5.010635                5.010635   \n",
       "\n",
       "        is_auto_renew  is_cancel city  gender registered_via  age_at_start  \\\n",
       "0                 0.0        0.0    8  female              9          39.0   \n",
       "1                 1.0        0.0  NaN     NaN            NaN          -1.0   \n",
       "2                 1.0        0.0    1     NaN              7           0.0   \n",
       "3                 1.0        0.0  NaN     NaN            NaN          -1.0   \n",
       "4                 1.0        0.0    5    male              9          39.0   \n",
       "...               ...        ...  ...     ...            ...           ...   \n",
       "198635            0.0        0.0    5  female              3          48.0   \n",
       "198636            0.0        0.0  NaN     NaN            NaN          -1.0   \n",
       "198637            1.0        0.0  NaN     NaN            NaN          -1.0   \n",
       "198638            0.0        0.0    1     NaN              9           0.0   \n",
       "198639            0.0        0.0    1     NaN              9           0.0   \n",
       "\n",
       "        strange_age  nan_days_since_reg_init  no_prev_churns  \n",
       "0               0.0                      0.0             1.0  \n",
       "1               0.0                      1.0             1.0  \n",
       "2               1.0                      0.0             1.0  \n",
       "3               0.0                      1.0             1.0  \n",
       "4               0.0                      0.0             1.0  \n",
       "...             ...                      ...             ...  \n",
       "198635          0.0                      0.0             1.0  \n",
       "198636          0.0                      1.0             1.0  \n",
       "198637          0.0                      1.0             1.0  \n",
       "198638          1.0                      0.0             1.0  \n",
       "198639          1.0                      0.0             0.0  \n",
       "\n",
       "[198640 rows x 18 columns]"
      ]
     },
     "execution_count": 6,
     "metadata": {},
     "output_type": "execute_result"
    }
   ],
   "source": [
    "val = kkbox_v1.read_df(subset=\"val\")\n",
    "val"
   ]
  },
  {
   "cell_type": "code",
   "execution_count": 7,
   "id": "9f727692-f484-43a8-a81b-750d088eeb8b",
   "metadata": {},
   "outputs": [
    {
     "data": {
      "text/html": [
       "<div>\n",
       "<style scoped>\n",
       "    .dataframe tbody tr th:only-of-type {\n",
       "        vertical-align: middle;\n",
       "    }\n",
       "\n",
       "    .dataframe tbody tr th {\n",
       "        vertical-align: top;\n",
       "    }\n",
       "\n",
       "    .dataframe thead th {\n",
       "        text-align: right;\n",
       "    }\n",
       "</style>\n",
       "<table border=\"1\" class=\"dataframe\">\n",
       "  <thead>\n",
       "    <tr style=\"text-align: right;\">\n",
       "      <th></th>\n",
       "      <th>msno</th>\n",
       "      <th>event</th>\n",
       "      <th>n_prev_churns</th>\n",
       "      <th>log_days_between_subs</th>\n",
       "      <th>duration</th>\n",
       "      <th>log_days_since_reg_init</th>\n",
       "      <th>log_payment_plan_days</th>\n",
       "      <th>log_plan_list_price</th>\n",
       "      <th>log_actual_amount_paid</th>\n",
       "      <th>is_auto_renew</th>\n",
       "      <th>is_cancel</th>\n",
       "      <th>city</th>\n",
       "      <th>gender</th>\n",
       "      <th>registered_via</th>\n",
       "      <th>age_at_start</th>\n",
       "      <th>strange_age</th>\n",
       "      <th>nan_days_since_reg_init</th>\n",
       "      <th>no_prev_churns</th>\n",
       "    </tr>\n",
       "  </thead>\n",
       "  <tbody>\n",
       "    <tr>\n",
       "      <th>0</th>\n",
       "      <td>O77INmOJUmfNOpkjIKDqUg2mspqVilbeIZNMeA9uSPI=</td>\n",
       "      <td>1.0</td>\n",
       "      <td>0.0</td>\n",
       "      <td>0.0</td>\n",
       "      <td>15.0</td>\n",
       "      <td>0.693147</td>\n",
       "      <td>2.708050</td>\n",
       "      <td>0.000000</td>\n",
       "      <td>0.000000</td>\n",
       "      <td>0.0</td>\n",
       "      <td>0.0</td>\n",
       "      <td>1</td>\n",
       "      <td>NaN</td>\n",
       "      <td>9</td>\n",
       "      <td>0.0</td>\n",
       "      <td>1.0</td>\n",
       "      <td>0.0</td>\n",
       "      <td>1.0</td>\n",
       "    </tr>\n",
       "    <tr>\n",
       "      <th>1</th>\n",
       "      <td>i7Rxt2tQegmPFrnn7gkeETBhWCAJ5TSuo5/hlp/nlWk=</td>\n",
       "      <td>1.0</td>\n",
       "      <td>0.0</td>\n",
       "      <td>0.0</td>\n",
       "      <td>410.0</td>\n",
       "      <td>3.583519</td>\n",
       "      <td>6.018593</td>\n",
       "      <td>7.489412</td>\n",
       "      <td>7.489412</td>\n",
       "      <td>0.0</td>\n",
       "      <td>0.0</td>\n",
       "      <td>13</td>\n",
       "      <td>male</td>\n",
       "      <td>3</td>\n",
       "      <td>49.0</td>\n",
       "      <td>0.0</td>\n",
       "      <td>0.0</td>\n",
       "      <td>1.0</td>\n",
       "    </tr>\n",
       "    <tr>\n",
       "      <th>2</th>\n",
       "      <td>y6oqfjpx42uMgAhqw75FzQWfPE/2JKe0TkLfHyCcdIY=</td>\n",
       "      <td>1.0</td>\n",
       "      <td>0.0</td>\n",
       "      <td>0.0</td>\n",
       "      <td>410.0</td>\n",
       "      <td>7.852439</td>\n",
       "      <td>3.465736</td>\n",
       "      <td>5.010635</td>\n",
       "      <td>5.010635</td>\n",
       "      <td>1.0</td>\n",
       "      <td>0.0</td>\n",
       "      <td>22</td>\n",
       "      <td>male</td>\n",
       "      <td>9</td>\n",
       "      <td>29.0</td>\n",
       "      <td>0.0</td>\n",
       "      <td>0.0</td>\n",
       "      <td>1.0</td>\n",
       "    </tr>\n",
       "    <tr>\n",
       "      <th>3</th>\n",
       "      <td>y6oqfjpx42uMgAhqw75FzQWfPE/2JKe0TkLfHyCcdIY=</td>\n",
       "      <td>1.0</td>\n",
       "      <td>1.0</td>\n",
       "      <td>0.0</td>\n",
       "      <td>138.0</td>\n",
       "      <td>8.045268</td>\n",
       "      <td>3.433987</td>\n",
       "      <td>5.010635</td>\n",
       "      <td>5.010635</td>\n",
       "      <td>1.0</td>\n",
       "      <td>0.0</td>\n",
       "      <td>22</td>\n",
       "      <td>male</td>\n",
       "      <td>9</td>\n",
       "      <td>30.0</td>\n",
       "      <td>0.0</td>\n",
       "      <td>0.0</td>\n",
       "      <td>0.0</td>\n",
       "    </tr>\n",
       "    <tr>\n",
       "      <th>4</th>\n",
       "      <td>ovOeCMa24deYRZkxKq9DLVCg0HYxFH3UC0kvluRr7hg=</td>\n",
       "      <td>1.0</td>\n",
       "      <td>0.0</td>\n",
       "      <td>0.0</td>\n",
       "      <td>393.0</td>\n",
       "      <td>0.693147</td>\n",
       "      <td>5.278115</td>\n",
       "      <td>6.796824</td>\n",
       "      <td>6.796824</td>\n",
       "      <td>0.0</td>\n",
       "      <td>0.0</td>\n",
       "      <td>5</td>\n",
       "      <td>female</td>\n",
       "      <td>9</td>\n",
       "      <td>20.0</td>\n",
       "      <td>0.0</td>\n",
       "      <td>0.0</td>\n",
       "      <td>1.0</td>\n",
       "    </tr>\n",
       "    <tr>\n",
       "      <th>...</th>\n",
       "      <td>...</td>\n",
       "      <td>...</td>\n",
       "      <td>...</td>\n",
       "      <td>...</td>\n",
       "      <td>...</td>\n",
       "      <td>...</td>\n",
       "      <td>...</td>\n",
       "      <td>...</td>\n",
       "      <td>...</td>\n",
       "      <td>...</td>\n",
       "      <td>...</td>\n",
       "      <td>...</td>\n",
       "      <td>...</td>\n",
       "      <td>...</td>\n",
       "      <td>...</td>\n",
       "      <td>...</td>\n",
       "      <td>...</td>\n",
       "      <td>...</td>\n",
       "    </tr>\n",
       "    <tr>\n",
       "      <th>661743</th>\n",
       "      <td>oDvTbXiI3lFVVP7FwP5S7902FHg43QxywIaL+ph362U=</td>\n",
       "      <td>1.0</td>\n",
       "      <td>0.0</td>\n",
       "      <td>0.0</td>\n",
       "      <td>394.0</td>\n",
       "      <td>3.044523</td>\n",
       "      <td>3.465736</td>\n",
       "      <td>5.010635</td>\n",
       "      <td>5.010635</td>\n",
       "      <td>1.0</td>\n",
       "      <td>0.0</td>\n",
       "      <td>5</td>\n",
       "      <td>female</td>\n",
       "      <td>3</td>\n",
       "      <td>24.0</td>\n",
       "      <td>0.0</td>\n",
       "      <td>0.0</td>\n",
       "      <td>1.0</td>\n",
       "    </tr>\n",
       "    <tr>\n",
       "      <th>661744</th>\n",
       "      <td>/gHyWzlbA/hSJUPaOPySmPPZg77knoIyRFxmnbVdfq8=</td>\n",
       "      <td>1.0</td>\n",
       "      <td>0.0</td>\n",
       "      <td>0.0</td>\n",
       "      <td>28.0</td>\n",
       "      <td>0.000000</td>\n",
       "      <td>3.433987</td>\n",
       "      <td>5.010635</td>\n",
       "      <td>0.000000</td>\n",
       "      <td>1.0</td>\n",
       "      <td>0.0</td>\n",
       "      <td>NaN</td>\n",
       "      <td>NaN</td>\n",
       "      <td>NaN</td>\n",
       "      <td>-1.0</td>\n",
       "      <td>0.0</td>\n",
       "      <td>1.0</td>\n",
       "      <td>1.0</td>\n",
       "    </tr>\n",
       "    <tr>\n",
       "      <th>661745</th>\n",
       "      <td>rvOvNfogF1rvCJ42ZHPmgflxaXm2Ix+vxizd/A4MDKM=</td>\n",
       "      <td>1.0</td>\n",
       "      <td>0.0</td>\n",
       "      <td>0.0</td>\n",
       "      <td>3.0</td>\n",
       "      <td>4.672829</td>\n",
       "      <td>2.079442</td>\n",
       "      <td>0.000000</td>\n",
       "      <td>0.000000</td>\n",
       "      <td>0.0</td>\n",
       "      <td>0.0</td>\n",
       "      <td>1</td>\n",
       "      <td>NaN</td>\n",
       "      <td>9</td>\n",
       "      <td>0.0</td>\n",
       "      <td>1.0</td>\n",
       "      <td>0.0</td>\n",
       "      <td>1.0</td>\n",
       "    </tr>\n",
       "    <tr>\n",
       "      <th>661746</th>\n",
       "      <td>QjyVGBDNTHLZq+jSGCnyZNmDNmOygedtzDvbbik1wAQ=</td>\n",
       "      <td>1.0</td>\n",
       "      <td>0.0</td>\n",
       "      <td>0.0</td>\n",
       "      <td>440.0</td>\n",
       "      <td>7.639642</td>\n",
       "      <td>6.018593</td>\n",
       "      <td>7.489412</td>\n",
       "      <td>7.489412</td>\n",
       "      <td>0.0</td>\n",
       "      <td>0.0</td>\n",
       "      <td>13</td>\n",
       "      <td>female</td>\n",
       "      <td>9</td>\n",
       "      <td>46.0</td>\n",
       "      <td>0.0</td>\n",
       "      <td>0.0</td>\n",
       "      <td>1.0</td>\n",
       "    </tr>\n",
       "    <tr>\n",
       "      <th>661747</th>\n",
       "      <td>123uwg2TXBzzWK+CzULfvUWlrMaJy7OnuPTkCT53IYc=</td>\n",
       "      <td>0.0</td>\n",
       "      <td>0.0</td>\n",
       "      <td>0.0</td>\n",
       "      <td>516.0</td>\n",
       "      <td>6.526495</td>\n",
       "      <td>3.433987</td>\n",
       "      <td>4.605170</td>\n",
       "      <td>4.605170</td>\n",
       "      <td>1.0</td>\n",
       "      <td>0.0</td>\n",
       "      <td>5</td>\n",
       "      <td>female</td>\n",
       "      <td>7</td>\n",
       "      <td>27.0</td>\n",
       "      <td>0.0</td>\n",
       "      <td>0.0</td>\n",
       "      <td>1.0</td>\n",
       "    </tr>\n",
       "  </tbody>\n",
       "</table>\n",
       "<p>661748 rows × 18 columns</p>\n",
       "</div>"
      ],
      "text/plain": [
       "                                                msno  event  n_prev_churns  \\\n",
       "0       O77INmOJUmfNOpkjIKDqUg2mspqVilbeIZNMeA9uSPI=    1.0            0.0   \n",
       "1       i7Rxt2tQegmPFrnn7gkeETBhWCAJ5TSuo5/hlp/nlWk=    1.0            0.0   \n",
       "2       y6oqfjpx42uMgAhqw75FzQWfPE/2JKe0TkLfHyCcdIY=    1.0            0.0   \n",
       "3       y6oqfjpx42uMgAhqw75FzQWfPE/2JKe0TkLfHyCcdIY=    1.0            1.0   \n",
       "4       ovOeCMa24deYRZkxKq9DLVCg0HYxFH3UC0kvluRr7hg=    1.0            0.0   \n",
       "...                                              ...    ...            ...   \n",
       "661743  oDvTbXiI3lFVVP7FwP5S7902FHg43QxywIaL+ph362U=    1.0            0.0   \n",
       "661744  /gHyWzlbA/hSJUPaOPySmPPZg77knoIyRFxmnbVdfq8=    1.0            0.0   \n",
       "661745  rvOvNfogF1rvCJ42ZHPmgflxaXm2Ix+vxizd/A4MDKM=    1.0            0.0   \n",
       "661746  QjyVGBDNTHLZq+jSGCnyZNmDNmOygedtzDvbbik1wAQ=    1.0            0.0   \n",
       "661747  123uwg2TXBzzWK+CzULfvUWlrMaJy7OnuPTkCT53IYc=    0.0            0.0   \n",
       "\n",
       "        log_days_between_subs  duration  log_days_since_reg_init  \\\n",
       "0                         0.0      15.0                 0.693147   \n",
       "1                         0.0     410.0                 3.583519   \n",
       "2                         0.0     410.0                 7.852439   \n",
       "3                         0.0     138.0                 8.045268   \n",
       "4                         0.0     393.0                 0.693147   \n",
       "...                       ...       ...                      ...   \n",
       "661743                    0.0     394.0                 3.044523   \n",
       "661744                    0.0      28.0                 0.000000   \n",
       "661745                    0.0       3.0                 4.672829   \n",
       "661746                    0.0     440.0                 7.639642   \n",
       "661747                    0.0     516.0                 6.526495   \n",
       "\n",
       "        log_payment_plan_days  log_plan_list_price  log_actual_amount_paid  \\\n",
       "0                    2.708050             0.000000                0.000000   \n",
       "1                    6.018593             7.489412                7.489412   \n",
       "2                    3.465736             5.010635                5.010635   \n",
       "3                    3.433987             5.010635                5.010635   \n",
       "4                    5.278115             6.796824                6.796824   \n",
       "...                       ...                  ...                     ...   \n",
       "661743               3.465736             5.010635                5.010635   \n",
       "661744               3.433987             5.010635                0.000000   \n",
       "661745               2.079442             0.000000                0.000000   \n",
       "661746               6.018593             7.489412                7.489412   \n",
       "661747               3.433987             4.605170                4.605170   \n",
       "\n",
       "        is_auto_renew  is_cancel city  gender registered_via  age_at_start  \\\n",
       "0                 0.0        0.0    1     NaN              9           0.0   \n",
       "1                 0.0        0.0   13    male              3          49.0   \n",
       "2                 1.0        0.0   22    male              9          29.0   \n",
       "3                 1.0        0.0   22    male              9          30.0   \n",
       "4                 0.0        0.0    5  female              9          20.0   \n",
       "...               ...        ...  ...     ...            ...           ...   \n",
       "661743            1.0        0.0    5  female              3          24.0   \n",
       "661744            1.0        0.0  NaN     NaN            NaN          -1.0   \n",
       "661745            0.0        0.0    1     NaN              9           0.0   \n",
       "661746            0.0        0.0   13  female              9          46.0   \n",
       "661747            1.0        0.0    5  female              7          27.0   \n",
       "\n",
       "        strange_age  nan_days_since_reg_init  no_prev_churns  \n",
       "0               1.0                      0.0             1.0  \n",
       "1               0.0                      0.0             1.0  \n",
       "2               0.0                      0.0             1.0  \n",
       "3               0.0                      0.0             0.0  \n",
       "4               0.0                      0.0             1.0  \n",
       "...             ...                      ...             ...  \n",
       "661743          0.0                      0.0             1.0  \n",
       "661744          0.0                      1.0             1.0  \n",
       "661745          1.0                      0.0             1.0  \n",
       "661746          0.0                      0.0             1.0  \n",
       "661747          0.0                      0.0             1.0  \n",
       "\n",
       "[661748 rows x 18 columns]"
      ]
     },
     "execution_count": 7,
     "metadata": {},
     "output_type": "execute_result"
    }
   ],
   "source": [
    "test = kkbox_v1.read_df(subset=\"test\")\n",
    "test"
   ]
  },
  {
   "cell_type": "code",
   "execution_count": 8,
   "id": "2c0bfd3e-27cc-425a-a3a0-ad301a0cb9a7",
   "metadata": {},
   "outputs": [
    {
     "data": {
      "text/plain": [
       "1582202"
      ]
     },
     "execution_count": 8,
     "metadata": {},
     "output_type": "execute_result"
    }
   ],
   "source": [
    "train.msno.nunique()"
   ]
  },
  {
   "cell_type": "code",
   "execution_count": 9,
   "id": "2d4dff8e-1c2b-470a-9485-48fcd19a975e",
   "metadata": {},
   "outputs": [
    {
     "data": {
      "text/plain": [
       "msno                            0\n",
       "event                           0\n",
       "n_prev_churns                   0\n",
       "log_days_between_subs           0\n",
       "duration                        0\n",
       "log_days_since_reg_init         0\n",
       "log_payment_plan_days           0\n",
       "log_plan_list_price             0\n",
       "log_actual_amount_paid          0\n",
       "is_auto_renew                   0\n",
       "is_cancel                       0\n",
       "city                       290209\n",
       "gender                     990092\n",
       "registered_via             290209\n",
       "age_at_start                    0\n",
       "strange_age                     0\n",
       "nan_days_since_reg_init         0\n",
       "no_prev_churns                  0\n",
       "dtype: int64"
      ]
     },
     "execution_count": 9,
     "metadata": {},
     "output_type": "execute_result"
    }
   ],
   "source": [
    "train.isna().sum()"
   ]
  },
  {
   "cell_type": "code",
   "execution_count": 10,
   "id": "21ae6d3d-3bc9-42b8-af62-cfcf27b06b85",
   "metadata": {},
   "outputs": [],
   "source": [
    "def replace_nan(df):\n",
    "    df[\"gender\"] = df[\"gender\"].astype(str)\n",
    "    gender_map = dict(zip(df[\"gender\"].unique(), range(df[\"gender\"].nunique())))\n",
    "    df[\"gender\"] = df[\"gender\"].map(gender_map)\n",
    "    \n",
    "    df[\"city\"] = df[\"city\"].astype(str).replace(\"nan\", -1).astype(int)\n",
    "    \n",
    "    df[\"registered_via\"] = df[\"registered_via\"].astype(str).replace(\"nan\", -1).astype(int)"
   ]
  },
  {
   "cell_type": "code",
   "execution_count": 11,
   "id": "42b5b533-222f-4bbc-adb9-b81c999f8b86",
   "metadata": {},
   "outputs": [],
   "source": [
    "for df in [train, test, val]:\n",
    "    replace_nan(df)"
   ]
  },
  {
   "cell_type": "code",
   "execution_count": 12,
   "id": "674ec33a-168a-41c6-a5d0-3d94af40a53d",
   "metadata": {},
   "outputs": [],
   "source": [
    "from sksurv.datasets import get_x_y\n",
    "\n",
    "# remove ID from covariates\n",
    "cols = list(set(train.columns) - {\"msno\"})\n",
    "\n",
    "X_train, y_train = get_x_y(train[cols], (\"event\", \"duration\"), pos_label=1)\n",
    "X_test, y_test = get_x_y(test[cols], (\"event\", \"duration\"), pos_label=1)\n",
    "X_val, y_val = get_x_y(val[cols], (\"event\", \"duration\"), pos_label=1)"
   ]
  },
  {
   "cell_type": "markdown",
   "id": "27d7db2a-2f8c-4c16-9aaf-11df62199976",
   "metadata": {},
   "source": [
    "## Fit some baselines models"
   ]
  },
  {
   "cell_type": "code",
   "execution_count": 13,
   "id": "62daec05-0392-4272-b5f0-6e05816cc718",
   "metadata": {},
   "outputs": [],
   "source": [
    "y_time = np.hstack([y_train[\"duration\"], y_test[\"duration\"], y_val[\"duration\"]])\n",
    "lower, upper = np.percentile(y_time, [10, 90])\n",
    "times = np.linspace(lower, upper, 100)"
   ]
  },
  {
   "cell_type": "code",
   "execution_count": 22,
   "id": "cdf77e97-3b3d-484c-b866-0a095adcbb82",
   "metadata": {},
   "outputs": [],
   "source": [
    "import pickle\n",
    "from pathlib import Path\n",
    "\n",
    "from sksurv.metrics import (\n",
    "    brier_score,\n",
    "    integrated_brier_score,\n",
    "    cumulative_dynamic_auc,\n",
    "    concordance_index_censored,\n",
    "    concordance_index_ipcw,\n",
    ")\n",
    "\n",
    "\n",
    "def get_scores(model, y_train, X_test, y_test, times):\n",
    "\n",
    "    survival_probs = model.predict_survival_function(X_test, return_array=True)\n",
    "    #cumulative_hazards = model.predict_cumulative_hazard_function(X_test, return_array=True)\n",
    "    #risk_estimate = cumulative_hazards.sum(axis=1)\n",
    "\n",
    "    _, brier_scores = brier_score(y_train, y_test, survival_probs, times)\n",
    "    ibs = integrated_brier_score(y_train, y_test, survival_probs, times)\n",
    "    \n",
    "    #auc, mean_auc = cumulative_dynamic_auc(y_train, y_test, cumulative_hazards, times)\n",
    "    \n",
    "    #c_index = concordance_index_censored(y_test[\"event\"], y_test[\"duration\"], risk_estimate)[0]\n",
    "    #c_index_ipcw = concordance_index_ipcw(y_train, y_test, risk_estimate)[0]\n",
    "    \n",
    "    return dict(\n",
    "        brier_scores=brier_scores,\n",
    "        ibs=ibs,\n",
    "        #auc=auc,\n",
    "        #mean_auc=mean_auc,\n",
    "        #c_index=c_index,\n",
    "        #c_index_ipcw=c_index_ipcw,\n",
    "    )\n",
    "\n",
    "\n",
    "def save_scores(name, scores):\n",
    "    path = _make_path(name, create_dir=True)\n",
    "    pickle.dump(scores, open(path, \"wb+\"))\n",
    "\n",
    "    \n",
    "def load_scores(name):\n",
    "    path = _make_path(name, create_dir=False)\n",
    "    return pickle.load(open(path, \"rb\"))\n",
    "    \n",
    "    \n",
    "def _make_path(name, create_dir):\n",
    "    path = Path(os.getenv(\"PYCOX_DATA_DIR\")) / \"kkbox_v1\" / \"results\"\n",
    "    if create_dir:\n",
    "        path.mkdir(exist_ok=True, parents=True)\n",
    "    return path / f\"{name}.pkl\""
   ]
  },
  {
   "cell_type": "markdown",
   "id": "e6bec371-90f1-48ba-97db-efc93d4f926b",
   "metadata": {},
   "source": [
    "### `MetaGridBC`"
   ]
  },
  {
   "cell_type": "code",
   "execution_count": null,
   "id": "129e9253-9111-437d-a151-71ce6dc8ebcc",
   "metadata": {},
   "outputs": [],
   "source": [
    "%%time\n",
    "\n",
    "from sklearn.linear_model import LogisticRegression\n",
    "\n",
    "from models.grid_bc.meta_grid_bc import MetaGridBC\n",
    "\n",
    "lr_params = dict(\n",
    "    C=1e-3, max_iter=500\n",
    ")\n",
    "meta_grid_bc = MetaGridBC(\n",
    "    LogisticRegression(**lr_params),\n",
    "    verbose=False,\n",
    "    n_jobs=4\n",
    ").fit(X_train.values, y_train, time_bins=times)"
   ]
  },
  {
   "cell_type": "code",
   "execution_count": 28,
   "id": "671f8c89-55ac-4e78-ac04-79b4d382814f",
   "metadata": {},
   "outputs": [
    {
     "name": "stdout",
     "output_type": "stream",
     "text": [
      "CPU times: user 7.03 s, sys: 2.13 s, total: 9.16 s\n",
      "Wall time: 9.52 s\n"
     ]
    },
    {
     "data": {
      "text/plain": [
       "0.12189036752628472"
      ]
     },
     "execution_count": 28,
     "metadata": {},
     "output_type": "execute_result"
    }
   ],
   "source": [
    "%%time\n",
    "\n",
    "scores = get_scores(meta_grid_bc, y_train, X_test.values, y_test, times)\n",
    "save_scores(\"meta_grid_bc\", scores)\n",
    "scores[\"ibs\"]"
   ]
  },
  {
   "cell_type": "markdown",
   "id": "fa1c2d9b-a6fb-4e7c-99a2-6e6efbcf88b3",
   "metadata": {},
   "source": [
    "### `NaiveForestGridBC`: `RandomForestRegressor` + `MetaGridBC`"
   ]
  },
  {
   "cell_type": "code",
   "execution_count": 18,
   "id": "24914e61-23e3-44fc-b8ab-3c4d4132ae2e",
   "metadata": {},
   "outputs": [
    {
     "name": "stderr",
     "output_type": "stream",
     "text": [
      "[Parallel(n_jobs=4)]: Using backend ThreadingBackend with 4 concurrent workers.\n",
      "[Parallel(n_jobs=4)]: Done  30 out of  30 | elapsed:   25.8s finished\n",
      "[Parallel(n_jobs=4)]: Using backend ThreadingBackend with 4 concurrent workers.\n",
      "[Parallel(n_jobs=4)]: Done  30 out of  30 | elapsed:    0.7s finished\n",
      "[Parallel(n_jobs=4)]: Using backend LokyBackend with 4 concurrent workers.\n",
      "[Parallel(n_jobs=4)]: Done  42 tasks      | elapsed:   56.6s\n",
      "[Parallel(n_jobs=4)]: Done 100 out of 100 | elapsed:  1.3min finished\n"
     ]
    },
    {
     "name": "stdout",
     "output_type": "stream",
     "text": [
      "CPU times: user 1min 47s, sys: 5.07 s, total: 1min 52s\n",
      "Wall time: 1min 59s\n"
     ]
    }
   ],
   "source": [
    "%%time\n",
    "\n",
    "from sklearn.pipeline import make_pipeline\n",
    "from sklearn.linear_model import LogisticRegression\n",
    "from sklearn.ensemble import RandomForestRegressor\n",
    "\n",
    "from models.tree_transformer import TreeTransformer\n",
    "from models.meta_grid_bc import MetaGridBC\n",
    "\n",
    "rf_params = dict(\n",
    "    min_samples_leaf=100,\n",
    "    max_leaf_nodes=100,\n",
    "    n_estimators=30,\n",
    "    max_features=8,\n",
    "    n_jobs=4,\n",
    "    verbose=True,\n",
    ")\n",
    "lr_params = dict(\n",
    "    C=1e-3, max_iter=500\n",
    ")\n",
    "forest_grid_bc = make_pipeline(\n",
    "    TreeTransformer(\n",
    "        RandomForestRegressor(**rf_params)\n",
    "    ),  # ignores censoring\n",
    "    MetaGridBC(\n",
    "        LogisticRegression(**lr_params),\n",
    "        verbose=True,\n",
    "        n_jobs=4\n",
    "    ),\n",
    ").fit(X_train.values, y_train, metagridbc__time_bins=times)"
   ]
  },
  {
   "cell_type": "code",
   "execution_count": 139,
   "id": "7647dc1f-ab9f-4f8c-a0f2-4451a2b694f5",
   "metadata": {},
   "outputs": [
    {
     "data": {
      "text/html": [
       "<style>#sk-container-id-5 {color: black;background-color: white;}#sk-container-id-5 pre{padding: 0;}#sk-container-id-5 div.sk-toggleable {background-color: white;}#sk-container-id-5 label.sk-toggleable__label {cursor: pointer;display: block;width: 100%;margin-bottom: 0;padding: 0.3em;box-sizing: border-box;text-align: center;}#sk-container-id-5 label.sk-toggleable__label-arrow:before {content: \"▸\";float: left;margin-right: 0.25em;color: #696969;}#sk-container-id-5 label.sk-toggleable__label-arrow:hover:before {color: black;}#sk-container-id-5 div.sk-estimator:hover label.sk-toggleable__label-arrow:before {color: black;}#sk-container-id-5 div.sk-toggleable__content {max-height: 0;max-width: 0;overflow: hidden;text-align: left;background-color: #f0f8ff;}#sk-container-id-5 div.sk-toggleable__content pre {margin: 0.2em;color: black;border-radius: 0.25em;background-color: #f0f8ff;}#sk-container-id-5 input.sk-toggleable__control:checked~div.sk-toggleable__content {max-height: 200px;max-width: 100%;overflow: auto;}#sk-container-id-5 input.sk-toggleable__control:checked~label.sk-toggleable__label-arrow:before {content: \"▾\";}#sk-container-id-5 div.sk-estimator input.sk-toggleable__control:checked~label.sk-toggleable__label {background-color: #d4ebff;}#sk-container-id-5 div.sk-label input.sk-toggleable__control:checked~label.sk-toggleable__label {background-color: #d4ebff;}#sk-container-id-5 input.sk-hidden--visually {border: 0;clip: rect(1px 1px 1px 1px);clip: rect(1px, 1px, 1px, 1px);height: 1px;margin: -1px;overflow: hidden;padding: 0;position: absolute;width: 1px;}#sk-container-id-5 div.sk-estimator {font-family: monospace;background-color: #f0f8ff;border: 1px dotted black;border-radius: 0.25em;box-sizing: border-box;margin-bottom: 0.5em;}#sk-container-id-5 div.sk-estimator:hover {background-color: #d4ebff;}#sk-container-id-5 div.sk-parallel-item::after {content: \"\";width: 100%;border-bottom: 1px solid gray;flex-grow: 1;}#sk-container-id-5 div.sk-label:hover label.sk-toggleable__label {background-color: #d4ebff;}#sk-container-id-5 div.sk-serial::before {content: \"\";position: absolute;border-left: 1px solid gray;box-sizing: border-box;top: 0;bottom: 0;left: 50%;z-index: 0;}#sk-container-id-5 div.sk-serial {display: flex;flex-direction: column;align-items: center;background-color: white;padding-right: 0.2em;padding-left: 0.2em;position: relative;}#sk-container-id-5 div.sk-item {position: relative;z-index: 1;}#sk-container-id-5 div.sk-parallel {display: flex;align-items: stretch;justify-content: center;background-color: white;position: relative;}#sk-container-id-5 div.sk-item::before, #sk-container-id-5 div.sk-parallel-item::before {content: \"\";position: absolute;border-left: 1px solid gray;box-sizing: border-box;top: 0;bottom: 0;left: 50%;z-index: -1;}#sk-container-id-5 div.sk-parallel-item {display: flex;flex-direction: column;z-index: 1;position: relative;background-color: white;}#sk-container-id-5 div.sk-parallel-item:first-child::after {align-self: flex-end;width: 50%;}#sk-container-id-5 div.sk-parallel-item:last-child::after {align-self: flex-start;width: 50%;}#sk-container-id-5 div.sk-parallel-item:only-child::after {width: 0;}#sk-container-id-5 div.sk-dashed-wrapped {border: 1px dashed gray;margin: 0 0.4em 0.5em 0.4em;box-sizing: border-box;padding-bottom: 0.4em;background-color: white;}#sk-container-id-5 div.sk-label label {font-family: monospace;font-weight: bold;display: inline-block;line-height: 1.2em;}#sk-container-id-5 div.sk-label-container {text-align: center;}#sk-container-id-5 div.sk-container {/* jupyter's `normalize.less` sets `[hidden] { display: none; }` but bootstrap.min.css set `[hidden] { display: none !important; }` so we also need the `!important` here to be able to override the default hidden behavior on the sphinx rendered scikit-learn.org. See: https://github.com/scikit-learn/scikit-learn/issues/21755 */display: inline-block !important;position: relative;}#sk-container-id-5 div.sk-text-repr-fallback {display: none;}</style><div id=\"sk-container-id-5\" class=\"sk-top-container\"><div class=\"sk-text-repr-fallback\"><pre>Pipeline(steps=[(&#x27;treetransformer&#x27;,\n",
       "                 TreeTransformer(base_estimator=RandomForestRegressor(max_features=8,\n",
       "                                                                      max_leaf_nodes=100,\n",
       "                                                                      min_samples_leaf=100,\n",
       "                                                                      n_estimators=30,\n",
       "                                                                      n_jobs=4,\n",
       "                                                                      verbose=True))),\n",
       "                (&#x27;metagridbc&#x27;,\n",
       "                 MetaGridBC(classifier=LogisticRegression(C=0.001,\n",
       "                                                          max_iter=500),\n",
       "                            n_jobs=4, verbose=True))])</pre><b>In a Jupyter environment, please rerun this cell to show the HTML representation or trust the notebook. <br />On GitHub, the HTML representation is unable to render, please try loading this page with nbviewer.org.</b></div><div class=\"sk-container\" hidden><div class=\"sk-item sk-dashed-wrapped\"><div class=\"sk-label-container\"><div class=\"sk-label sk-toggleable\"><input class=\"sk-toggleable__control sk-hidden--visually\" id=\"sk-estimator-id-21\" type=\"checkbox\" ><label for=\"sk-estimator-id-21\" class=\"sk-toggleable__label sk-toggleable__label-arrow\">Pipeline</label><div class=\"sk-toggleable__content\"><pre>Pipeline(steps=[(&#x27;treetransformer&#x27;,\n",
       "                 TreeTransformer(base_estimator=RandomForestRegressor(max_features=8,\n",
       "                                                                      max_leaf_nodes=100,\n",
       "                                                                      min_samples_leaf=100,\n",
       "                                                                      n_estimators=30,\n",
       "                                                                      n_jobs=4,\n",
       "                                                                      verbose=True))),\n",
       "                (&#x27;metagridbc&#x27;,\n",
       "                 MetaGridBC(classifier=LogisticRegression(C=0.001,\n",
       "                                                          max_iter=500),\n",
       "                            n_jobs=4, verbose=True))])</pre></div></div></div><div class=\"sk-serial\"><div class=\"sk-item sk-dashed-wrapped\"><div class=\"sk-label-container\"><div class=\"sk-label sk-toggleable\"><input class=\"sk-toggleable__control sk-hidden--visually\" id=\"sk-estimator-id-22\" type=\"checkbox\" ><label for=\"sk-estimator-id-22\" class=\"sk-toggleable__label sk-toggleable__label-arrow\">treetransformer: TreeTransformer</label><div class=\"sk-toggleable__content\"><pre>TreeTransformer(base_estimator=RandomForestRegressor(max_features=8,\n",
       "                                                     max_leaf_nodes=100,\n",
       "                                                     min_samples_leaf=100,\n",
       "                                                     n_estimators=30, n_jobs=4,\n",
       "                                                     verbose=True))</pre></div></div></div><div class=\"sk-parallel\"><div class=\"sk-parallel-item\"><div class=\"sk-item\"><div class=\"sk-label-container\"><div class=\"sk-label sk-toggleable\"><input class=\"sk-toggleable__control sk-hidden--visually\" id=\"sk-estimator-id-23\" type=\"checkbox\" ><label for=\"sk-estimator-id-23\" class=\"sk-toggleable__label sk-toggleable__label-arrow\">base_estimator: RandomForestRegressor</label><div class=\"sk-toggleable__content\"><pre>RandomForestRegressor(max_features=8, max_leaf_nodes=100, min_samples_leaf=100,\n",
       "                      n_estimators=30, n_jobs=4, verbose=True)</pre></div></div></div><div class=\"sk-serial\"><div class=\"sk-item\"><div class=\"sk-estimator sk-toggleable\"><input class=\"sk-toggleable__control sk-hidden--visually\" id=\"sk-estimator-id-24\" type=\"checkbox\" ><label for=\"sk-estimator-id-24\" class=\"sk-toggleable__label sk-toggleable__label-arrow\">RandomForestRegressor</label><div class=\"sk-toggleable__content\"><pre>RandomForestRegressor(max_features=8, max_leaf_nodes=100, min_samples_leaf=100,\n",
       "                      n_estimators=30, n_jobs=4, verbose=True)</pre></div></div></div></div></div></div></div></div><div class=\"sk-item sk-dashed-wrapped\"><div class=\"sk-label-container\"><div class=\"sk-label sk-toggleable\"><input class=\"sk-toggleable__control sk-hidden--visually\" id=\"sk-estimator-id-25\" type=\"checkbox\" ><label for=\"sk-estimator-id-25\" class=\"sk-toggleable__label sk-toggleable__label-arrow\">metagridbc: MetaGridBC</label><div class=\"sk-toggleable__content\"><pre>MetaGridBC(classifier=LogisticRegression(C=0.001, max_iter=500), n_jobs=4,\n",
       "           verbose=True)</pre></div></div></div><div class=\"sk-parallel\"><div class=\"sk-parallel-item\"><div class=\"sk-item\"><div class=\"sk-label-container\"><div class=\"sk-label sk-toggleable\"><input class=\"sk-toggleable__control sk-hidden--visually\" id=\"sk-estimator-id-26\" type=\"checkbox\" ><label for=\"sk-estimator-id-26\" class=\"sk-toggleable__label sk-toggleable__label-arrow\">classifier: LogisticRegression</label><div class=\"sk-toggleable__content\"><pre>LogisticRegression(C=0.001, max_iter=500)</pre></div></div></div><div class=\"sk-serial\"><div class=\"sk-item\"><div class=\"sk-estimator sk-toggleable\"><input class=\"sk-toggleable__control sk-hidden--visually\" id=\"sk-estimator-id-27\" type=\"checkbox\" ><label for=\"sk-estimator-id-27\" class=\"sk-toggleable__label sk-toggleable__label-arrow\">LogisticRegression</label><div class=\"sk-toggleable__content\"><pre>LogisticRegression(C=0.001, max_iter=500)</pre></div></div></div></div></div></div></div></div></div></div></div></div>"
      ],
      "text/plain": [
       "Pipeline(steps=[('treetransformer',\n",
       "                 TreeTransformer(base_estimator=RandomForestRegressor(max_features=8,\n",
       "                                                                      max_leaf_nodes=100,\n",
       "                                                                      min_samples_leaf=100,\n",
       "                                                                      n_estimators=30,\n",
       "                                                                      n_jobs=4,\n",
       "                                                                      verbose=True))),\n",
       "                ('metagridbc',\n",
       "                 MetaGridBC(classifier=LogisticRegression(C=0.001,\n",
       "                                                          max_iter=500),\n",
       "                            n_jobs=4, verbose=True))])"
      ]
     },
     "execution_count": 139,
     "metadata": {},
     "output_type": "execute_result"
    }
   ],
   "source": [
    "forest_grid_bc"
   ]
  },
  {
   "cell_type": "code",
   "execution_count": 24,
   "id": "561b17f7-f432-4ec6-bdff-62fceab2d737",
   "metadata": {},
   "outputs": [
    {
     "data": {
      "text/plain": [
       "0.10595109346510202"
      ]
     },
     "execution_count": 24,
     "metadata": {},
     "output_type": "execute_result"
    }
   ],
   "source": [
    "%%time\n",
    "\n",
    "scores = get_scores(forest_grid_bc, y_train, X_test, y_test, times)\n",
    "save_scores(\"forest_grid_bc\", scores)\n",
    "scores[\"ibs\"]"
   ]
  },
  {
   "cell_type": "markdown",
   "id": "43d0bd81-a33b-417f-b6f4-18f771d70686",
   "metadata": {},
   "source": [
    "### `SurvivalForestGridBC`: `RandomSurvivalForest` + `MetaGridBC`"
   ]
  },
  {
   "cell_type": "code",
   "execution_count": 36,
   "id": "d8766eb5-91dd-4b3f-90a8-c7a3f2eab422",
   "metadata": {},
   "outputs": [
    {
     "name": "stderr",
     "output_type": "stream",
     "text": [
      "[Parallel(n_jobs=4)]: Using backend ThreadingBackend with 4 concurrent workers.\n",
      "[Parallel(n_jobs=4)]: Done  30 out of  30 | elapsed:  4.7min finished\n",
      "[Parallel(n_jobs=4)]: Using backend ThreadingBackend with 4 concurrent workers.\n",
      "[Parallel(n_jobs=4)]: Done  30 out of  30 | elapsed:    0.8s finished\n",
      "[Parallel(n_jobs=4)]: Using backend LokyBackend with 4 concurrent workers.\n",
      "[Parallel(n_jobs=4)]: Done  42 tasks      | elapsed:   46.7s\n",
      "/Users/vincentmaladiere/mambaforge/envs/skurvival/lib/python3.10/site-packages/joblib/externals/loky/process_executor.py:702: UserWarning: A worker stopped while some jobs were given to the executor. This can be caused by a too short worker timeout or by a memory leak.\n",
      "  warnings.warn(\n",
      "[Parallel(n_jobs=4)]: Done 100 out of 100 | elapsed:  1.1min finished\n"
     ]
    },
    {
     "name": "stdout",
     "output_type": "stream",
     "text": [
      "CPU times: user 19min 11s, sys: 10.5 s, total: 19min 21s\n",
      "Wall time: 6min 4s\n"
     ]
    }
   ],
   "source": [
    "%%time\n",
    "\n",
    "from sksurv.ensemble import RandomSurvivalForest\n",
    "\n",
    "rf_params = dict(\n",
    "    min_samples_leaf=100,\n",
    "    max_leaf_nodes=100,\n",
    "    n_estimators=30,\n",
    "    max_features=8,\n",
    "    n_jobs=4,\n",
    "    verbose=True,\n",
    ")\n",
    "lr_params = dict(\n",
    "    C=1e-3, max_iter=500\n",
    ")\n",
    "survival_forest_grid_bc = make_pipeline(\n",
    "    TreeTransformer(\n",
    "        RandomSurvivalForest(**rf_params),\n",
    "        handle_survival_target=True,  # activate censoring (fit on full y instead on y_duration)\n",
    "        subsample=.05,  # subsample to fit the RandomSurvivalForest faster\n",
    "    ),  \n",
    "    MetaGridBC(\n",
    "        LogisticRegression(**lr_params),\n",
    "        verbose=True,\n",
    "        n_jobs=4,\n",
    "    ),\n",
    ").fit(X_train.values, y_train, metagridbc__time_bins=times)"
   ]
  },
  {
   "cell_type": "code",
   "execution_count": 37,
   "id": "9a40a9f8-b659-4232-a346-a3017b74064d",
   "metadata": {},
   "outputs": [
    {
     "name": "stderr",
     "output_type": "stream",
     "text": [
      "[Parallel(n_jobs=4)]: Using backend ThreadingBackend with 4 concurrent workers.\n",
      "[Parallel(n_jobs=4)]: Done  30 out of  30 | elapsed:    0.3s finished\n"
     ]
    },
    {
     "name": "stdout",
     "output_type": "stream",
     "text": [
      "CPU times: user 9.4 s, sys: 2.24 s, total: 11.6 s\n",
      "Wall time: 13.6 s\n"
     ]
    },
    {
     "data": {
      "text/plain": [
       "0.10674772794993534"
      ]
     },
     "execution_count": 37,
     "metadata": {},
     "output_type": "execute_result"
    }
   ],
   "source": [
    "%%time\n",
    "\n",
    "scores = get_scores(survival_forest_grid_bc, y_train, X_test.values, y_test, times)\n",
    "save_scores(\"survival_forest_grid_bc\", scores)\n",
    "scores[\"ibs\"]"
   ]
  },
  {
   "cell_type": "markdown",
   "id": "5563544e-ad31-4c0d-a6b3-40fbcedc3c8e",
   "metadata": {},
   "source": [
    "TODO: Cross val to see if that slight gap sticks"
   ]
  },
  {
   "cell_type": "markdown",
   "id": "76d13810-27e8-4224-98cc-7af4c4271d4d",
   "metadata": {},
   "source": [
    "### `NaiveForestKaplanNeighbors`: `RandomForestRegressor` + `KaplanNeighbors`"
   ]
  },
  {
   "cell_type": "code",
   "execution_count": 70,
   "id": "5f0b9143-f575-4c7c-939c-d79b4279f676",
   "metadata": {},
   "outputs": [
    {
     "name": "stderr",
     "output_type": "stream",
     "text": [
      "[Parallel(n_jobs=4)]: Using backend ThreadingBackend with 4 concurrent workers.\n",
      "[Parallel(n_jobs=4)]: Done  30 out of  30 | elapsed:   23.0s finished\n",
      "[Parallel(n_jobs=4)]: Using backend ThreadingBackend with 4 concurrent workers.\n",
      "[Parallel(n_jobs=4)]: Done  30 out of  30 | elapsed:    0.7s finished\n"
     ]
    },
    {
     "name": "stdout",
     "output_type": "stream",
     "text": [
      "CPU times: user 1min 35s, sys: 1.67 s, total: 1min 36s\n",
      "Wall time: 32.1 s\n"
     ]
    },
    {
     "data": {
      "text/html": [
       "<style>#sk-container-id-4 {color: black;background-color: white;}#sk-container-id-4 pre{padding: 0;}#sk-container-id-4 div.sk-toggleable {background-color: white;}#sk-container-id-4 label.sk-toggleable__label {cursor: pointer;display: block;width: 100%;margin-bottom: 0;padding: 0.3em;box-sizing: border-box;text-align: center;}#sk-container-id-4 label.sk-toggleable__label-arrow:before {content: \"▸\";float: left;margin-right: 0.25em;color: #696969;}#sk-container-id-4 label.sk-toggleable__label-arrow:hover:before {color: black;}#sk-container-id-4 div.sk-estimator:hover label.sk-toggleable__label-arrow:before {color: black;}#sk-container-id-4 div.sk-toggleable__content {max-height: 0;max-width: 0;overflow: hidden;text-align: left;background-color: #f0f8ff;}#sk-container-id-4 div.sk-toggleable__content pre {margin: 0.2em;color: black;border-radius: 0.25em;background-color: #f0f8ff;}#sk-container-id-4 input.sk-toggleable__control:checked~div.sk-toggleable__content {max-height: 200px;max-width: 100%;overflow: auto;}#sk-container-id-4 input.sk-toggleable__control:checked~label.sk-toggleable__label-arrow:before {content: \"▾\";}#sk-container-id-4 div.sk-estimator input.sk-toggleable__control:checked~label.sk-toggleable__label {background-color: #d4ebff;}#sk-container-id-4 div.sk-label input.sk-toggleable__control:checked~label.sk-toggleable__label {background-color: #d4ebff;}#sk-container-id-4 input.sk-hidden--visually {border: 0;clip: rect(1px 1px 1px 1px);clip: rect(1px, 1px, 1px, 1px);height: 1px;margin: -1px;overflow: hidden;padding: 0;position: absolute;width: 1px;}#sk-container-id-4 div.sk-estimator {font-family: monospace;background-color: #f0f8ff;border: 1px dotted black;border-radius: 0.25em;box-sizing: border-box;margin-bottom: 0.5em;}#sk-container-id-4 div.sk-estimator:hover {background-color: #d4ebff;}#sk-container-id-4 div.sk-parallel-item::after {content: \"\";width: 100%;border-bottom: 1px solid gray;flex-grow: 1;}#sk-container-id-4 div.sk-label:hover label.sk-toggleable__label {background-color: #d4ebff;}#sk-container-id-4 div.sk-serial::before {content: \"\";position: absolute;border-left: 1px solid gray;box-sizing: border-box;top: 0;bottom: 0;left: 50%;z-index: 0;}#sk-container-id-4 div.sk-serial {display: flex;flex-direction: column;align-items: center;background-color: white;padding-right: 0.2em;padding-left: 0.2em;position: relative;}#sk-container-id-4 div.sk-item {position: relative;z-index: 1;}#sk-container-id-4 div.sk-parallel {display: flex;align-items: stretch;justify-content: center;background-color: white;position: relative;}#sk-container-id-4 div.sk-item::before, #sk-container-id-4 div.sk-parallel-item::before {content: \"\";position: absolute;border-left: 1px solid gray;box-sizing: border-box;top: 0;bottom: 0;left: 50%;z-index: -1;}#sk-container-id-4 div.sk-parallel-item {display: flex;flex-direction: column;z-index: 1;position: relative;background-color: white;}#sk-container-id-4 div.sk-parallel-item:first-child::after {align-self: flex-end;width: 50%;}#sk-container-id-4 div.sk-parallel-item:last-child::after {align-self: flex-start;width: 50%;}#sk-container-id-4 div.sk-parallel-item:only-child::after {width: 0;}#sk-container-id-4 div.sk-dashed-wrapped {border: 1px dashed gray;margin: 0 0.4em 0.5em 0.4em;box-sizing: border-box;padding-bottom: 0.4em;background-color: white;}#sk-container-id-4 div.sk-label label {font-family: monospace;font-weight: bold;display: inline-block;line-height: 1.2em;}#sk-container-id-4 div.sk-label-container {text-align: center;}#sk-container-id-4 div.sk-container {/* jupyter's `normalize.less` sets `[hidden] { display: none; }` but bootstrap.min.css set `[hidden] { display: none !important; }` so we also need the `!important` here to be able to override the default hidden behavior on the sphinx rendered scikit-learn.org. See: https://github.com/scikit-learn/scikit-learn/issues/21755 */display: inline-block !important;position: relative;}#sk-container-id-4 div.sk-text-repr-fallback {display: none;}</style><div id=\"sk-container-id-4\" class=\"sk-top-container\"><div class=\"sk-text-repr-fallback\"><pre>Pipeline(steps=[(&#x27;treetransformer&#x27;,\n",
       "                 TreeTransformer(base_estimator=RandomForestRegressor(max_features=8,\n",
       "                                                                      max_leaf_nodes=100,\n",
       "                                                                      min_samples_leaf=100,\n",
       "                                                                      n_estimators=30,\n",
       "                                                                      n_jobs=4,\n",
       "                                                                      verbose=1))),\n",
       "                (&#x27;kaplanneighbors&#x27;,\n",
       "                 KaplanNeighbors(neighbors_params={&#x27;metric&#x27;: &#x27;cosine&#x27;,\n",
       "                                                   &#x27;n_jobs&#x27;: 4,\n",
       "                                                   &#x27;n_neighbors&#x27;: 30}))])</pre><b>In a Jupyter environment, please rerun this cell to show the HTML representation or trust the notebook. <br />On GitHub, the HTML representation is unable to render, please try loading this page with nbviewer.org.</b></div><div class=\"sk-container\" hidden><div class=\"sk-item sk-dashed-wrapped\"><div class=\"sk-label-container\"><div class=\"sk-label sk-toggleable\"><input class=\"sk-toggleable__control sk-hidden--visually\" id=\"sk-estimator-id-16\" type=\"checkbox\" ><label for=\"sk-estimator-id-16\" class=\"sk-toggleable__label sk-toggleable__label-arrow\">Pipeline</label><div class=\"sk-toggleable__content\"><pre>Pipeline(steps=[(&#x27;treetransformer&#x27;,\n",
       "                 TreeTransformer(base_estimator=RandomForestRegressor(max_features=8,\n",
       "                                                                      max_leaf_nodes=100,\n",
       "                                                                      min_samples_leaf=100,\n",
       "                                                                      n_estimators=30,\n",
       "                                                                      n_jobs=4,\n",
       "                                                                      verbose=1))),\n",
       "                (&#x27;kaplanneighbors&#x27;,\n",
       "                 KaplanNeighbors(neighbors_params={&#x27;metric&#x27;: &#x27;cosine&#x27;,\n",
       "                                                   &#x27;n_jobs&#x27;: 4,\n",
       "                                                   &#x27;n_neighbors&#x27;: 30}))])</pre></div></div></div><div class=\"sk-serial\"><div class=\"sk-item sk-dashed-wrapped\"><div class=\"sk-label-container\"><div class=\"sk-label sk-toggleable\"><input class=\"sk-toggleable__control sk-hidden--visually\" id=\"sk-estimator-id-17\" type=\"checkbox\" ><label for=\"sk-estimator-id-17\" class=\"sk-toggleable__label sk-toggleable__label-arrow\">treetransformer: TreeTransformer</label><div class=\"sk-toggleable__content\"><pre>TreeTransformer(base_estimator=RandomForestRegressor(max_features=8,\n",
       "                                                     max_leaf_nodes=100,\n",
       "                                                     min_samples_leaf=100,\n",
       "                                                     n_estimators=30, n_jobs=4,\n",
       "                                                     verbose=1))</pre></div></div></div><div class=\"sk-parallel\"><div class=\"sk-parallel-item\"><div class=\"sk-item\"><div class=\"sk-label-container\"><div class=\"sk-label sk-toggleable\"><input class=\"sk-toggleable__control sk-hidden--visually\" id=\"sk-estimator-id-18\" type=\"checkbox\" ><label for=\"sk-estimator-id-18\" class=\"sk-toggleable__label sk-toggleable__label-arrow\">base_estimator: RandomForestRegressor</label><div class=\"sk-toggleable__content\"><pre>RandomForestRegressor(max_features=8, max_leaf_nodes=100, min_samples_leaf=100,\n",
       "                      n_estimators=30, n_jobs=4, verbose=1)</pre></div></div></div><div class=\"sk-serial\"><div class=\"sk-item\"><div class=\"sk-estimator sk-toggleable\"><input class=\"sk-toggleable__control sk-hidden--visually\" id=\"sk-estimator-id-19\" type=\"checkbox\" ><label for=\"sk-estimator-id-19\" class=\"sk-toggleable__label sk-toggleable__label-arrow\">RandomForestRegressor</label><div class=\"sk-toggleable__content\"><pre>RandomForestRegressor(max_features=8, max_leaf_nodes=100, min_samples_leaf=100,\n",
       "                      n_estimators=30, n_jobs=4, verbose=1)</pre></div></div></div></div></div></div></div></div><div class=\"sk-item\"><div class=\"sk-estimator sk-toggleable\"><input class=\"sk-toggleable__control sk-hidden--visually\" id=\"sk-estimator-id-20\" type=\"checkbox\" ><label for=\"sk-estimator-id-20\" class=\"sk-toggleable__label sk-toggleable__label-arrow\">KaplanNeighbors</label><div class=\"sk-toggleable__content\"><pre>KaplanNeighbors(neighbors_params={&#x27;metric&#x27;: &#x27;cosine&#x27;, &#x27;n_jobs&#x27;: 4,\n",
       "                                  &#x27;n_neighbors&#x27;: 30})</pre></div></div></div></div></div></div></div>"
      ],
      "text/plain": [
       "Pipeline(steps=[('treetransformer',\n",
       "                 TreeTransformer(base_estimator=RandomForestRegressor(max_features=8,\n",
       "                                                                      max_leaf_nodes=100,\n",
       "                                                                      min_samples_leaf=100,\n",
       "                                                                      n_estimators=30,\n",
       "                                                                      n_jobs=4,\n",
       "                                                                      verbose=1))),\n",
       "                ('kaplanneighbors',\n",
       "                 KaplanNeighbors(neighbors_params={'metric': 'cosine',\n",
       "                                                   'n_jobs': 4,\n",
       "                                                   'n_neighbors': 30}))])"
      ]
     },
     "execution_count": 70,
     "metadata": {},
     "output_type": "execute_result"
    }
   ],
   "source": [
    "%%time\n",
    "\n",
    "from sklearn.pipeline import make_pipeline\n",
    "from sklearn.ensemble import RandomForestRegressor\n",
    "\n",
    "from models.kaplan_neighbors import KaplanNeighbors\n",
    "from models.tree_transformer import TreeTransformer\n",
    "\n",
    "rf_params = dict(\n",
    "    min_samples_leaf=100,\n",
    "    max_leaf_nodes=100,\n",
    "    n_estimators=30,\n",
    "    max_features=8,\n",
    "    n_jobs=4,\n",
    "    verbose=1,\n",
    ")\n",
    "neighbors_params = dict(\n",
    "    n_neighbors=30,\n",
    "    n_jobs=4,\n",
    "    metric=\"cosine\", # TODO test cosine\n",
    ")\n",
    "\n",
    "naive_forest_kn = make_pipeline(\n",
    "    TreeTransformer(\n",
    "        RandomForestRegressor(**rf_params),\n",
    "    ),\n",
    "    KaplanNeighbors(neighbors_params),\n",
    ")\n",
    "naive_forest_kn.fit(X_train.values, y_train, kaplanneighbors__time_bins=times)"
   ]
  },
  {
   "cell_type": "code",
   "execution_count": 71,
   "id": "6689c8ff-2486-48ac-8753-27459954dfca",
   "metadata": {},
   "outputs": [
    {
     "name": "stderr",
     "output_type": "stream",
     "text": [
      "[Parallel(n_jobs=4)]: Using backend ThreadingBackend with 4 concurrent workers.\n",
      "[Parallel(n_jobs=4)]: Done  30 out of  30 | elapsed:    0.0s finished\n"
     ]
    },
    {
     "name": "stdout",
     "output_type": "stream",
     "text": [
      "CPU times: user 1min 46s, sys: 28 s, total: 2min 14s\n",
      "Wall time: 1min 3s\n"
     ]
    },
    {
     "data": {
      "text/plain": [
       "0.10609362006519708"
      ]
     },
     "execution_count": 71,
     "metadata": {},
     "output_type": "execute_result"
    }
   ],
   "source": [
    "%%time\n",
    "\n",
    "scores = get_scores(naive_forest_kn, y_train, X_test.values[:1000], y_test[:1000], times)\n",
    "save_scores(\"naive_forest_kn_cosine\", scores)\n",
    "scores[\"ibs\"]"
   ]
  },
  {
   "cell_type": "markdown",
   "id": "55891062-c525-4614-bef6-cd985b8d7464",
   "metadata": {},
   "source": [
    "### `NaiveKaplanTree`: `DecisionTreeRegressor` + `KaplanTree`"
   ]
  },
  {
   "cell_type": "code",
   "execution_count": 109,
   "id": "badea178-5f08-473e-b776-db94691266cd",
   "metadata": {},
   "outputs": [
    {
     "name": "stdout",
     "output_type": "stream",
     "text": [
      "CPU times: user 14.9 s, sys: 367 ms, total: 15.2 s\n",
      "Wall time: 15.4 s\n"
     ]
    },
    {
     "data": {
      "text/html": [
       "<style>#sk-container-id-6 {color: black;background-color: white;}#sk-container-id-6 pre{padding: 0;}#sk-container-id-6 div.sk-toggleable {background-color: white;}#sk-container-id-6 label.sk-toggleable__label {cursor: pointer;display: block;width: 100%;margin-bottom: 0;padding: 0.3em;box-sizing: border-box;text-align: center;}#sk-container-id-6 label.sk-toggleable__label-arrow:before {content: \"▸\";float: left;margin-right: 0.25em;color: #696969;}#sk-container-id-6 label.sk-toggleable__label-arrow:hover:before {color: black;}#sk-container-id-6 div.sk-estimator:hover label.sk-toggleable__label-arrow:before {color: black;}#sk-container-id-6 div.sk-toggleable__content {max-height: 0;max-width: 0;overflow: hidden;text-align: left;background-color: #f0f8ff;}#sk-container-id-6 div.sk-toggleable__content pre {margin: 0.2em;color: black;border-radius: 0.25em;background-color: #f0f8ff;}#sk-container-id-6 input.sk-toggleable__control:checked~div.sk-toggleable__content {max-height: 200px;max-width: 100%;overflow: auto;}#sk-container-id-6 input.sk-toggleable__control:checked~label.sk-toggleable__label-arrow:before {content: \"▾\";}#sk-container-id-6 div.sk-estimator input.sk-toggleable__control:checked~label.sk-toggleable__label {background-color: #d4ebff;}#sk-container-id-6 div.sk-label input.sk-toggleable__control:checked~label.sk-toggleable__label {background-color: #d4ebff;}#sk-container-id-6 input.sk-hidden--visually {border: 0;clip: rect(1px 1px 1px 1px);clip: rect(1px, 1px, 1px, 1px);height: 1px;margin: -1px;overflow: hidden;padding: 0;position: absolute;width: 1px;}#sk-container-id-6 div.sk-estimator {font-family: monospace;background-color: #f0f8ff;border: 1px dotted black;border-radius: 0.25em;box-sizing: border-box;margin-bottom: 0.5em;}#sk-container-id-6 div.sk-estimator:hover {background-color: #d4ebff;}#sk-container-id-6 div.sk-parallel-item::after {content: \"\";width: 100%;border-bottom: 1px solid gray;flex-grow: 1;}#sk-container-id-6 div.sk-label:hover label.sk-toggleable__label {background-color: #d4ebff;}#sk-container-id-6 div.sk-serial::before {content: \"\";position: absolute;border-left: 1px solid gray;box-sizing: border-box;top: 0;bottom: 0;left: 50%;z-index: 0;}#sk-container-id-6 div.sk-serial {display: flex;flex-direction: column;align-items: center;background-color: white;padding-right: 0.2em;padding-left: 0.2em;position: relative;}#sk-container-id-6 div.sk-item {position: relative;z-index: 1;}#sk-container-id-6 div.sk-parallel {display: flex;align-items: stretch;justify-content: center;background-color: white;position: relative;}#sk-container-id-6 div.sk-item::before, #sk-container-id-6 div.sk-parallel-item::before {content: \"\";position: absolute;border-left: 1px solid gray;box-sizing: border-box;top: 0;bottom: 0;left: 50%;z-index: -1;}#sk-container-id-6 div.sk-parallel-item {display: flex;flex-direction: column;z-index: 1;position: relative;background-color: white;}#sk-container-id-6 div.sk-parallel-item:first-child::after {align-self: flex-end;width: 50%;}#sk-container-id-6 div.sk-parallel-item:last-child::after {align-self: flex-start;width: 50%;}#sk-container-id-6 div.sk-parallel-item:only-child::after {width: 0;}#sk-container-id-6 div.sk-dashed-wrapped {border: 1px dashed gray;margin: 0 0.4em 0.5em 0.4em;box-sizing: border-box;padding-bottom: 0.4em;background-color: white;}#sk-container-id-6 div.sk-label label {font-family: monospace;font-weight: bold;display: inline-block;line-height: 1.2em;}#sk-container-id-6 div.sk-label-container {text-align: center;}#sk-container-id-6 div.sk-container {/* jupyter's `normalize.less` sets `[hidden] { display: none; }` but bootstrap.min.css set `[hidden] { display: none !important; }` so we also need the `!important` here to be able to override the default hidden behavior on the sphinx rendered scikit-learn.org. See: https://github.com/scikit-learn/scikit-learn/issues/21755 */display: inline-block !important;position: relative;}#sk-container-id-6 div.sk-text-repr-fallback {display: none;}</style><div id=\"sk-container-id-6\" class=\"sk-top-container\"><div class=\"sk-text-repr-fallback\"><pre>Pipeline(steps=[(&#x27;treetransformer&#x27;,\n",
       "                 TreeTransformer(base_estimator=DecisionTreeRegressor(max_features=8,\n",
       "                                                                      max_leaf_nodes=100,\n",
       "                                                                      min_samples_leaf=100))),\n",
       "                (&#x27;kaplantree&#x27;, KaplanTree())])</pre><b>In a Jupyter environment, please rerun this cell to show the HTML representation or trust the notebook. <br />On GitHub, the HTML representation is unable to render, please try loading this page with nbviewer.org.</b></div><div class=\"sk-container\" hidden><div class=\"sk-item sk-dashed-wrapped\"><div class=\"sk-label-container\"><div class=\"sk-label sk-toggleable\"><input class=\"sk-toggleable__control sk-hidden--visually\" id=\"sk-estimator-id-26\" type=\"checkbox\" ><label for=\"sk-estimator-id-26\" class=\"sk-toggleable__label sk-toggleable__label-arrow\">Pipeline</label><div class=\"sk-toggleable__content\"><pre>Pipeline(steps=[(&#x27;treetransformer&#x27;,\n",
       "                 TreeTransformer(base_estimator=DecisionTreeRegressor(max_features=8,\n",
       "                                                                      max_leaf_nodes=100,\n",
       "                                                                      min_samples_leaf=100))),\n",
       "                (&#x27;kaplantree&#x27;, KaplanTree())])</pre></div></div></div><div class=\"sk-serial\"><div class=\"sk-item sk-dashed-wrapped\"><div class=\"sk-label-container\"><div class=\"sk-label sk-toggleable\"><input class=\"sk-toggleable__control sk-hidden--visually\" id=\"sk-estimator-id-27\" type=\"checkbox\" ><label for=\"sk-estimator-id-27\" class=\"sk-toggleable__label sk-toggleable__label-arrow\">treetransformer: TreeTransformer</label><div class=\"sk-toggleable__content\"><pre>TreeTransformer(base_estimator=DecisionTreeRegressor(max_features=8,\n",
       "                                                     max_leaf_nodes=100,\n",
       "                                                     min_samples_leaf=100))</pre></div></div></div><div class=\"sk-parallel\"><div class=\"sk-parallel-item\"><div class=\"sk-item\"><div class=\"sk-label-container\"><div class=\"sk-label sk-toggleable\"><input class=\"sk-toggleable__control sk-hidden--visually\" id=\"sk-estimator-id-28\" type=\"checkbox\" ><label for=\"sk-estimator-id-28\" class=\"sk-toggleable__label sk-toggleable__label-arrow\">base_estimator: DecisionTreeRegressor</label><div class=\"sk-toggleable__content\"><pre>DecisionTreeRegressor(max_features=8, max_leaf_nodes=100, min_samples_leaf=100)</pre></div></div></div><div class=\"sk-serial\"><div class=\"sk-item\"><div class=\"sk-estimator sk-toggleable\"><input class=\"sk-toggleable__control sk-hidden--visually\" id=\"sk-estimator-id-29\" type=\"checkbox\" ><label for=\"sk-estimator-id-29\" class=\"sk-toggleable__label sk-toggleable__label-arrow\">DecisionTreeRegressor</label><div class=\"sk-toggleable__content\"><pre>DecisionTreeRegressor(max_features=8, max_leaf_nodes=100, min_samples_leaf=100)</pre></div></div></div></div></div></div></div></div><div class=\"sk-item\"><div class=\"sk-estimator sk-toggleable\"><input class=\"sk-toggleable__control sk-hidden--visually\" id=\"sk-estimator-id-30\" type=\"checkbox\" ><label for=\"sk-estimator-id-30\" class=\"sk-toggleable__label sk-toggleable__label-arrow\">KaplanTree</label><div class=\"sk-toggleable__content\"><pre>KaplanTree()</pre></div></div></div></div></div></div></div>"
      ],
      "text/plain": [
       "Pipeline(steps=[('treetransformer',\n",
       "                 TreeTransformer(base_estimator=DecisionTreeRegressor(max_features=8,\n",
       "                                                                      max_leaf_nodes=100,\n",
       "                                                                      min_samples_leaf=100))),\n",
       "                ('kaplantree', KaplanTree())])"
      ]
     },
     "execution_count": 109,
     "metadata": {},
     "output_type": "execute_result"
    }
   ],
   "source": [
    "%%time\n",
    "\n",
    "from sklearn.pipeline import make_pipeline\n",
    "from sklearn.tree import DecisionTreeRegressor\n",
    "\n",
    "from models.kaplan_tree import KaplanTree\n",
    "from models.tree_transformer import TreeTransformer\n",
    "\n",
    "tree_params = dict(\n",
    "    min_samples_leaf=100,\n",
    "    max_leaf_nodes=100,\n",
    "    max_features=8,\n",
    ")\n",
    "\n",
    "naive_kaplan_tree = make_pipeline(\n",
    "    TreeTransformer(\n",
    "        DecisionTreeRegressor(**tree_params),\n",
    "    ),\n",
    "    KaplanTree(),  # Kaplan Meier is a non-parametric model\n",
    ")\n",
    "naive_kaplan_tree.fit(X_train.values, y_train, kaplantree__time_bins=times)"
   ]
  },
  {
   "cell_type": "code",
   "execution_count": 110,
   "id": "6b435448-b749-488a-a979-d70b188f2a92",
   "metadata": {},
   "outputs": [
    {
     "name": "stdout",
     "output_type": "stream",
     "text": [
      "CPU times: user 9.53 s, sys: 478 ms, total: 10 s\n",
      "Wall time: 10 s\n"
     ]
    },
    {
     "data": {
      "text/plain": [
       "0.10749768210838108"
      ]
     },
     "execution_count": 110,
     "metadata": {},
     "output_type": "execute_result"
    }
   ],
   "source": [
    "%%time\n",
    "\n",
    "scores = get_scores(naive_kaplan_tree, y_train, X_test.values, y_test, times)\n",
    "save_scores(\"naive_kaplan_tree\", scores)\n",
    "scores[\"ibs\"]"
   ]
  },
  {
   "cell_type": "markdown",
   "id": "10b7b621-171d-42a8-a998-f34ec6e36ca6",
   "metadata": {},
   "source": [
    "## XGBSE models"
   ]
  },
  {
   "cell_type": "code",
   "execution_count": null,
   "id": "1556a3ab-972e-439c-9005-e32ab0391041",
   "metadata": {},
   "outputs": [],
   "source": [
    "from xgbse import XGBSEDebiasedBCE\n",
    "\n",
    "# TODO\n",
    "#xgbse_bce = XGBSEDebiasedBCE()"
   ]
  },
  {
   "cell_type": "markdown",
   "id": "44472a88-d824-4aa0-8529-c7bd0599e39d",
   "metadata": {},
   "source": [
    "## PyCox models"
   ]
  },
  {
   "cell_type": "code",
   "execution_count": null,
   "id": "ea6115c2-6360-4f07-aef4-31b0ce0ca403",
   "metadata": {},
   "outputs": [],
   "source": [
    "# TODO"
   ]
  },
  {
   "cell_type": "markdown",
   "id": "deabb618-90ef-414f-8f39-2091cd7ea83a",
   "metadata": {},
   "source": [
    "### Scores"
   ]
  },
  {
   "cell_type": "code",
   "execution_count": 125,
   "id": "b0bc35b6-2f6e-42aa-93fe-724cbb56e112",
   "metadata": {},
   "outputs": [],
   "source": [
    "import pandas as pd\n",
    "\n",
    "\n",
    "def get_all_results():\n",
    "    results_dir = Path(os.getenv(\"PYCOX_DATA_DIR\")) / \"kkbox_v1\" / \"results\"\n",
    "    results = []\n",
    "    for path in results_dir.iterdir():\n",
    "        if path.is_file() and path.suffix == \".pkl\":\n",
    "            result = pickle.load(open(path, \"rb\"))\n",
    "            model = path.name.split(\".\")[0]\n",
    "            result[\"model\"] = model\n",
    "            results.append(result)\n",
    "    return pd.DataFrame(results).sort_values(\"ibs\")"
   ]
  },
  {
   "cell_type": "code",
   "execution_count": 126,
   "id": "2007dba5-ad0a-43c8-b1b5-00cba98700d9",
   "metadata": {},
   "outputs": [
    {
     "data": {
      "text/html": [
       "<div>\n",
       "<style scoped>\n",
       "    .dataframe tbody tr th:only-of-type {\n",
       "        vertical-align: middle;\n",
       "    }\n",
       "\n",
       "    .dataframe tbody tr th {\n",
       "        vertical-align: top;\n",
       "    }\n",
       "\n",
       "    .dataframe thead th {\n",
       "        text-align: right;\n",
       "    }\n",
       "</style>\n",
       "<table border=\"1\" class=\"dataframe\">\n",
       "  <thead>\n",
       "    <tr style=\"text-align: right;\">\n",
       "      <th></th>\n",
       "      <th>model</th>\n",
       "      <th>ibs</th>\n",
       "    </tr>\n",
       "  </thead>\n",
       "  <tbody>\n",
       "    <tr>\n",
       "      <th>1</th>\n",
       "      <td>naive_forest_grid_bc</td>\n",
       "      <td>0.105951</td>\n",
       "    </tr>\n",
       "    <tr>\n",
       "      <th>2</th>\n",
       "      <td>naive_forest_kn_cosine</td>\n",
       "      <td>0.106094</td>\n",
       "    </tr>\n",
       "    <tr>\n",
       "      <th>3</th>\n",
       "      <td>survival_forest_grid_bc</td>\n",
       "      <td>0.106748</td>\n",
       "    </tr>\n",
       "    <tr>\n",
       "      <th>5</th>\n",
       "      <td>naive_forest_kn</td>\n",
       "      <td>0.106774</td>\n",
       "    </tr>\n",
       "    <tr>\n",
       "      <th>4</th>\n",
       "      <td>naive_kaplan_tree</td>\n",
       "      <td>0.107498</td>\n",
       "    </tr>\n",
       "    <tr>\n",
       "      <th>0</th>\n",
       "      <td>meta_grid_bc</td>\n",
       "      <td>0.121890</td>\n",
       "    </tr>\n",
       "  </tbody>\n",
       "</table>\n",
       "</div>"
      ],
      "text/plain": [
       "                     model       ibs\n",
       "1     naive_forest_grid_bc  0.105951\n",
       "2   naive_forest_kn_cosine  0.106094\n",
       "3  survival_forest_grid_bc  0.106748\n",
       "5          naive_forest_kn  0.106774\n",
       "4        naive_kaplan_tree  0.107498\n",
       "0             meta_grid_bc  0.121890"
      ]
     },
     "execution_count": 126,
     "metadata": {},
     "output_type": "execute_result"
    }
   ],
   "source": [
    "results = get_all_results()\n",
    "results[[\"model\", \"ibs\"]]"
   ]
  },
  {
   "cell_type": "code",
   "execution_count": 132,
   "id": "1b358e74-0b33-484e-9522-765571a2a172",
   "metadata": {},
   "outputs": [
    {
     "data": {
      "application/vnd.plotly.v1+json": {
       "config": {
        "plotlyServerURL": "https://plot.ly"
       },
       "data": [
        {
         "name": "naive_forest_grid_bc",
         "type": "scatter",
         "x": [
          7,
          13.585858585858585,
          20.17171717171717,
          26.757575757575758,
          33.34343434343434,
          39.92929292929293,
          46.515151515151516,
          53.1010101010101,
          59.686868686868685,
          66.27272727272728,
          72.85858585858585,
          79.44444444444444,
          86.03030303030303,
          92.61616161616162,
          99.2020202020202,
          105.78787878787878,
          112.37373737373737,
          118.95959595959596,
          125.54545454545455,
          132.1313131313131,
          138.7171717171717,
          145.3030303030303,
          151.88888888888889,
          158.47474747474746,
          165.06060606060606,
          171.64646464646464,
          178.23232323232324,
          184.8181818181818,
          191.4040404040404,
          197.989898989899,
          204.57575757575756,
          211.16161616161617,
          217.74747474747474,
          224.33333333333331,
          230.91919191919192,
          237.5050505050505,
          244.0909090909091,
          250.67676767676767,
          257.2626262626262,
          263.8484848484848,
          270.4343434343434,
          277.020202020202,
          283.6060606060606,
          290.19191919191917,
          296.77777777777777,
          303.3636363636364,
          309.9494949494949,
          316.5353535353535,
          323.1212121212121,
          329.70707070707067,
          336.2929292929293,
          342.8787878787879,
          349.4646464646465,
          356.050505050505,
          362.6363636363636,
          369.22222222222223,
          375.8080808080808,
          382.3939393939394,
          388.979797979798,
          395.5656565656565,
          402.1515151515151,
          408.73737373737373,
          415.32323232323233,
          421.9090909090909,
          428.4949494949495,
          435.0808080808081,
          441.66666666666663,
          448.25252525252523,
          454.83838383838383,
          461.42424242424244,
          468.010101010101,
          474.5959595959596,
          481.1818181818182,
          487.76767676767673,
          494.35353535353534,
          500.93939393939394,
          507.5252525252525,
          514.1111111111111,
          520.6969696969696,
          527.2828282828283,
          533.8686868686868,
          540.4545454545454,
          547.040404040404,
          553.6262626262626,
          560.2121212121212,
          566.7979797979798,
          573.3838383838383,
          579.969696969697,
          586.5555555555555,
          593.1414141414141,
          599.7272727272727,
          606.3131313131313,
          612.8989898989898,
          619.4848484848485,
          626.070707070707,
          632.6565656565656,
          639.2424242424242,
          645.8282828282828,
          652.4141414141413,
          659
         ],
         "y": [
          0.08788375009124447,
          0.021787441162160682,
          0.02142567555632253,
          0.027686219669515177,
          0.0712813446135089,
          0.07151097902192885,
          0.07109058655682833,
          0.07100607152497963,
          0.07276999769025493,
          0.0829678310436185,
          0.08410751838105653,
          0.08459344845285359,
          0.08512134553285745,
          0.0888460131029284,
          0.08948849574244631,
          0.09048090329393985,
          0.09051232771725519,
          0.09061651259681518,
          0.09361781547210153,
          0.09298953453883552,
          0.09288274607426839,
          0.09303033704112079,
          0.09463997793829626,
          0.09520191624795284,
          0.09520182473991981,
          0.09517911732758651,
          0.0952608216144232,
          0.09806460843742797,
          0.09785694474690809,
          0.10090675445120358,
          0.10163475442076358,
          0.10176051455569657,
          0.10239663289135094,
          0.10222141515635286,
          0.10186785156042712,
          0.10175565836119897,
          0.10542001233387965,
          0.10546847244598026,
          0.10544824612817706,
          0.10542874569529759,
          0.10555758851489937,
          0.10676594876487776,
          0.10679115563867972,
          0.1066908709138601,
          0.1066637789208357,
          0.10698771309536025,
          0.10766781006283013,
          0.10757532613946251,
          0.10753882980355318,
          0.10755255164338376,
          0.10897773461189401,
          0.10929431997373693,
          0.10953921936280128,
          0.10990921527597666,
          0.11079502977121829,
          0.11420593208234738,
          0.11443610186852901,
          0.11438485531293457,
          0.11435477257638214,
          0.11591868916583631,
          0.12064787570748413,
          0.1230236824827563,
          0.12844349757713544,
          0.12707291096765128,
          0.12815255188380903,
          0.12753594814387875,
          0.1267535474301763,
          0.12554660958917604,
          0.12456199193522403,
          0.12538269501606653,
          0.12480317488825576,
          0.12420154450603131,
          0.12349700108752727,
          0.12478722616315462,
          0.12414695030806824,
          0.12374811637469985,
          0.12316213915858762,
          0.12271860686564118,
          0.12470120804908093,
          0.12421537019958527,
          0.12382691408528682,
          0.12330393388317921,
          0.12457796114822851,
          0.12404106612813837,
          0.123430153520438,
          0.12280677325666732,
          0.12231257554934548,
          0.12409198441352445,
          0.12341280540107,
          0.12236733488044212,
          0.12135563877616251,
          0.12032476025189519,
          0.12101861487209377,
          0.11992748673923638,
          0.11911544061139036,
          0.11851264819227864,
          0.11763969035079425,
          0.1168377411137293,
          0.1162545076011035,
          0.11564168310529366
         ]
        },
        {
         "name": "naive_forest_kn_cosine",
         "type": "scatter",
         "x": [
          7,
          13.585858585858585,
          20.17171717171717,
          26.757575757575758,
          33.34343434343434,
          39.92929292929293,
          46.515151515151516,
          53.1010101010101,
          59.686868686868685,
          66.27272727272728,
          72.85858585858585,
          79.44444444444444,
          86.03030303030303,
          92.61616161616162,
          99.2020202020202,
          105.78787878787878,
          112.37373737373737,
          118.95959595959596,
          125.54545454545455,
          132.1313131313131,
          138.7171717171717,
          145.3030303030303,
          151.88888888888889,
          158.47474747474746,
          165.06060606060606,
          171.64646464646464,
          178.23232323232324,
          184.8181818181818,
          191.4040404040404,
          197.989898989899,
          204.57575757575756,
          211.16161616161617,
          217.74747474747474,
          224.33333333333331,
          230.91919191919192,
          237.5050505050505,
          244.0909090909091,
          250.67676767676767,
          257.2626262626262,
          263.8484848484848,
          270.4343434343434,
          277.020202020202,
          283.6060606060606,
          290.19191919191917,
          296.77777777777777,
          303.3636363636364,
          309.9494949494949,
          316.5353535353535,
          323.1212121212121,
          329.70707070707067,
          336.2929292929293,
          342.8787878787879,
          349.4646464646465,
          356.050505050505,
          362.6363636363636,
          369.22222222222223,
          375.8080808080808,
          382.3939393939394,
          388.979797979798,
          395.5656565656565,
          402.1515151515151,
          408.73737373737373,
          415.32323232323233,
          421.9090909090909,
          428.4949494949495,
          435.0808080808081,
          441.66666666666663,
          448.25252525252523,
          454.83838383838383,
          461.42424242424244,
          468.010101010101,
          474.5959595959596,
          481.1818181818182,
          487.76767676767673,
          494.35353535353534,
          500.93939393939394,
          507.5252525252525,
          514.1111111111111,
          520.6969696969696,
          527.2828282828283,
          533.8686868686868,
          540.4545454545454,
          547.040404040404,
          553.6262626262626,
          560.2121212121212,
          566.7979797979798,
          573.3838383838383,
          579.969696969697,
          586.5555555555555,
          593.1414141414141,
          599.7272727272727,
          606.3131313131313,
          612.8989898989898,
          619.4848484848485,
          626.070707070707,
          632.6565656565656,
          639.2424242424242,
          645.8282828282828,
          652.4141414141413,
          659
         ],
         "y": [
          0.03937815064408262,
          0.018742598242390558,
          0.01864499059442125,
          0.024055307908485715,
          0.0673619588332156,
          0.06529622084760565,
          0.06627696294110991,
          0.06760770646236315,
          0.06862749862325594,
          0.07848565573463785,
          0.0825908542051519,
          0.08318851434984545,
          0.08224425308166437,
          0.087977915290099,
          0.09147655391420928,
          0.0936469139198492,
          0.09309183740582304,
          0.09330808294621519,
          0.09688200646573461,
          0.09586556243685897,
          0.09496103621244975,
          0.09566360963853442,
          0.09933183619611863,
          0.09975088076165622,
          0.09889705082671117,
          0.09818681452247047,
          0.09830230079011636,
          0.10144815968187805,
          0.10142652756932316,
          0.10386201419578042,
          0.10606525590248224,
          0.10630436060852276,
          0.10737538435262738,
          0.10784267706310029,
          0.10808146822309735,
          0.107438428250142,
          0.110641395760407,
          0.11198996182367005,
          0.11165291384301722,
          0.11155433844012705,
          0.11056874088578528,
          0.11260135073727331,
          0.11148632320627302,
          0.10942338398117198,
          0.1102958086756787,
          0.11084100680698133,
          0.11255979169596113,
          0.11526902829434146,
          0.11220436272263155,
          0.11070686675058744,
          0.10935696430814866,
          0.10949593172008212,
          0.11003028768389171,
          0.11072167837445769,
          0.11248234089955253,
          0.11530865050999707,
          0.11405073364492978,
          0.11341422157312865,
          0.11340127189953801,
          0.11418736361599711,
          0.1174092307341506,
          0.11910025327769751,
          0.12529380622904018,
          0.12330441445013159,
          0.12475266395158735,
          0.1257054588235696,
          0.12272384665640726,
          0.11993623869006749,
          0.11835946785347334,
          0.12109930766579603,
          0.11729404204773945,
          0.1168732350666927,
          0.11788334708048817,
          0.12160216491907133,
          0.12051049586883503,
          0.120833713340613,
          0.11855324815865059,
          0.1187313579711127,
          0.12299083463997432,
          0.12148652001045883,
          0.11941831551692908,
          0.11927755213067949,
          0.12307822564948603,
          0.12357523996656966,
          0.12226666737559082,
          0.12034208967318848,
          0.12061131206082586,
          0.1230109052716231,
          0.12417187487436197,
          0.12270679596999219,
          0.12233598228865855,
          0.12229746634717967,
          0.12252609320774488,
          0.12154328928296437,
          0.1223126963882945,
          0.12067707790849642,
          0.12128431666006576,
          0.12104687721943623,
          0.1213694542815465,
          0.12145902954340497
         ]
        },
        {
         "name": "survival_forest_grid_bc",
         "type": "scatter",
         "x": [
          7,
          13.585858585858585,
          20.17171717171717,
          26.757575757575758,
          33.34343434343434,
          39.92929292929293,
          46.515151515151516,
          53.1010101010101,
          59.686868686868685,
          66.27272727272728,
          72.85858585858585,
          79.44444444444444,
          86.03030303030303,
          92.61616161616162,
          99.2020202020202,
          105.78787878787878,
          112.37373737373737,
          118.95959595959596,
          125.54545454545455,
          132.1313131313131,
          138.7171717171717,
          145.3030303030303,
          151.88888888888889,
          158.47474747474746,
          165.06060606060606,
          171.64646464646464,
          178.23232323232324,
          184.8181818181818,
          191.4040404040404,
          197.989898989899,
          204.57575757575756,
          211.16161616161617,
          217.74747474747474,
          224.33333333333331,
          230.91919191919192,
          237.5050505050505,
          244.0909090909091,
          250.67676767676767,
          257.2626262626262,
          263.8484848484848,
          270.4343434343434,
          277.020202020202,
          283.6060606060606,
          290.19191919191917,
          296.77777777777777,
          303.3636363636364,
          309.9494949494949,
          316.5353535353535,
          323.1212121212121,
          329.70707070707067,
          336.2929292929293,
          342.8787878787879,
          349.4646464646465,
          356.050505050505,
          362.6363636363636,
          369.22222222222223,
          375.8080808080808,
          382.3939393939394,
          388.979797979798,
          395.5656565656565,
          402.1515151515151,
          408.73737373737373,
          415.32323232323233,
          421.9090909090909,
          428.4949494949495,
          435.0808080808081,
          441.66666666666663,
          448.25252525252523,
          454.83838383838383,
          461.42424242424244,
          468.010101010101,
          474.5959595959596,
          481.1818181818182,
          487.76767676767673,
          494.35353535353534,
          500.93939393939394,
          507.5252525252525,
          514.1111111111111,
          520.6969696969696,
          527.2828282828283,
          533.8686868686868,
          540.4545454545454,
          547.040404040404,
          553.6262626262626,
          560.2121212121212,
          566.7979797979798,
          573.3838383838383,
          579.969696969697,
          586.5555555555555,
          593.1414141414141,
          599.7272727272727,
          606.3131313131313,
          612.8989898989898,
          619.4848484848485,
          626.070707070707,
          632.6565656565656,
          639.2424242424242,
          645.8282828282828,
          652.4141414141413,
          659
         ],
         "y": [
          0.08934671916332826,
          0.021299809573018007,
          0.021012249700179054,
          0.027155245746457956,
          0.0711359973987913,
          0.07153017505433108,
          0.07125166063572402,
          0.07122938628982148,
          0.07300388691290381,
          0.08331861844146486,
          0.08446170081966373,
          0.08498114573680654,
          0.08552860211991661,
          0.08920329633265557,
          0.0898616883247169,
          0.09108288600771612,
          0.09114019156764563,
          0.09124369106471543,
          0.09441797402331283,
          0.09383269912409072,
          0.0937440662373589,
          0.09390405933650793,
          0.0955427067394552,
          0.09611722017715091,
          0.0961308069204575,
          0.0961246356468416,
          0.09622044628780946,
          0.09847422385493158,
          0.09833434804060473,
          0.10174686285502392,
          0.10289265417292859,
          0.10305987318457421,
          0.10373741856224457,
          0.10357818454232297,
          0.10322223214396065,
          0.1031261179072227,
          0.10687687745152177,
          0.10695474706981399,
          0.10695273962897442,
          0.10695500987726873,
          0.10710604731091275,
          0.10836439812083451,
          0.10840205993831721,
          0.10832148822457521,
          0.1083028060054032,
          0.10867086722584389,
          0.10936609371551623,
          0.10928496318443111,
          0.10925573638986323,
          0.10928348911863815,
          0.11074490987048681,
          0.11106261366772502,
          0.111314539338672,
          0.1116810178077003,
          0.11241541132851428,
          0.11581876427441311,
          0.11605439988439915,
          0.11602394726525281,
          0.1160139286601369,
          0.11766301184686642,
          0.12149828795145769,
          0.12299028979650282,
          0.12880541395767905,
          0.1273772555108163,
          0.12840748117638706,
          0.12778084782488222,
          0.1269719093736104,
          0.1257203377478525,
          0.12471507517871508,
          0.12554900172178074,
          0.12498324360745817,
          0.12438871683033538,
          0.1237194805160165,
          0.12512279598425283,
          0.12452529306721528,
          0.12412458969069082,
          0.12353701351000487,
          0.12308792538137646,
          0.12512091446418475,
          0.12464013731111458,
          0.12424913870778957,
          0.12372069061367949,
          0.1250036617975226,
          0.12443692459151785,
          0.12382202561831807,
          0.12320192938206848,
          0.1227170713600341,
          0.12452815883904311,
          0.12385156450539678,
          0.12280552996987658,
          0.12180149301613569,
          0.12077668760866489,
          0.12162022423657094,
          0.12066156757356623,
          0.1199268690640928,
          0.11937732656354008,
          0.11862797824282846,
          0.11789383767932993,
          0.11735154076901344,
          0.11674969606240224
         ]
        },
        {
         "name": "naive_forest_kn",
         "type": "scatter",
         "x": [
          7,
          13.585858585858585,
          20.17171717171717,
          26.757575757575758,
          33.34343434343434,
          39.92929292929293,
          46.515151515151516,
          53.1010101010101,
          59.686868686868685,
          66.27272727272728,
          72.85858585858585,
          79.44444444444444,
          86.03030303030303,
          92.61616161616162,
          99.2020202020202,
          105.78787878787878,
          112.37373737373737,
          118.95959595959596,
          125.54545454545455,
          132.1313131313131,
          138.7171717171717,
          145.3030303030303,
          151.88888888888889,
          158.47474747474746,
          165.06060606060606,
          171.64646464646464,
          178.23232323232324,
          184.8181818181818,
          191.4040404040404,
          197.989898989899,
          204.57575757575756,
          211.16161616161617,
          217.74747474747474,
          224.33333333333331,
          230.91919191919192,
          237.5050505050505,
          244.0909090909091,
          250.67676767676767,
          257.2626262626262,
          263.8484848484848,
          270.4343434343434,
          277.020202020202,
          283.6060606060606,
          290.19191919191917,
          296.77777777777777,
          303.3636363636364,
          309.9494949494949,
          316.5353535353535,
          323.1212121212121,
          329.70707070707067,
          336.2929292929293,
          342.8787878787879,
          349.4646464646465,
          356.050505050505,
          362.6363636363636,
          369.22222222222223,
          375.8080808080808,
          382.3939393939394,
          388.979797979798,
          395.5656565656565,
          402.1515151515151,
          408.73737373737373,
          415.32323232323233,
          421.9090909090909,
          428.4949494949495,
          435.0808080808081,
          441.66666666666663,
          448.25252525252523,
          454.83838383838383,
          461.42424242424244,
          468.010101010101,
          474.5959595959596,
          481.1818181818182,
          487.76767676767673,
          494.35353535353534,
          500.93939393939394,
          507.5252525252525,
          514.1111111111111,
          520.6969696969696,
          527.2828282828283,
          533.8686868686868,
          540.4545454545454,
          547.040404040404,
          553.6262626262626,
          560.2121212121212,
          566.7979797979798,
          573.3838383838383,
          579.969696969697,
          586.5555555555555,
          593.1414141414141,
          599.7272727272727,
          606.3131313131313,
          612.8989898989898,
          619.4848484848485,
          626.070707070707,
          632.6565656565656,
          639.2424242424242,
          645.8282828282828,
          652.4141414141413,
          659
         ],
         "y": [
          0.037062406834713776,
          0.020192222545221027,
          0.01960334464440679,
          0.024375992450679944,
          0.06910410501474964,
          0.0673197856318154,
          0.06759392712407265,
          0.06878690868582367,
          0.0697566801875268,
          0.08078465551080882,
          0.08356060021653983,
          0.08322237759759052,
          0.0824439969691959,
          0.08747643399080528,
          0.08895904856429615,
          0.09137762171929542,
          0.09109242929835853,
          0.09136048070225443,
          0.0959650661649876,
          0.09517068946835978,
          0.0955062727393807,
          0.09669539088147727,
          0.09988442824362022,
          0.10197100950211778,
          0.10217929186329433,
          0.10172671246392534,
          0.1021327254996753,
          0.10613785566521267,
          0.10532409977329309,
          0.1074542543690514,
          0.10940247094414454,
          0.1098700045167557,
          0.11178661870353855,
          0.11229897960175825,
          0.11181565832080004,
          0.11120276671506091,
          0.11425418084955315,
          0.1157752585418567,
          0.11505018289539377,
          0.11506439628370756,
          0.11299116280087611,
          0.11449424000108861,
          0.11405930872423253,
          0.11172280928372792,
          0.11180411922364798,
          0.11205612957766517,
          0.11357625913791493,
          0.11621342563345156,
          0.1126968992855265,
          0.1117220842610652,
          0.10955617279951987,
          0.10987110209110657,
          0.11016721458562571,
          0.11138848931168374,
          0.11281398797219214,
          0.11544482272689546,
          0.11394783593397173,
          0.11343910219093095,
          0.11404313912918107,
          0.11520905355547663,
          0.12109611850162035,
          0.1223979230156759,
          0.12806354889714397,
          0.12600381993198717,
          0.1257415144387941,
          0.12586600628308978,
          0.12352945052142603,
          0.12106288960337833,
          0.1189720934471569,
          0.12159822468282142,
          0.11873939263770719,
          0.11885918038691881,
          0.11913434374477029,
          0.12226997279075501,
          0.1208705968023641,
          0.12094369360908692,
          0.11817894319013802,
          0.11824955047060376,
          0.12199075537235166,
          0.12071263686617868,
          0.11834764679265604,
          0.11869989340480387,
          0.12115865209288751,
          0.12204014610463418,
          0.12129506878258214,
          0.11903799637347412,
          0.11908471805872796,
          0.121933879320871,
          0.12248061385660655,
          0.12068302429036075,
          0.11998096684465824,
          0.12008729821639247,
          0.12029442760580339,
          0.11897233193572075,
          0.11940191466368404,
          0.11773116243635053,
          0.11830543618005109,
          0.11853969761583082,
          0.11909024198080766,
          0.11943911778210671
         ]
        },
        {
         "name": "naive_kaplan_tree",
         "type": "scatter",
         "x": [
          7,
          13.585858585858585,
          20.17171717171717,
          26.757575757575758,
          33.34343434343434,
          39.92929292929293,
          46.515151515151516,
          53.1010101010101,
          59.686868686868685,
          66.27272727272728,
          72.85858585858585,
          79.44444444444444,
          86.03030303030303,
          92.61616161616162,
          99.2020202020202,
          105.78787878787878,
          112.37373737373737,
          118.95959595959596,
          125.54545454545455,
          132.1313131313131,
          138.7171717171717,
          145.3030303030303,
          151.88888888888889,
          158.47474747474746,
          165.06060606060606,
          171.64646464646464,
          178.23232323232324,
          184.8181818181818,
          191.4040404040404,
          197.989898989899,
          204.57575757575756,
          211.16161616161617,
          217.74747474747474,
          224.33333333333331,
          230.91919191919192,
          237.5050505050505,
          244.0909090909091,
          250.67676767676767,
          257.2626262626262,
          263.8484848484848,
          270.4343434343434,
          277.020202020202,
          283.6060606060606,
          290.19191919191917,
          296.77777777777777,
          303.3636363636364,
          309.9494949494949,
          316.5353535353535,
          323.1212121212121,
          329.70707070707067,
          336.2929292929293,
          342.8787878787879,
          349.4646464646465,
          356.050505050505,
          362.6363636363636,
          369.22222222222223,
          375.8080808080808,
          382.3939393939394,
          388.979797979798,
          395.5656565656565,
          402.1515151515151,
          408.73737373737373,
          415.32323232323233,
          421.9090909090909,
          428.4949494949495,
          435.0808080808081,
          441.66666666666663,
          448.25252525252523,
          454.83838383838383,
          461.42424242424244,
          468.010101010101,
          474.5959595959596,
          481.1818181818182,
          487.76767676767673,
          494.35353535353534,
          500.93939393939394,
          507.5252525252525,
          514.1111111111111,
          520.6969696969696,
          527.2828282828283,
          533.8686868686868,
          540.4545454545454,
          547.040404040404,
          553.6262626262626,
          560.2121212121212,
          566.7979797979798,
          573.3838383838383,
          579.969696969697,
          586.5555555555555,
          593.1414141414141,
          599.7272727272727,
          606.3131313131313,
          612.8989898989898,
          619.4848484848485,
          626.070707070707,
          632.6565656565656,
          639.2424242424242,
          645.8282828282828,
          652.4141414141413,
          659
         ],
         "y": [
          0.04322228151045637,
          0.02594239303214038,
          0.023965562341615624,
          0.029964928027965333,
          0.07450236719480538,
          0.07479255544096411,
          0.074280126552549,
          0.07413490863258318,
          0.07551476752992156,
          0.08590256205133903,
          0.0870065116132866,
          0.08744443959576724,
          0.08792641364596786,
          0.09135449512175063,
          0.09194479413217618,
          0.09238460798208507,
          0.0923703856861717,
          0.09237833885286333,
          0.09533826874527603,
          0.09462621871077974,
          0.09446572317766082,
          0.09455791788442572,
          0.09617411707648346,
          0.09670068222158404,
          0.09664890988504933,
          0.09656453675100557,
          0.09658537724912286,
          0.09940136325857345,
          0.0991559724365829,
          0.10214401062822116,
          0.10292703787321081,
          0.10310291251708865,
          0.10374707230329795,
          0.10352421776510114,
          0.10308777756819074,
          0.1029216072485021,
          0.10664755380793177,
          0.10665163442338223,
          0.10658170868941622,
          0.10651249132913136,
          0.10661135064318458,
          0.1078194425960742,
          0.1077847075466622,
          0.1076184228052565,
          0.10753768397582389,
          0.10780939958777831,
          0.10846472119379912,
          0.10829635737108019,
          0.1082207755220325,
          0.10819300931129178,
          0.10957117760037212,
          0.10972913527953944,
          0.10995315866051134,
          0.11030046910806035,
          0.1115055509472957,
          0.11513655186022582,
          0.11538917662249534,
          0.11534756221307349,
          0.11530439813710827,
          0.11698227210115919,
          0.12173896842547577,
          0.12419937871338392,
          0.12982046020525187,
          0.12865062887743295,
          0.12994617539658068,
          0.12934800775783983,
          0.12856630066017008,
          0.1273300042392488,
          0.1263409995292057,
          0.1272269677938371,
          0.1266237775286497,
          0.12599514008219947,
          0.12527708871795695,
          0.12665794364121213,
          0.1259824202120412,
          0.1255459221999013,
          0.12491574152042123,
          0.12443302171562214,
          0.12648052287374695,
          0.12596288421144713,
          0.12554910247054557,
          0.12498319632973173,
          0.12643223344714916,
          0.125917275690803,
          0.12531059378154366,
          0.12467081053667939,
          0.12417388154121722,
          0.12617619888651832,
          0.1255201854639794,
          0.12446974965276643,
          0.12349336911911585,
          0.122484769546256,
          0.12380249386634784,
          0.12299199429738251,
          0.12234278972373967,
          0.12187711664031553,
          0.12126377049154731,
          0.1206493974942942,
          0.12020251637268758,
          0.11970599250691716
         ]
        },
        {
         "name": "meta_grid_bc",
         "type": "scatter",
         "x": [
          7,
          13.585858585858585,
          20.17171717171717,
          26.757575757575758,
          33.34343434343434,
          39.92929292929293,
          46.515151515151516,
          53.1010101010101,
          59.686868686868685,
          66.27272727272728,
          72.85858585858585,
          79.44444444444444,
          86.03030303030303,
          92.61616161616162,
          99.2020202020202,
          105.78787878787878,
          112.37373737373737,
          118.95959595959596,
          125.54545454545455,
          132.1313131313131,
          138.7171717171717,
          145.3030303030303,
          151.88888888888889,
          158.47474747474746,
          165.06060606060606,
          171.64646464646464,
          178.23232323232324,
          184.8181818181818,
          191.4040404040404,
          197.989898989899,
          204.57575757575756,
          211.16161616161617,
          217.74747474747474,
          224.33333333333331,
          230.91919191919192,
          237.5050505050505,
          244.0909090909091,
          250.67676767676767,
          257.2626262626262,
          263.8484848484848,
          270.4343434343434,
          277.020202020202,
          283.6060606060606,
          290.19191919191917,
          296.77777777777777,
          303.3636363636364,
          309.9494949494949,
          316.5353535353535,
          323.1212121212121,
          329.70707070707067,
          336.2929292929293,
          342.8787878787879,
          349.4646464646465,
          356.050505050505,
          362.6363636363636,
          369.22222222222223,
          375.8080808080808,
          382.3939393939394,
          388.979797979798,
          395.5656565656565,
          402.1515151515151,
          408.73737373737373,
          415.32323232323233,
          421.9090909090909,
          428.4949494949495,
          435.0808080808081,
          441.66666666666663,
          448.25252525252523,
          454.83838383838383,
          461.42424242424244,
          468.010101010101,
          474.5959595959596,
          481.1818181818182,
          487.76767676767673,
          494.35353535353534,
          500.93939393939394,
          507.5252525252525,
          514.1111111111111,
          520.6969696969696,
          527.2828282828283,
          533.8686868686868,
          540.4545454545454,
          547.040404040404,
          553.6262626262626,
          560.2121212121212,
          566.7979797979798,
          573.3838383838383,
          579.969696969697,
          586.5555555555555,
          593.1414141414141,
          599.7272727272727,
          606.3131313131313,
          612.8989898989898,
          619.4848484848485,
          626.070707070707,
          632.6565656565656,
          639.2424242424242,
          645.8282828282828,
          652.4141414141413,
          659
         ],
         "y": [
          0.08940545790226269,
          0.025886718820204997,
          0.02473083037846446,
          0.031040946637095956,
          0.0850723035915961,
          0.08544546231266405,
          0.08506125375160942,
          0.0850592749176424,
          0.08646415934619629,
          0.09711970325182959,
          0.09836359415877596,
          0.09898673993169545,
          0.09959383124421622,
          0.10348854893488123,
          0.10441829900302182,
          0.1055971604470717,
          0.10578146780846856,
          0.10611518393290663,
          0.10998703442330987,
          0.10967923019887495,
          0.10973948791990104,
          0.10993527127586206,
          0.11171307274301452,
          0.11265868526283022,
          0.11289666432083499,
          0.11301915994061915,
          0.11329762216215761,
          0.11641561210942168,
          0.11652149099196121,
          0.11911361216508788,
          0.12108935745772584,
          0.12162322632167433,
          0.1227376890333315,
          0.1228248404496833,
          0.1227162390371374,
          0.12279583965243368,
          0.12641041878222428,
          0.1265572360541496,
          0.12662101637069384,
          0.12669409465065046,
          0.12690039508190548,
          0.1282111155405366,
          0.12827919210193456,
          0.12826683761785512,
          0.12834806563786466,
          0.1288283540291764,
          0.12957331129826555,
          0.12958420197906065,
          0.129656524486531,
          0.12974049827708997,
          0.13107703131574586,
          0.13138894287252761,
          0.1317094371798427,
          0.13209407715900193,
          0.13284835095416161,
          0.13569348908959583,
          0.1360118700464383,
          0.1361091061515706,
          0.13615159250644493,
          0.13780597995033797,
          0.14142760936733678,
          0.14328766388700634,
          0.1432264102461139,
          0.14191736181474374,
          0.1427838895635418,
          0.14216651913850822,
          0.1414015885956803,
          0.1402286540012382,
          0.13926425623215394,
          0.13957773358551015,
          0.13900778330077534,
          0.1384293135915486,
          0.13775831975813918,
          0.13843438505194844,
          0.13775606643525568,
          0.13736616624740408,
          0.13683072089815082,
          0.13639625389610427,
          0.13752663393727882,
          0.1370620933975613,
          0.13668427824196253,
          0.1361813244850933,
          0.13669662295901588,
          0.13586088979134628,
          0.13517542317429182,
          0.134550021609163,
          0.13404483979682452,
          0.1350867781643946,
          0.13434975127599802,
          0.13316804600459134,
          0.13210265458396206,
          0.13098284362201923,
          0.13098182922448728,
          0.1300271033903085,
          0.12930286169853294,
          0.12877474167326516,
          0.1280332223445067,
          0.12728041337140394,
          0.12669495823333923,
          0.12612975298549026
         ]
        }
       ],
       "layout": {
        "autosize": true,
        "template": {
         "data": {
          "bar": [
           {
            "error_x": {
             "color": "#2a3f5f"
            },
            "error_y": {
             "color": "#2a3f5f"
            },
            "marker": {
             "line": {
              "color": "#E5ECF6",
              "width": 0.5
             },
             "pattern": {
              "fillmode": "overlay",
              "size": 10,
              "solidity": 0.2
             }
            },
            "type": "bar"
           }
          ],
          "barpolar": [
           {
            "marker": {
             "line": {
              "color": "#E5ECF6",
              "width": 0.5
             },
             "pattern": {
              "fillmode": "overlay",
              "size": 10,
              "solidity": 0.2
             }
            },
            "type": "barpolar"
           }
          ],
          "carpet": [
           {
            "aaxis": {
             "endlinecolor": "#2a3f5f",
             "gridcolor": "white",
             "linecolor": "white",
             "minorgridcolor": "white",
             "startlinecolor": "#2a3f5f"
            },
            "baxis": {
             "endlinecolor": "#2a3f5f",
             "gridcolor": "white",
             "linecolor": "white",
             "minorgridcolor": "white",
             "startlinecolor": "#2a3f5f"
            },
            "type": "carpet"
           }
          ],
          "choropleth": [
           {
            "colorbar": {
             "outlinewidth": 0,
             "ticks": ""
            },
            "type": "choropleth"
           }
          ],
          "contour": [
           {
            "colorbar": {
             "outlinewidth": 0,
             "ticks": ""
            },
            "colorscale": [
             [
              0,
              "#0d0887"
             ],
             [
              0.1111111111111111,
              "#46039f"
             ],
             [
              0.2222222222222222,
              "#7201a8"
             ],
             [
              0.3333333333333333,
              "#9c179e"
             ],
             [
              0.4444444444444444,
              "#bd3786"
             ],
             [
              0.5555555555555556,
              "#d8576b"
             ],
             [
              0.6666666666666666,
              "#ed7953"
             ],
             [
              0.7777777777777778,
              "#fb9f3a"
             ],
             [
              0.8888888888888888,
              "#fdca26"
             ],
             [
              1,
              "#f0f921"
             ]
            ],
            "type": "contour"
           }
          ],
          "contourcarpet": [
           {
            "colorbar": {
             "outlinewidth": 0,
             "ticks": ""
            },
            "type": "contourcarpet"
           }
          ],
          "heatmap": [
           {
            "colorbar": {
             "outlinewidth": 0,
             "ticks": ""
            },
            "colorscale": [
             [
              0,
              "#0d0887"
             ],
             [
              0.1111111111111111,
              "#46039f"
             ],
             [
              0.2222222222222222,
              "#7201a8"
             ],
             [
              0.3333333333333333,
              "#9c179e"
             ],
             [
              0.4444444444444444,
              "#bd3786"
             ],
             [
              0.5555555555555556,
              "#d8576b"
             ],
             [
              0.6666666666666666,
              "#ed7953"
             ],
             [
              0.7777777777777778,
              "#fb9f3a"
             ],
             [
              0.8888888888888888,
              "#fdca26"
             ],
             [
              1,
              "#f0f921"
             ]
            ],
            "type": "heatmap"
           }
          ],
          "heatmapgl": [
           {
            "colorbar": {
             "outlinewidth": 0,
             "ticks": ""
            },
            "colorscale": [
             [
              0,
              "#0d0887"
             ],
             [
              0.1111111111111111,
              "#46039f"
             ],
             [
              0.2222222222222222,
              "#7201a8"
             ],
             [
              0.3333333333333333,
              "#9c179e"
             ],
             [
              0.4444444444444444,
              "#bd3786"
             ],
             [
              0.5555555555555556,
              "#d8576b"
             ],
             [
              0.6666666666666666,
              "#ed7953"
             ],
             [
              0.7777777777777778,
              "#fb9f3a"
             ],
             [
              0.8888888888888888,
              "#fdca26"
             ],
             [
              1,
              "#f0f921"
             ]
            ],
            "type": "heatmapgl"
           }
          ],
          "histogram": [
           {
            "marker": {
             "pattern": {
              "fillmode": "overlay",
              "size": 10,
              "solidity": 0.2
             }
            },
            "type": "histogram"
           }
          ],
          "histogram2d": [
           {
            "colorbar": {
             "outlinewidth": 0,
             "ticks": ""
            },
            "colorscale": [
             [
              0,
              "#0d0887"
             ],
             [
              0.1111111111111111,
              "#46039f"
             ],
             [
              0.2222222222222222,
              "#7201a8"
             ],
             [
              0.3333333333333333,
              "#9c179e"
             ],
             [
              0.4444444444444444,
              "#bd3786"
             ],
             [
              0.5555555555555556,
              "#d8576b"
             ],
             [
              0.6666666666666666,
              "#ed7953"
             ],
             [
              0.7777777777777778,
              "#fb9f3a"
             ],
             [
              0.8888888888888888,
              "#fdca26"
             ],
             [
              1,
              "#f0f921"
             ]
            ],
            "type": "histogram2d"
           }
          ],
          "histogram2dcontour": [
           {
            "colorbar": {
             "outlinewidth": 0,
             "ticks": ""
            },
            "colorscale": [
             [
              0,
              "#0d0887"
             ],
             [
              0.1111111111111111,
              "#46039f"
             ],
             [
              0.2222222222222222,
              "#7201a8"
             ],
             [
              0.3333333333333333,
              "#9c179e"
             ],
             [
              0.4444444444444444,
              "#bd3786"
             ],
             [
              0.5555555555555556,
              "#d8576b"
             ],
             [
              0.6666666666666666,
              "#ed7953"
             ],
             [
              0.7777777777777778,
              "#fb9f3a"
             ],
             [
              0.8888888888888888,
              "#fdca26"
             ],
             [
              1,
              "#f0f921"
             ]
            ],
            "type": "histogram2dcontour"
           }
          ],
          "mesh3d": [
           {
            "colorbar": {
             "outlinewidth": 0,
             "ticks": ""
            },
            "type": "mesh3d"
           }
          ],
          "parcoords": [
           {
            "line": {
             "colorbar": {
              "outlinewidth": 0,
              "ticks": ""
             }
            },
            "type": "parcoords"
           }
          ],
          "pie": [
           {
            "automargin": true,
            "type": "pie"
           }
          ],
          "scatter": [
           {
            "fillpattern": {
             "fillmode": "overlay",
             "size": 10,
             "solidity": 0.2
            },
            "type": "scatter"
           }
          ],
          "scatter3d": [
           {
            "line": {
             "colorbar": {
              "outlinewidth": 0,
              "ticks": ""
             }
            },
            "marker": {
             "colorbar": {
              "outlinewidth": 0,
              "ticks": ""
             }
            },
            "type": "scatter3d"
           }
          ],
          "scattercarpet": [
           {
            "marker": {
             "colorbar": {
              "outlinewidth": 0,
              "ticks": ""
             }
            },
            "type": "scattercarpet"
           }
          ],
          "scattergeo": [
           {
            "marker": {
             "colorbar": {
              "outlinewidth": 0,
              "ticks": ""
             }
            },
            "type": "scattergeo"
           }
          ],
          "scattergl": [
           {
            "marker": {
             "colorbar": {
              "outlinewidth": 0,
              "ticks": ""
             }
            },
            "type": "scattergl"
           }
          ],
          "scattermapbox": [
           {
            "marker": {
             "colorbar": {
              "outlinewidth": 0,
              "ticks": ""
             }
            },
            "type": "scattermapbox"
           }
          ],
          "scatterpolar": [
           {
            "marker": {
             "colorbar": {
              "outlinewidth": 0,
              "ticks": ""
             }
            },
            "type": "scatterpolar"
           }
          ],
          "scatterpolargl": [
           {
            "marker": {
             "colorbar": {
              "outlinewidth": 0,
              "ticks": ""
             }
            },
            "type": "scatterpolargl"
           }
          ],
          "scatterternary": [
           {
            "marker": {
             "colorbar": {
              "outlinewidth": 0,
              "ticks": ""
             }
            },
            "type": "scatterternary"
           }
          ],
          "surface": [
           {
            "colorbar": {
             "outlinewidth": 0,
             "ticks": ""
            },
            "colorscale": [
             [
              0,
              "#0d0887"
             ],
             [
              0.1111111111111111,
              "#46039f"
             ],
             [
              0.2222222222222222,
              "#7201a8"
             ],
             [
              0.3333333333333333,
              "#9c179e"
             ],
             [
              0.4444444444444444,
              "#bd3786"
             ],
             [
              0.5555555555555556,
              "#d8576b"
             ],
             [
              0.6666666666666666,
              "#ed7953"
             ],
             [
              0.7777777777777778,
              "#fb9f3a"
             ],
             [
              0.8888888888888888,
              "#fdca26"
             ],
             [
              1,
              "#f0f921"
             ]
            ],
            "type": "surface"
           }
          ],
          "table": [
           {
            "cells": {
             "fill": {
              "color": "#EBF0F8"
             },
             "line": {
              "color": "white"
             }
            },
            "header": {
             "fill": {
              "color": "#C8D4E3"
             },
             "line": {
              "color": "white"
             }
            },
            "type": "table"
           }
          ]
         },
         "layout": {
          "annotationdefaults": {
           "arrowcolor": "#2a3f5f",
           "arrowhead": 0,
           "arrowwidth": 1
          },
          "autotypenumbers": "strict",
          "coloraxis": {
           "colorbar": {
            "outlinewidth": 0,
            "ticks": ""
           }
          },
          "colorscale": {
           "diverging": [
            [
             0,
             "#8e0152"
            ],
            [
             0.1,
             "#c51b7d"
            ],
            [
             0.2,
             "#de77ae"
            ],
            [
             0.3,
             "#f1b6da"
            ],
            [
             0.4,
             "#fde0ef"
            ],
            [
             0.5,
             "#f7f7f7"
            ],
            [
             0.6,
             "#e6f5d0"
            ],
            [
             0.7,
             "#b8e186"
            ],
            [
             0.8,
             "#7fbc41"
            ],
            [
             0.9,
             "#4d9221"
            ],
            [
             1,
             "#276419"
            ]
           ],
           "sequential": [
            [
             0,
             "#0d0887"
            ],
            [
             0.1111111111111111,
             "#46039f"
            ],
            [
             0.2222222222222222,
             "#7201a8"
            ],
            [
             0.3333333333333333,
             "#9c179e"
            ],
            [
             0.4444444444444444,
             "#bd3786"
            ],
            [
             0.5555555555555556,
             "#d8576b"
            ],
            [
             0.6666666666666666,
             "#ed7953"
            ],
            [
             0.7777777777777778,
             "#fb9f3a"
            ],
            [
             0.8888888888888888,
             "#fdca26"
            ],
            [
             1,
             "#f0f921"
            ]
           ],
           "sequentialminus": [
            [
             0,
             "#0d0887"
            ],
            [
             0.1111111111111111,
             "#46039f"
            ],
            [
             0.2222222222222222,
             "#7201a8"
            ],
            [
             0.3333333333333333,
             "#9c179e"
            ],
            [
             0.4444444444444444,
             "#bd3786"
            ],
            [
             0.5555555555555556,
             "#d8576b"
            ],
            [
             0.6666666666666666,
             "#ed7953"
            ],
            [
             0.7777777777777778,
             "#fb9f3a"
            ],
            [
             0.8888888888888888,
             "#fdca26"
            ],
            [
             1,
             "#f0f921"
            ]
           ]
          },
          "colorway": [
           "#636efa",
           "#EF553B",
           "#00cc96",
           "#ab63fa",
           "#FFA15A",
           "#19d3f3",
           "#FF6692",
           "#B6E880",
           "#FF97FF",
           "#FECB52"
          ],
          "font": {
           "color": "#2a3f5f"
          },
          "geo": {
           "bgcolor": "white",
           "lakecolor": "white",
           "landcolor": "#E5ECF6",
           "showlakes": true,
           "showland": true,
           "subunitcolor": "white"
          },
          "hoverlabel": {
           "align": "left"
          },
          "hovermode": "closest",
          "mapbox": {
           "style": "light"
          },
          "paper_bgcolor": "white",
          "plot_bgcolor": "#E5ECF6",
          "polar": {
           "angularaxis": {
            "gridcolor": "white",
            "linecolor": "white",
            "ticks": ""
           },
           "bgcolor": "#E5ECF6",
           "radialaxis": {
            "gridcolor": "white",
            "linecolor": "white",
            "ticks": ""
           }
          },
          "scene": {
           "xaxis": {
            "backgroundcolor": "#E5ECF6",
            "gridcolor": "white",
            "gridwidth": 2,
            "linecolor": "white",
            "showbackground": true,
            "ticks": "",
            "zerolinecolor": "white"
           },
           "yaxis": {
            "backgroundcolor": "#E5ECF6",
            "gridcolor": "white",
            "gridwidth": 2,
            "linecolor": "white",
            "showbackground": true,
            "ticks": "",
            "zerolinecolor": "white"
           },
           "zaxis": {
            "backgroundcolor": "#E5ECF6",
            "gridcolor": "white",
            "gridwidth": 2,
            "linecolor": "white",
            "showbackground": true,
            "ticks": "",
            "zerolinecolor": "white"
           }
          },
          "shapedefaults": {
           "line": {
            "color": "#2a3f5f"
           }
          },
          "ternary": {
           "aaxis": {
            "gridcolor": "white",
            "linecolor": "white",
            "ticks": ""
           },
           "baxis": {
            "gridcolor": "white",
            "linecolor": "white",
            "ticks": ""
           },
           "bgcolor": "#E5ECF6",
           "caxis": {
            "gridcolor": "white",
            "linecolor": "white",
            "ticks": ""
           }
          },
          "title": {
           "x": 0.05
          },
          "xaxis": {
           "automargin": true,
           "gridcolor": "white",
           "linecolor": "white",
           "ticks": "",
           "title": {
            "standoff": 15
           },
           "zerolinecolor": "white",
           "zerolinewidth": 2
          },
          "yaxis": {
           "automargin": true,
           "gridcolor": "white",
           "linecolor": "white",
           "ticks": "",
           "title": {
            "standoff": 15
           },
           "zerolinecolor": "white",
           "zerolinewidth": 2
          }
         }
        },
        "title": {
         "text": "Brier scores benchmark"
        },
        "xaxis": {
         "autorange": true,
         "range": [
          7,
          659
         ],
         "title": {
          "text": "Duration (days)"
         },
         "type": "linear"
        },
        "yaxis": {
         "autorange": true,
         "range": [
          0.011720397633722077,
          0.1502122568477055
         ],
         "title": {
          "text": "Brier score"
         },
         "type": "linear"
        }
       }
      },
      "image/png": "[encoded data removed]",
      "text/html": [
       "<div>                            <div id=\"cd85a8ba-d381-489b-834d-72c32574390d\" class=\"plotly-graph-div\" style=\"height:525px; width:100%;\"></div>            <script type=\"text/javascript\">                require([\"plotly\"], function(Plotly) {                    window.PLOTLYENV=window.PLOTLYENV || {};                                    if (document.getElementById(\"cd85a8ba-d381-489b-834d-72c32574390d\")) {                    Plotly.newPlot(                        \"cd85a8ba-d381-489b-834d-72c32574390d\",                        [{\"name\":\"naive_forest_grid_bc\",\"x\":[7.0,13.585858585858585,20.17171717171717,26.757575757575758,33.34343434343434,39.92929292929293,46.515151515151516,53.1010101010101,59.686868686868685,66.27272727272728,72.85858585858585,79.44444444444444,86.03030303030303,92.61616161616162,99.2020202020202,105.78787878787878,112.37373737373737,118.95959595959596,125.54545454545455,132.1313131313131,138.7171717171717,145.3030303030303,151.88888888888889,158.47474747474746,165.06060606060606,171.64646464646464,178.23232323232324,184.8181818181818,191.4040404040404,197.989898989899,204.57575757575756,211.16161616161617,217.74747474747474,224.33333333333331,230.91919191919192,237.5050505050505,244.0909090909091,250.67676767676767,257.2626262626262,263.8484848484848,270.4343434343434,277.020202020202,283.6060606060606,290.19191919191917,296.77777777777777,303.3636363636364,309.9494949494949,316.5353535353535,323.1212121212121,329.70707070707067,336.2929292929293,342.8787878787879,349.4646464646465,356.050505050505,362.6363636363636,369.22222222222223,375.8080808080808,382.3939393939394,388.979797979798,395.5656565656565,402.1515151515151,408.73737373737373,415.32323232323233,421.9090909090909,428.4949494949495,435.0808080808081,441.66666666666663,448.25252525252523,454.83838383838383,461.42424242424244,468.010101010101,474.5959595959596,481.1818181818182,487.76767676767673,494.35353535353534,500.93939393939394,507.5252525252525,514.1111111111111,520.6969696969696,527.2828282828283,533.8686868686868,540.4545454545454,547.040404040404,553.6262626262626,560.2121212121212,566.7979797979798,573.3838383838383,579.969696969697,586.5555555555555,593.1414141414141,599.7272727272727,606.3131313131313,612.8989898989898,619.4848484848485,626.070707070707,632.6565656565656,639.2424242424242,645.8282828282828,652.4141414141413,659.0],\"y\":[0.08788375009124447,0.021787441162160682,0.02142567555632253,0.027686219669515177,0.0712813446135089,0.07151097902192885,0.07109058655682833,0.07100607152497963,0.07276999769025493,0.0829678310436185,0.08410751838105653,0.08459344845285359,0.08512134553285745,0.0888460131029284,0.08948849574244631,0.09048090329393985,0.09051232771725519,0.09061651259681518,0.09361781547210153,0.09298953453883552,0.09288274607426839,0.09303033704112079,0.09463997793829626,0.09520191624795284,0.09520182473991981,0.09517911732758651,0.0952608216144232,0.09806460843742797,0.09785694474690809,0.10090675445120358,0.10163475442076358,0.10176051455569657,0.10239663289135094,0.10222141515635286,0.10186785156042712,0.10175565836119897,0.10542001233387965,0.10546847244598026,0.10544824612817706,0.10542874569529759,0.10555758851489937,0.10676594876487776,0.10679115563867972,0.1066908709138601,0.1066637789208357,0.10698771309536025,0.10766781006283013,0.10757532613946251,0.10753882980355318,0.10755255164338376,0.10897773461189401,0.10929431997373693,0.10953921936280128,0.10990921527597666,0.11079502977121829,0.11420593208234738,0.11443610186852901,0.11438485531293457,0.11435477257638214,0.11591868916583631,0.12064787570748413,0.1230236824827563,0.12844349757713544,0.12707291096765128,0.12815255188380903,0.12753594814387875,0.1267535474301763,0.12554660958917604,0.12456199193522403,0.12538269501606653,0.12480317488825576,0.12420154450603131,0.12349700108752727,0.12478722616315462,0.12414695030806824,0.12374811637469985,0.12316213915858762,0.12271860686564118,0.12470120804908093,0.12421537019958527,0.12382691408528682,0.12330393388317921,0.12457796114822851,0.12404106612813837,0.123430153520438,0.12280677325666732,0.12231257554934548,0.12409198441352445,0.12341280540107,0.12236733488044212,0.12135563877616251,0.12032476025189519,0.12101861487209377,0.11992748673923638,0.11911544061139036,0.11851264819227864,0.11763969035079425,0.1168377411137293,0.1162545076011035,0.11564168310529366],\"type\":\"scatter\"},{\"name\":\"naive_forest_kn_cosine\",\"x\":[7.0,13.585858585858585,20.17171717171717,26.757575757575758,33.34343434343434,39.92929292929293,46.515151515151516,53.1010101010101,59.686868686868685,66.27272727272728,72.85858585858585,79.44444444444444,86.03030303030303,92.61616161616162,99.2020202020202,105.78787878787878,112.37373737373737,118.95959595959596,125.54545454545455,132.1313131313131,138.7171717171717,145.3030303030303,151.88888888888889,158.47474747474746,165.06060606060606,171.64646464646464,178.23232323232324,184.8181818181818,191.4040404040404,197.989898989899,204.57575757575756,211.16161616161617,217.74747474747474,224.33333333333331,230.91919191919192,237.5050505050505,244.0909090909091,250.67676767676767,257.2626262626262,263.8484848484848,270.4343434343434,277.020202020202,283.6060606060606,290.19191919191917,296.77777777777777,303.3636363636364,309.9494949494949,316.5353535353535,323.1212121212121,329.70707070707067,336.2929292929293,342.8787878787879,349.4646464646465,356.050505050505,362.6363636363636,369.22222222222223,375.8080808080808,382.3939393939394,388.979797979798,395.5656565656565,402.1515151515151,408.73737373737373,415.32323232323233,421.9090909090909,428.4949494949495,435.0808080808081,441.66666666666663,448.25252525252523,454.83838383838383,461.42424242424244,468.010101010101,474.5959595959596,481.1818181818182,487.76767676767673,494.35353535353534,500.93939393939394,507.5252525252525,514.1111111111111,520.6969696969696,527.2828282828283,533.8686868686868,540.4545454545454,547.040404040404,553.6262626262626,560.2121212121212,566.7979797979798,573.3838383838383,579.969696969697,586.5555555555555,593.1414141414141,599.7272727272727,606.3131313131313,612.8989898989898,619.4848484848485,626.070707070707,632.6565656565656,639.2424242424242,645.8282828282828,652.4141414141413,659.0],\"y\":[0.03937815064408262,0.018742598242390558,0.01864499059442125,0.024055307908485715,0.0673619588332156,0.06529622084760565,0.06627696294110991,0.06760770646236315,0.06862749862325594,0.07848565573463785,0.0825908542051519,0.08318851434984545,0.08224425308166437,0.087977915290099,0.09147655391420928,0.0936469139198492,0.09309183740582304,0.09330808294621519,0.09688200646573461,0.09586556243685897,0.09496103621244975,0.09566360963853442,0.09933183619611863,0.09975088076165622,0.09889705082671117,0.09818681452247047,0.09830230079011636,0.10144815968187805,0.10142652756932316,0.10386201419578042,0.10606525590248224,0.10630436060852276,0.10737538435262738,0.10784267706310029,0.10808146822309735,0.107438428250142,0.110641395760407,0.11198996182367005,0.11165291384301722,0.11155433844012705,0.11056874088578528,0.11260135073727331,0.11148632320627302,0.10942338398117198,0.1102958086756787,0.11084100680698133,0.11255979169596113,0.11526902829434146,0.11220436272263155,0.11070686675058744,0.10935696430814866,0.10949593172008212,0.11003028768389171,0.11072167837445769,0.11248234089955253,0.11530865050999707,0.11405073364492978,0.11341422157312865,0.11340127189953801,0.11418736361599711,0.1174092307341506,0.11910025327769751,0.12529380622904018,0.12330441445013159,0.12475266395158735,0.1257054588235696,0.12272384665640726,0.11993623869006749,0.11835946785347334,0.12109930766579603,0.11729404204773945,0.1168732350666927,0.11788334708048817,0.12160216491907133,0.12051049586883503,0.120833713340613,0.11855324815865059,0.1187313579711127,0.12299083463997432,0.12148652001045883,0.11941831551692908,0.11927755213067949,0.12307822564948603,0.12357523996656966,0.12226666737559082,0.12034208967318848,0.12061131206082586,0.1230109052716231,0.12417187487436197,0.12270679596999219,0.12233598228865855,0.12229746634717967,0.12252609320774488,0.12154328928296437,0.1223126963882945,0.12067707790849642,0.12128431666006576,0.12104687721943623,0.1213694542815465,0.12145902954340497],\"type\":\"scatter\"},{\"name\":\"survival_forest_grid_bc\",\"x\":[7.0,13.585858585858585,20.17171717171717,26.757575757575758,33.34343434343434,39.92929292929293,46.515151515151516,53.1010101010101,59.686868686868685,66.27272727272728,72.85858585858585,79.44444444444444,86.03030303030303,92.61616161616162,99.2020202020202,105.78787878787878,112.37373737373737,118.95959595959596,125.54545454545455,132.1313131313131,138.7171717171717,145.3030303030303,151.88888888888889,158.47474747474746,165.06060606060606,171.64646464646464,178.23232323232324,184.8181818181818,191.4040404040404,197.989898989899,204.57575757575756,211.16161616161617,217.74747474747474,224.33333333333331,230.91919191919192,237.5050505050505,244.0909090909091,250.67676767676767,257.2626262626262,263.8484848484848,270.4343434343434,277.020202020202,283.6060606060606,290.19191919191917,296.77777777777777,303.3636363636364,309.9494949494949,316.5353535353535,323.1212121212121,329.70707070707067,336.2929292929293,342.8787878787879,349.4646464646465,356.050505050505,362.6363636363636,369.22222222222223,375.8080808080808,382.3939393939394,388.979797979798,395.5656565656565,402.1515151515151,408.73737373737373,415.32323232323233,421.9090909090909,428.4949494949495,435.0808080808081,441.66666666666663,448.25252525252523,454.83838383838383,461.42424242424244,468.010101010101,474.5959595959596,481.1818181818182,487.76767676767673,494.35353535353534,500.93939393939394,507.5252525252525,514.1111111111111,520.6969696969696,527.2828282828283,533.8686868686868,540.4545454545454,547.040404040404,553.6262626262626,560.2121212121212,566.7979797979798,573.3838383838383,579.969696969697,586.5555555555555,593.1414141414141,599.7272727272727,606.3131313131313,612.8989898989898,619.4848484848485,626.070707070707,632.6565656565656,639.2424242424242,645.8282828282828,652.4141414141413,659.0],\"y\":[0.08934671916332826,0.021299809573018007,0.021012249700179054,0.027155245746457956,0.0711359973987913,0.07153017505433108,0.07125166063572402,0.07122938628982148,0.07300388691290381,0.08331861844146486,0.08446170081966373,0.08498114573680654,0.08552860211991661,0.08920329633265557,0.0898616883247169,0.09108288600771612,0.09114019156764563,0.09124369106471543,0.09441797402331283,0.09383269912409072,0.0937440662373589,0.09390405933650793,0.0955427067394552,0.09611722017715091,0.0961308069204575,0.0961246356468416,0.09622044628780946,0.09847422385493158,0.09833434804060473,0.10174686285502392,0.10289265417292859,0.10305987318457421,0.10373741856224457,0.10357818454232297,0.10322223214396065,0.1031261179072227,0.10687687745152177,0.10695474706981399,0.10695273962897442,0.10695500987726873,0.10710604731091275,0.10836439812083451,0.10840205993831721,0.10832148822457521,0.1083028060054032,0.10867086722584389,0.10936609371551623,0.10928496318443111,0.10925573638986323,0.10928348911863815,0.11074490987048681,0.11106261366772502,0.111314539338672,0.1116810178077003,0.11241541132851428,0.11581876427441311,0.11605439988439915,0.11602394726525281,0.1160139286601369,0.11766301184686642,0.12149828795145769,0.12299028979650282,0.12880541395767905,0.1273772555108163,0.12840748117638706,0.12778084782488222,0.1269719093736104,0.1257203377478525,0.12471507517871508,0.12554900172178074,0.12498324360745817,0.12438871683033538,0.1237194805160165,0.12512279598425283,0.12452529306721528,0.12412458969069082,0.12353701351000487,0.12308792538137646,0.12512091446418475,0.12464013731111458,0.12424913870778957,0.12372069061367949,0.1250036617975226,0.12443692459151785,0.12382202561831807,0.12320192938206848,0.1227170713600341,0.12452815883904311,0.12385156450539678,0.12280552996987658,0.12180149301613569,0.12077668760866489,0.12162022423657094,0.12066156757356623,0.1199268690640928,0.11937732656354008,0.11862797824282846,0.11789383767932993,0.11735154076901344,0.11674969606240224],\"type\":\"scatter\"},{\"name\":\"naive_forest_kn\",\"x\":[7.0,13.585858585858585,20.17171717171717,26.757575757575758,33.34343434343434,39.92929292929293,46.515151515151516,53.1010101010101,59.686868686868685,66.27272727272728,72.85858585858585,79.44444444444444,86.03030303030303,92.61616161616162,99.2020202020202,105.78787878787878,112.37373737373737,118.95959595959596,125.54545454545455,132.1313131313131,138.7171717171717,145.3030303030303,151.88888888888889,158.47474747474746,165.06060606060606,171.64646464646464,178.23232323232324,184.8181818181818,191.4040404040404,197.989898989899,204.57575757575756,211.16161616161617,217.74747474747474,224.33333333333331,230.91919191919192,237.5050505050505,244.0909090909091,250.67676767676767,257.2626262626262,263.8484848484848,270.4343434343434,277.020202020202,283.6060606060606,290.19191919191917,296.77777777777777,303.3636363636364,309.9494949494949,316.5353535353535,323.1212121212121,329.70707070707067,336.2929292929293,342.8787878787879,349.4646464646465,356.050505050505,362.6363636363636,369.22222222222223,375.8080808080808,382.3939393939394,388.979797979798,395.5656565656565,402.1515151515151,408.73737373737373,415.32323232323233,421.9090909090909,428.4949494949495,435.0808080808081,441.66666666666663,448.25252525252523,454.83838383838383,461.42424242424244,468.010101010101,474.5959595959596,481.1818181818182,487.76767676767673,494.35353535353534,500.93939393939394,507.5252525252525,514.1111111111111,520.6969696969696,527.2828282828283,533.8686868686868,540.4545454545454,547.040404040404,553.6262626262626,560.2121212121212,566.7979797979798,573.3838383838383,579.969696969697,586.5555555555555,593.1414141414141,599.7272727272727,606.3131313131313,612.8989898989898,619.4848484848485,626.070707070707,632.6565656565656,639.2424242424242,645.8282828282828,652.4141414141413,659.0],\"y\":[0.037062406834713776,0.020192222545221027,0.01960334464440679,0.024375992450679944,0.06910410501474964,0.0673197856318154,0.06759392712407265,0.06878690868582367,0.0697566801875268,0.08078465551080882,0.08356060021653983,0.08322237759759052,0.0824439969691959,0.08747643399080528,0.08895904856429615,0.09137762171929542,0.09109242929835853,0.09136048070225443,0.0959650661649876,0.09517068946835978,0.0955062727393807,0.09669539088147727,0.09988442824362022,0.10197100950211778,0.10217929186329433,0.10172671246392534,0.1021327254996753,0.10613785566521267,0.10532409977329309,0.1074542543690514,0.10940247094414454,0.1098700045167557,0.11178661870353855,0.11229897960175825,0.11181565832080004,0.11120276671506091,0.11425418084955315,0.1157752585418567,0.11505018289539377,0.11506439628370756,0.11299116280087611,0.11449424000108861,0.11405930872423253,0.11172280928372792,0.11180411922364798,0.11205612957766517,0.11357625913791493,0.11621342563345156,0.1126968992855265,0.1117220842610652,0.10955617279951987,0.10987110209110657,0.11016721458562571,0.11138848931168374,0.11281398797219214,0.11544482272689546,0.11394783593397173,0.11343910219093095,0.11404313912918107,0.11520905355547663,0.12109611850162035,0.1223979230156759,0.12806354889714397,0.12600381993198717,0.1257415144387941,0.12586600628308978,0.12352945052142603,0.12106288960337833,0.1189720934471569,0.12159822468282142,0.11873939263770719,0.11885918038691881,0.11913434374477029,0.12226997279075501,0.1208705968023641,0.12094369360908692,0.11817894319013802,0.11824955047060376,0.12199075537235166,0.12071263686617868,0.11834764679265604,0.11869989340480387,0.12115865209288751,0.12204014610463418,0.12129506878258214,0.11903799637347412,0.11908471805872796,0.121933879320871,0.12248061385660655,0.12068302429036075,0.11998096684465824,0.12008729821639247,0.12029442760580339,0.11897233193572075,0.11940191466368404,0.11773116243635053,0.11830543618005109,0.11853969761583082,0.11909024198080766,0.11943911778210671],\"type\":\"scatter\"},{\"name\":\"naive_kaplan_tree\",\"x\":[7.0,13.585858585858585,20.17171717171717,26.757575757575758,33.34343434343434,39.92929292929293,46.515151515151516,53.1010101010101,59.686868686868685,66.27272727272728,72.85858585858585,79.44444444444444,86.03030303030303,92.61616161616162,99.2020202020202,105.78787878787878,112.37373737373737,118.95959595959596,125.54545454545455,132.1313131313131,138.7171717171717,145.3030303030303,151.88888888888889,158.47474747474746,165.06060606060606,171.64646464646464,178.23232323232324,184.8181818181818,191.4040404040404,197.989898989899,204.57575757575756,211.16161616161617,217.74747474747474,224.33333333333331,230.91919191919192,237.5050505050505,244.0909090909091,250.67676767676767,257.2626262626262,263.8484848484848,270.4343434343434,277.020202020202,283.6060606060606,290.19191919191917,296.77777777777777,303.3636363636364,309.9494949494949,316.5353535353535,323.1212121212121,329.70707070707067,336.2929292929293,342.8787878787879,349.4646464646465,356.050505050505,362.6363636363636,369.22222222222223,375.8080808080808,382.3939393939394,388.979797979798,395.5656565656565,402.1515151515151,408.73737373737373,415.32323232323233,421.9090909090909,428.4949494949495,435.0808080808081,441.66666666666663,448.25252525252523,454.83838383838383,461.42424242424244,468.010101010101,474.5959595959596,481.1818181818182,487.76767676767673,494.35353535353534,500.93939393939394,507.5252525252525,514.1111111111111,520.6969696969696,527.2828282828283,533.8686868686868,540.4545454545454,547.040404040404,553.6262626262626,560.2121212121212,566.7979797979798,573.3838383838383,579.969696969697,586.5555555555555,593.1414141414141,599.7272727272727,606.3131313131313,612.8989898989898,619.4848484848485,626.070707070707,632.6565656565656,639.2424242424242,645.8282828282828,652.4141414141413,659.0],\"y\":[0.04322228151045637,0.02594239303214038,0.023965562341615624,0.029964928027965333,0.07450236719480538,0.07479255544096411,0.074280126552549,0.07413490863258318,0.07551476752992156,0.08590256205133903,0.0870065116132866,0.08744443959576724,0.08792641364596786,0.09135449512175063,0.09194479413217618,0.09238460798208507,0.0923703856861717,0.09237833885286333,0.09533826874527603,0.09462621871077974,0.09446572317766082,0.09455791788442572,0.09617411707648346,0.09670068222158404,0.09664890988504933,0.09656453675100557,0.09658537724912286,0.09940136325857345,0.0991559724365829,0.10214401062822116,0.10292703787321081,0.10310291251708865,0.10374707230329795,0.10352421776510114,0.10308777756819074,0.1029216072485021,0.10664755380793177,0.10665163442338223,0.10658170868941622,0.10651249132913136,0.10661135064318458,0.1078194425960742,0.1077847075466622,0.1076184228052565,0.10753768397582389,0.10780939958777831,0.10846472119379912,0.10829635737108019,0.1082207755220325,0.10819300931129178,0.10957117760037212,0.10972913527953944,0.10995315866051134,0.11030046910806035,0.1115055509472957,0.11513655186022582,0.11538917662249534,0.11534756221307349,0.11530439813710827,0.11698227210115919,0.12173896842547577,0.12419937871338392,0.12982046020525187,0.12865062887743295,0.12994617539658068,0.12934800775783983,0.12856630066017008,0.1273300042392488,0.1263409995292057,0.1272269677938371,0.1266237775286497,0.12599514008219947,0.12527708871795695,0.12665794364121213,0.1259824202120412,0.1255459221999013,0.12491574152042123,0.12443302171562214,0.12648052287374695,0.12596288421144713,0.12554910247054557,0.12498319632973173,0.12643223344714916,0.125917275690803,0.12531059378154366,0.12467081053667939,0.12417388154121722,0.12617619888651832,0.1255201854639794,0.12446974965276643,0.12349336911911585,0.122484769546256,0.12380249386634784,0.12299199429738251,0.12234278972373967,0.12187711664031553,0.12126377049154731,0.1206493974942942,0.12020251637268758,0.11970599250691716],\"type\":\"scatter\"},{\"name\":\"meta_grid_bc\",\"x\":[7.0,13.585858585858585,20.17171717171717,26.757575757575758,33.34343434343434,39.92929292929293,46.515151515151516,53.1010101010101,59.686868686868685,66.27272727272728,72.85858585858585,79.44444444444444,86.03030303030303,92.61616161616162,99.2020202020202,105.78787878787878,112.37373737373737,118.95959595959596,125.54545454545455,132.1313131313131,138.7171717171717,145.3030303030303,151.88888888888889,158.47474747474746,165.06060606060606,171.64646464646464,178.23232323232324,184.8181818181818,191.4040404040404,197.989898989899,204.57575757575756,211.16161616161617,217.74747474747474,224.33333333333331,230.91919191919192,237.5050505050505,244.0909090909091,250.67676767676767,257.2626262626262,263.8484848484848,270.4343434343434,277.020202020202,283.6060606060606,290.19191919191917,296.77777777777777,303.3636363636364,309.9494949494949,316.5353535353535,323.1212121212121,329.70707070707067,336.2929292929293,342.8787878787879,349.4646464646465,356.050505050505,362.6363636363636,369.22222222222223,375.8080808080808,382.3939393939394,388.979797979798,395.5656565656565,402.1515151515151,408.73737373737373,415.32323232323233,421.9090909090909,428.4949494949495,435.0808080808081,441.66666666666663,448.25252525252523,454.83838383838383,461.42424242424244,468.010101010101,474.5959595959596,481.1818181818182,487.76767676767673,494.35353535353534,500.93939393939394,507.5252525252525,514.1111111111111,520.6969696969696,527.2828282828283,533.8686868686868,540.4545454545454,547.040404040404,553.6262626262626,560.2121212121212,566.7979797979798,573.3838383838383,579.969696969697,586.5555555555555,593.1414141414141,599.7272727272727,606.3131313131313,612.8989898989898,619.4848484848485,626.070707070707,632.6565656565656,639.2424242424242,645.8282828282828,652.4141414141413,659.0],\"y\":[0.08940545790226269,0.025886718820204997,0.02473083037846446,0.031040946637095956,0.0850723035915961,0.08544546231266405,0.08506125375160942,0.0850592749176424,0.08646415934619629,0.09711970325182959,0.09836359415877596,0.09898673993169545,0.09959383124421622,0.10348854893488123,0.10441829900302182,0.1055971604470717,0.10578146780846856,0.10611518393290663,0.10998703442330987,0.10967923019887495,0.10973948791990104,0.10993527127586206,0.11171307274301452,0.11265868526283022,0.11289666432083499,0.11301915994061915,0.11329762216215761,0.11641561210942168,0.11652149099196121,0.11911361216508788,0.12108935745772584,0.12162322632167433,0.1227376890333315,0.1228248404496833,0.1227162390371374,0.12279583965243368,0.12641041878222428,0.1265572360541496,0.12662101637069384,0.12669409465065046,0.12690039508190548,0.1282111155405366,0.12827919210193456,0.12826683761785512,0.12834806563786466,0.1288283540291764,0.12957331129826555,0.12958420197906065,0.129656524486531,0.12974049827708997,0.13107703131574586,0.13138894287252761,0.1317094371798427,0.13209407715900193,0.13284835095416161,0.13569348908959583,0.1360118700464383,0.1361091061515706,0.13615159250644493,0.13780597995033797,0.14142760936733678,0.14328766388700634,0.1432264102461139,0.14191736181474374,0.1427838895635418,0.14216651913850822,0.1414015885956803,0.1402286540012382,0.13926425623215394,0.13957773358551015,0.13900778330077534,0.1384293135915486,0.13775831975813918,0.13843438505194844,0.13775606643525568,0.13736616624740408,0.13683072089815082,0.13639625389610427,0.13752663393727882,0.1370620933975613,0.13668427824196253,0.1361813244850933,0.13669662295901588,0.13586088979134628,0.13517542317429182,0.134550021609163,0.13404483979682452,0.1350867781643946,0.13434975127599802,0.13316804600459134,0.13210265458396206,0.13098284362201923,0.13098182922448728,0.1300271033903085,0.12930286169853294,0.12877474167326516,0.1280332223445067,0.12728041337140394,0.12669495823333923,0.12612975298549026],\"type\":\"scatter\"}],                        {\"template\":{\"data\":{\"histogram2dcontour\":[{\"type\":\"histogram2dcontour\",\"colorbar\":{\"outlinewidth\":0,\"ticks\":\"\"},\"colorscale\":[[0.0,\"#0d0887\"],[0.1111111111111111,\"#46039f\"],[0.2222222222222222,\"#7201a8\"],[0.3333333333333333,\"#9c179e\"],[0.4444444444444444,\"#bd3786\"],[0.5555555555555556,\"#d8576b\"],[0.6666666666666666,\"#ed7953\"],[0.7777777777777778,\"#fb9f3a\"],[0.8888888888888888,\"#fdca26\"],[1.0,\"#f0f921\"]]}],\"choropleth\":[{\"type\":\"choropleth\",\"colorbar\":{\"outlinewidth\":0,\"ticks\":\"\"}}],\"histogram2d\":[{\"type\":\"histogram2d\",\"colorbar\":{\"outlinewidth\":0,\"ticks\":\"\"},\"colorscale\":[[0.0,\"#0d0887\"],[0.1111111111111111,\"#46039f\"],[0.2222222222222222,\"#7201a8\"],[0.3333333333333333,\"#9c179e\"],[0.4444444444444444,\"#bd3786\"],[0.5555555555555556,\"#d8576b\"],[0.6666666666666666,\"#ed7953\"],[0.7777777777777778,\"#fb9f3a\"],[0.8888888888888888,\"#fdca26\"],[1.0,\"#f0f921\"]]}],\"heatmap\":[{\"type\":\"heatmap\",\"colorbar\":{\"outlinewidth\":0,\"ticks\":\"\"},\"colorscale\":[[0.0,\"#0d0887\"],[0.1111111111111111,\"#46039f\"],[0.2222222222222222,\"#7201a8\"],[0.3333333333333333,\"#9c179e\"],[0.4444444444444444,\"#bd3786\"],[0.5555555555555556,\"#d8576b\"],[0.6666666666666666,\"#ed7953\"],[0.7777777777777778,\"#fb9f3a\"],[0.8888888888888888,\"#fdca26\"],[1.0,\"#f0f921\"]]}],\"heatmapgl\":[{\"type\":\"heatmapgl\",\"colorbar\":{\"outlinewidth\":0,\"ticks\":\"\"},\"colorscale\":[[0.0,\"#0d0887\"],[0.1111111111111111,\"#46039f\"],[0.2222222222222222,\"#7201a8\"],[0.3333333333333333,\"#9c179e\"],[0.4444444444444444,\"#bd3786\"],[0.5555555555555556,\"#d8576b\"],[0.6666666666666666,\"#ed7953\"],[0.7777777777777778,\"#fb9f3a\"],[0.8888888888888888,\"#fdca26\"],[1.0,\"#f0f921\"]]}],\"contourcarpet\":[{\"type\":\"contourcarpet\",\"colorbar\":{\"outlinewidth\":0,\"ticks\":\"\"}}],\"contour\":[{\"type\":\"contour\",\"colorbar\":{\"outlinewidth\":0,\"ticks\":\"\"},\"colorscale\":[[0.0,\"#0d0887\"],[0.1111111111111111,\"#46039f\"],[0.2222222222222222,\"#7201a8\"],[0.3333333333333333,\"#9c179e\"],[0.4444444444444444,\"#bd3786\"],[0.5555555555555556,\"#d8576b\"],[0.6666666666666666,\"#ed7953\"],[0.7777777777777778,\"#fb9f3a\"],[0.8888888888888888,\"#fdca26\"],[1.0,\"#f0f921\"]]}],\"surface\":[{\"type\":\"surface\",\"colorbar\":{\"outlinewidth\":0,\"ticks\":\"\"},\"colorscale\":[[0.0,\"#0d0887\"],[0.1111111111111111,\"#46039f\"],[0.2222222222222222,\"#7201a8\"],[0.3333333333333333,\"#9c179e\"],[0.4444444444444444,\"#bd3786\"],[0.5555555555555556,\"#d8576b\"],[0.6666666666666666,\"#ed7953\"],[0.7777777777777778,\"#fb9f3a\"],[0.8888888888888888,\"#fdca26\"],[1.0,\"#f0f921\"]]}],\"mesh3d\":[{\"type\":\"mesh3d\",\"colorbar\":{\"outlinewidth\":0,\"ticks\":\"\"}}],\"scatter\":[{\"fillpattern\":{\"fillmode\":\"overlay\",\"size\":10,\"solidity\":0.2},\"type\":\"scatter\"}],\"parcoords\":[{\"type\":\"parcoords\",\"line\":{\"colorbar\":{\"outlinewidth\":0,\"ticks\":\"\"}}}],\"scatterpolargl\":[{\"type\":\"scatterpolargl\",\"marker\":{\"colorbar\":{\"outlinewidth\":0,\"ticks\":\"\"}}}],\"bar\":[{\"error_x\":{\"color\":\"#2a3f5f\"},\"error_y\":{\"color\":\"#2a3f5f\"},\"marker\":{\"line\":{\"color\":\"#E5ECF6\",\"width\":0.5},\"pattern\":{\"fillmode\":\"overlay\",\"size\":10,\"solidity\":0.2}},\"type\":\"bar\"}],\"scattergeo\":[{\"type\":\"scattergeo\",\"marker\":{\"colorbar\":{\"outlinewidth\":0,\"ticks\":\"\"}}}],\"scatterpolar\":[{\"type\":\"scatterpolar\",\"marker\":{\"colorbar\":{\"outlinewidth\":0,\"ticks\":\"\"}}}],\"histogram\":[{\"marker\":{\"pattern\":{\"fillmode\":\"overlay\",\"size\":10,\"solidity\":0.2}},\"type\":\"histogram\"}],\"scattergl\":[{\"type\":\"scattergl\",\"marker\":{\"colorbar\":{\"outlinewidth\":0,\"ticks\":\"\"}}}],\"scatter3d\":[{\"type\":\"scatter3d\",\"line\":{\"colorbar\":{\"outlinewidth\":0,\"ticks\":\"\"}},\"marker\":{\"colorbar\":{\"outlinewidth\":0,\"ticks\":\"\"}}}],\"scattermapbox\":[{\"type\":\"scattermapbox\",\"marker\":{\"colorbar\":{\"outlinewidth\":0,\"ticks\":\"\"}}}],\"scatterternary\":[{\"type\":\"scatterternary\",\"marker\":{\"colorbar\":{\"outlinewidth\":0,\"ticks\":\"\"}}}],\"scattercarpet\":[{\"type\":\"scattercarpet\",\"marker\":{\"colorbar\":{\"outlinewidth\":0,\"ticks\":\"\"}}}],\"carpet\":[{\"aaxis\":{\"endlinecolor\":\"#2a3f5f\",\"gridcolor\":\"white\",\"linecolor\":\"white\",\"minorgridcolor\":\"white\",\"startlinecolor\":\"#2a3f5f\"},\"baxis\":{\"endlinecolor\":\"#2a3f5f\",\"gridcolor\":\"white\",\"linecolor\":\"white\",\"minorgridcolor\":\"white\",\"startlinecolor\":\"#2a3f5f\"},\"type\":\"carpet\"}],\"table\":[{\"cells\":{\"fill\":{\"color\":\"#EBF0F8\"},\"line\":{\"color\":\"white\"}},\"header\":{\"fill\":{\"color\":\"#C8D4E3\"},\"line\":{\"color\":\"white\"}},\"type\":\"table\"}],\"barpolar\":[{\"marker\":{\"line\":{\"color\":\"#E5ECF6\",\"width\":0.5},\"pattern\":{\"fillmode\":\"overlay\",\"size\":10,\"solidity\":0.2}},\"type\":\"barpolar\"}],\"pie\":[{\"automargin\":true,\"type\":\"pie\"}]},\"layout\":{\"autotypenumbers\":\"strict\",\"colorway\":[\"#636efa\",\"#EF553B\",\"#00cc96\",\"#ab63fa\",\"#FFA15A\",\"#19d3f3\",\"#FF6692\",\"#B6E880\",\"#FF97FF\",\"#FECB52\"],\"font\":{\"color\":\"#2a3f5f\"},\"hovermode\":\"closest\",\"hoverlabel\":{\"align\":\"left\"},\"paper_bgcolor\":\"white\",\"plot_bgcolor\":\"#E5ECF6\",\"polar\":{\"bgcolor\":\"#E5ECF6\",\"angularaxis\":{\"gridcolor\":\"white\",\"linecolor\":\"white\",\"ticks\":\"\"},\"radialaxis\":{\"gridcolor\":\"white\",\"linecolor\":\"white\",\"ticks\":\"\"}},\"ternary\":{\"bgcolor\":\"#E5ECF6\",\"aaxis\":{\"gridcolor\":\"white\",\"linecolor\":\"white\",\"ticks\":\"\"},\"baxis\":{\"gridcolor\":\"white\",\"linecolor\":\"white\",\"ticks\":\"\"},\"caxis\":{\"gridcolor\":\"white\",\"linecolor\":\"white\",\"ticks\":\"\"}},\"coloraxis\":{\"colorbar\":{\"outlinewidth\":0,\"ticks\":\"\"}},\"colorscale\":{\"sequential\":[[0.0,\"#0d0887\"],[0.1111111111111111,\"#46039f\"],[0.2222222222222222,\"#7201a8\"],[0.3333333333333333,\"#9c179e\"],[0.4444444444444444,\"#bd3786\"],[0.5555555555555556,\"#d8576b\"],[0.6666666666666666,\"#ed7953\"],[0.7777777777777778,\"#fb9f3a\"],[0.8888888888888888,\"#fdca26\"],[1.0,\"#f0f921\"]],\"sequentialminus\":[[0.0,\"#0d0887\"],[0.1111111111111111,\"#46039f\"],[0.2222222222222222,\"#7201a8\"],[0.3333333333333333,\"#9c179e\"],[0.4444444444444444,\"#bd3786\"],[0.5555555555555556,\"#d8576b\"],[0.6666666666666666,\"#ed7953\"],[0.7777777777777778,\"#fb9f3a\"],[0.8888888888888888,\"#fdca26\"],[1.0,\"#f0f921\"]],\"diverging\":[[0,\"#8e0152\"],[0.1,\"#c51b7d\"],[0.2,\"#de77ae\"],[0.3,\"#f1b6da\"],[0.4,\"#fde0ef\"],[0.5,\"#f7f7f7\"],[0.6,\"#e6f5d0\"],[0.7,\"#b8e186\"],[0.8,\"#7fbc41\"],[0.9,\"#4d9221\"],[1,\"#276419\"]]},\"xaxis\":{\"gridcolor\":\"white\",\"linecolor\":\"white\",\"ticks\":\"\",\"title\":{\"standoff\":15},\"zerolinecolor\":\"white\",\"automargin\":true,\"zerolinewidth\":2},\"yaxis\":{\"gridcolor\":\"white\",\"linecolor\":\"white\",\"ticks\":\"\",\"title\":{\"standoff\":15},\"zerolinecolor\":\"white\",\"automargin\":true,\"zerolinewidth\":2},\"scene\":{\"xaxis\":{\"backgroundcolor\":\"#E5ECF6\",\"gridcolor\":\"white\",\"linecolor\":\"white\",\"showbackground\":true,\"ticks\":\"\",\"zerolinecolor\":\"white\",\"gridwidth\":2},\"yaxis\":{\"backgroundcolor\":\"#E5ECF6\",\"gridcolor\":\"white\",\"linecolor\":\"white\",\"showbackground\":true,\"ticks\":\"\",\"zerolinecolor\":\"white\",\"gridwidth\":2},\"zaxis\":{\"backgroundcolor\":\"#E5ECF6\",\"gridcolor\":\"white\",\"linecolor\":\"white\",\"showbackground\":true,\"ticks\":\"\",\"zerolinecolor\":\"white\",\"gridwidth\":2}},\"shapedefaults\":{\"line\":{\"color\":\"#2a3f5f\"}},\"annotationdefaults\":{\"arrowcolor\":\"#2a3f5f\",\"arrowhead\":0,\"arrowwidth\":1},\"geo\":{\"bgcolor\":\"white\",\"landcolor\":\"#E5ECF6\",\"subunitcolor\":\"white\",\"showland\":true,\"showlakes\":true,\"lakecolor\":\"white\"},\"title\":{\"x\":0.05},\"mapbox\":{\"style\":\"light\"}}},\"xaxis\":{\"title\":{\"text\":\"Duration (days)\"}},\"yaxis\":{\"title\":{\"text\":\"Brier score\"}},\"title\":{\"text\":\"Brier scores benchmark\"}},                        {\"responsive\": true}                    ).then(function(){\n",
       "                            \n",
       "var gd = document.getElementById('cd85a8ba-d381-489b-834d-72c32574390d');\n",
       "var x = new MutationObserver(function (mutations, observer) {{\n",
       "        var display = window.getComputedStyle(gd).display;\n",
       "        if (!display || display === 'none') {{\n",
       "            console.log([gd, 'removed!']);\n",
       "            Plotly.purge(gd);\n",
       "            observer.disconnect();\n",
       "        }}\n",
       "}});\n",
       "\n",
       "// Listen for the removal of the full notebook cells\n",
       "var notebookContainer = gd.closest('#notebook-container');\n",
       "if (notebookContainer) {{\n",
       "    x.observe(notebookContainer, {childList: true});\n",
       "}}\n",
       "\n",
       "// Listen for the clearing of the current output cell\n",
       "var outputEl = gd.closest('.output');\n",
       "if (outputEl) {{\n",
       "    x.observe(outputEl, {childList: true});\n",
       "}}\n",
       "\n",
       "                        })                };                });            </script>        </div>"
      ]
     },
     "metadata": {},
     "output_type": "display_data"
    }
   ],
   "source": [
    "import plotly.graph_objects as go\n",
    "\n",
    "cols = results.columns\n",
    "col_to_idx = dict(zip(cols, range(len(cols))))\n",
    "\n",
    "fig = go.Figure([\n",
    "    go.Scatter(\n",
    "        x=times,\n",
    "        y=row[col_to_idx[\"brier_scores\"]],\n",
    "        name=row[col_to_idx[\"model\"]],\n",
    "    )\n",
    "    for row in results.values\n",
    "])\n",
    "\n",
    "fig.update_layout(\n",
    "    xaxis_title=\"Duration (days)\",\n",
    "    yaxis_title=\"Brier score\",\n",
    "    title=\"Brier scores benchmark\",\n",
    ")\n",
    "fig.show()"
   ]
  },
  {
   "cell_type": "code",
   "execution_count": null,
   "id": "43e387e8-d21a-46d7-8e9a-ab16b49f4015",
   "metadata": {},
   "outputs": [],
   "source": []
  }
 ],
 "metadata": {
  "kernelspec": {
   "display_name": "Python 3 (ipykernel)",
   "language": "python",
   "name": "python3"
  },
  "language_info": {
   "codemirror_mode": {
    "name": "ipython",
    "version": 3
   },
   "file_extension": ".py",
   "mimetype": "text/x-python",
   "name": "python",
   "nbconvert_exporter": "python",
   "pygments_lexer": "ipython3",
   "version": "3.10.6"
  }
 },
 "nbformat": 4,
 "nbformat_minor": 5
}
