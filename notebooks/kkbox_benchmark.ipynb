{
 "cells": [
  {
   "cell_type": "markdown",
   "id": "99851409-4d70-4192-8afb-91803a0b7946",
   "metadata": {},
   "source": [
    "## KKBox Benchmark (PyCox Preprocessing)"
   ]
  },
  {
   "cell_type": "code",
   "execution_count": 1,
   "id": "6e90813b-787e-48c4-988f-6c22385de3f7",
   "metadata": {},
   "outputs": [
    {
     "data": {
      "text/plain": [
       "'../data/kkbox'"
      ]
     },
     "execution_count": 1,
     "metadata": {},
     "output_type": "execute_result"
    }
   ],
   "source": [
    "%load_ext autoreload\n",
    "%autoreload 2\n",
    "\n",
    "import sys\n",
    "sys.path.append(\"..\")\n",
    "\n",
    "import os\n",
    "import numpy as np\n",
    "import pandas as pd\n",
    "\n",
    "os.getenv(\"PYCOX_DATA_DIR\")"
   ]
  },
  {
   "cell_type": "code",
   "execution_count": 1,
   "id": "7f37e107-70df-4bd4-9f89-cd968194dce9",
   "metadata": {},
   "outputs": [],
   "source": [
    "from pycox.datasets import kkbox_v1\n",
    "\n",
    "kkbox_v1._path_dir.mkdir(exist_ok=True)"
   ]
  },
  {
   "cell_type": "code",
   "execution_count": 2,
   "id": "bf0c1543-782c-407f-94a2-d0e3e5e254bd",
   "metadata": {},
   "outputs": [],
   "source": [
    "if not kkbox_v1.path_train.exists():    \n",
    "    kkbox_v1._csv_to_feather_with_types()\n",
    "    kkbox_v1._make_survival_data()\n",
    "    kkbox_v1._make_survival_covariates()\n",
    "    kkbox_v1._make_train_test_split()"
   ]
  },
  {
   "cell_type": "code",
   "execution_count": 3,
   "id": "16f661e8-854d-49f2-8bbf-5c123f792aab",
   "metadata": {},
   "outputs": [
    {
     "data": {
      "text/html": [
       "<div>\n",
       "<style scoped>\n",
       "    .dataframe tbody tr th:only-of-type {\n",
       "        vertical-align: middle;\n",
       "    }\n",
       "\n",
       "    .dataframe tbody tr th {\n",
       "        vertical-align: top;\n",
       "    }\n",
       "\n",
       "    .dataframe thead th {\n",
       "        text-align: right;\n",
       "    }\n",
       "</style>\n",
       "<table border=\"1\" class=\"dataframe\">\n",
       "  <thead>\n",
       "    <tr style=\"text-align: right;\">\n",
       "      <th></th>\n",
       "      <th>msno</th>\n",
       "      <th>event</th>\n",
       "      <th>n_prev_churns</th>\n",
       "      <th>log_days_between_subs</th>\n",
       "      <th>duration</th>\n",
       "      <th>log_days_since_reg_init</th>\n",
       "      <th>log_payment_plan_days</th>\n",
       "      <th>log_plan_list_price</th>\n",
       "      <th>log_actual_amount_paid</th>\n",
       "      <th>is_auto_renew</th>\n",
       "      <th>is_cancel</th>\n",
       "      <th>city</th>\n",
       "      <th>gender</th>\n",
       "      <th>registered_via</th>\n",
       "      <th>age_at_start</th>\n",
       "      <th>strange_age</th>\n",
       "      <th>nan_days_since_reg_init</th>\n",
       "      <th>no_prev_churns</th>\n",
       "    </tr>\n",
       "  </thead>\n",
       "  <tbody>\n",
       "    <tr>\n",
       "      <th>0</th>\n",
       "      <td>khTQl3B7k10IA9zPMpm5jMc4VxHKh+mo8ngDaos2Od4=</td>\n",
       "      <td>1.0</td>\n",
       "      <td>0.0</td>\n",
       "      <td>0.0</td>\n",
       "      <td>7.0</td>\n",
       "      <td>0.000000</td>\n",
       "      <td>2.079442</td>\n",
       "      <td>0.000000</td>\n",
       "      <td>0.000000</td>\n",
       "      <td>0.0</td>\n",
       "      <td>0.0</td>\n",
       "      <td>NaN</td>\n",
       "      <td>NaN</td>\n",
       "      <td>NaN</td>\n",
       "      <td>-1.0</td>\n",
       "      <td>0.0</td>\n",
       "      <td>1.0</td>\n",
       "      <td>1.0</td>\n",
       "    </tr>\n",
       "    <tr>\n",
       "      <th>1</th>\n",
       "      <td>2jy816+2+7/UYg7RNhP1PnifBmP9CL0/3ioqGBg/jrc=</td>\n",
       "      <td>0.0</td>\n",
       "      <td>0.0</td>\n",
       "      <td>0.0</td>\n",
       "      <td>694.0</td>\n",
       "      <td>4.262680</td>\n",
       "      <td>3.433987</td>\n",
       "      <td>5.017280</td>\n",
       "      <td>5.017280</td>\n",
       "      <td>0.0</td>\n",
       "      <td>0.0</td>\n",
       "      <td>15</td>\n",
       "      <td>NaN</td>\n",
       "      <td>9</td>\n",
       "      <td>0.0</td>\n",
       "      <td>1.0</td>\n",
       "      <td>0.0</td>\n",
       "      <td>1.0</td>\n",
       "    </tr>\n",
       "    <tr>\n",
       "      <th>2</th>\n",
       "      <td>yTnAG21OBNMRG6yL2ovgHG5zJ2GFTRpRZDVP04dqsKY=</td>\n",
       "      <td>1.0</td>\n",
       "      <td>0.0</td>\n",
       "      <td>0.0</td>\n",
       "      <td>61.0</td>\n",
       "      <td>0.000000</td>\n",
       "      <td>3.433987</td>\n",
       "      <td>5.010635</td>\n",
       "      <td>0.000000</td>\n",
       "      <td>1.0</td>\n",
       "      <td>0.0</td>\n",
       "      <td>NaN</td>\n",
       "      <td>NaN</td>\n",
       "      <td>NaN</td>\n",
       "      <td>-1.0</td>\n",
       "      <td>0.0</td>\n",
       "      <td>1.0</td>\n",
       "      <td>1.0</td>\n",
       "    </tr>\n",
       "    <tr>\n",
       "      <th>3</th>\n",
       "      <td>PU3abZF43MOIGUKry3qu9vetFKi1d7BlJ8//Kk4zIHY=</td>\n",
       "      <td>0.0</td>\n",
       "      <td>0.0</td>\n",
       "      <td>0.0</td>\n",
       "      <td>58.0</td>\n",
       "      <td>0.693147</td>\n",
       "      <td>3.433987</td>\n",
       "      <td>4.615121</td>\n",
       "      <td>4.615121</td>\n",
       "      <td>1.0</td>\n",
       "      <td>0.0</td>\n",
       "      <td>1</td>\n",
       "      <td>NaN</td>\n",
       "      <td>7</td>\n",
       "      <td>-0.0</td>\n",
       "      <td>1.0</td>\n",
       "      <td>0.0</td>\n",
       "      <td>1.0</td>\n",
       "    </tr>\n",
       "    <tr>\n",
       "      <th>4</th>\n",
       "      <td>h7n6QC+6LkEsVtWHknIABBGN87SSMhu1cCEYq0f5lxw=</td>\n",
       "      <td>1.0</td>\n",
       "      <td>0.0</td>\n",
       "      <td>0.0</td>\n",
       "      <td>30.0</td>\n",
       "      <td>0.693147</td>\n",
       "      <td>3.433987</td>\n",
       "      <td>5.010635</td>\n",
       "      <td>0.000000</td>\n",
       "      <td>1.0</td>\n",
       "      <td>0.0</td>\n",
       "      <td>13</td>\n",
       "      <td>female</td>\n",
       "      <td>7</td>\n",
       "      <td>0.0</td>\n",
       "      <td>1.0</td>\n",
       "      <td>0.0</td>\n",
       "      <td>1.0</td>\n",
       "    </tr>\n",
       "    <tr>\n",
       "      <th>...</th>\n",
       "      <td>...</td>\n",
       "      <td>...</td>\n",
       "      <td>...</td>\n",
       "      <td>...</td>\n",
       "      <td>...</td>\n",
       "      <td>...</td>\n",
       "      <td>...</td>\n",
       "      <td>...</td>\n",
       "      <td>...</td>\n",
       "      <td>...</td>\n",
       "      <td>...</td>\n",
       "      <td>...</td>\n",
       "      <td>...</td>\n",
       "      <td>...</td>\n",
       "      <td>...</td>\n",
       "      <td>...</td>\n",
       "      <td>...</td>\n",
       "      <td>...</td>\n",
       "    </tr>\n",
       "    <tr>\n",
       "      <th>1786353</th>\n",
       "      <td>v8HEZ52iJ1vMcy6s4nA6fdmJ4GbJuRdPyk4YP9J8yx4=</td>\n",
       "      <td>1.0</td>\n",
       "      <td>0.0</td>\n",
       "      <td>0.0</td>\n",
       "      <td>7.0</td>\n",
       "      <td>0.000000</td>\n",
       "      <td>2.079442</td>\n",
       "      <td>0.000000</td>\n",
       "      <td>0.000000</td>\n",
       "      <td>0.0</td>\n",
       "      <td>0.0</td>\n",
       "      <td>NaN</td>\n",
       "      <td>NaN</td>\n",
       "      <td>NaN</td>\n",
       "      <td>-1.0</td>\n",
       "      <td>0.0</td>\n",
       "      <td>1.0</td>\n",
       "      <td>1.0</td>\n",
       "    </tr>\n",
       "    <tr>\n",
       "      <th>1786354</th>\n",
       "      <td>h8Ui90iYczbI7Z4ezCl6AQ6kKjsz0kF+2vt7jrDCjV8=</td>\n",
       "      <td>0.0</td>\n",
       "      <td>0.0</td>\n",
       "      <td>0.0</td>\n",
       "      <td>476.0</td>\n",
       "      <td>0.693147</td>\n",
       "      <td>2.397895</td>\n",
       "      <td>0.000000</td>\n",
       "      <td>0.000000</td>\n",
       "      <td>0.0</td>\n",
       "      <td>0.0</td>\n",
       "      <td>4</td>\n",
       "      <td>female</td>\n",
       "      <td>4</td>\n",
       "      <td>27.0</td>\n",
       "      <td>0.0</td>\n",
       "      <td>0.0</td>\n",
       "      <td>1.0</td>\n",
       "    </tr>\n",
       "    <tr>\n",
       "      <th>1786355</th>\n",
       "      <td>7k3u/jaF58rUPcqsxLVizRAZgh5HbZB3UR0tHsC86qY=</td>\n",
       "      <td>0.0</td>\n",
       "      <td>0.0</td>\n",
       "      <td>0.0</td>\n",
       "      <td>273.0</td>\n",
       "      <td>6.228511</td>\n",
       "      <td>3.433987</td>\n",
       "      <td>5.198497</td>\n",
       "      <td>5.198497</td>\n",
       "      <td>0.0</td>\n",
       "      <td>0.0</td>\n",
       "      <td>12</td>\n",
       "      <td>male</td>\n",
       "      <td>3</td>\n",
       "      <td>22.0</td>\n",
       "      <td>0.0</td>\n",
       "      <td>0.0</td>\n",
       "      <td>1.0</td>\n",
       "    </tr>\n",
       "    <tr>\n",
       "      <th>1786356</th>\n",
       "      <td>qXE+j9MNdtPUbcCy2pyKLzAWZ1LztDukUa9RKmFfDUE=</td>\n",
       "      <td>1.0</td>\n",
       "      <td>0.0</td>\n",
       "      <td>0.0</td>\n",
       "      <td>59.0</td>\n",
       "      <td>7.101676</td>\n",
       "      <td>3.433987</td>\n",
       "      <td>5.010635</td>\n",
       "      <td>5.010635</td>\n",
       "      <td>1.0</td>\n",
       "      <td>0.0</td>\n",
       "      <td>14</td>\n",
       "      <td>female</td>\n",
       "      <td>9</td>\n",
       "      <td>27.0</td>\n",
       "      <td>0.0</td>\n",
       "      <td>0.0</td>\n",
       "      <td>1.0</td>\n",
       "    </tr>\n",
       "    <tr>\n",
       "      <th>1786357</th>\n",
       "      <td>SWoWJ6qiJdO874HSiCfSOah3KEpw/x6c4dPBDEOHMQI=</td>\n",
       "      <td>0.0</td>\n",
       "      <td>0.0</td>\n",
       "      <td>0.0</td>\n",
       "      <td>790.0</td>\n",
       "      <td>0.000000</td>\n",
       "      <td>3.433987</td>\n",
       "      <td>5.010635</td>\n",
       "      <td>5.010635</td>\n",
       "      <td>1.0</td>\n",
       "      <td>0.0</td>\n",
       "      <td>NaN</td>\n",
       "      <td>NaN</td>\n",
       "      <td>NaN</td>\n",
       "      <td>-1.0</td>\n",
       "      <td>0.0</td>\n",
       "      <td>1.0</td>\n",
       "      <td>1.0</td>\n",
       "    </tr>\n",
       "  </tbody>\n",
       "</table>\n",
       "<p>1786358 rows × 18 columns</p>\n",
       "</div>"
      ],
      "text/plain": [
       "                                                 msno  event  n_prev_churns  \\\n",
       "0        khTQl3B7k10IA9zPMpm5jMc4VxHKh+mo8ngDaos2Od4=    1.0            0.0   \n",
       "1        2jy816+2+7/UYg7RNhP1PnifBmP9CL0/3ioqGBg/jrc=    0.0            0.0   \n",
       "2        yTnAG21OBNMRG6yL2ovgHG5zJ2GFTRpRZDVP04dqsKY=    1.0            0.0   \n",
       "3        PU3abZF43MOIGUKry3qu9vetFKi1d7BlJ8//Kk4zIHY=    0.0            0.0   \n",
       "4        h7n6QC+6LkEsVtWHknIABBGN87SSMhu1cCEYq0f5lxw=    1.0            0.0   \n",
       "...                                               ...    ...            ...   \n",
       "1786353  v8HEZ52iJ1vMcy6s4nA6fdmJ4GbJuRdPyk4YP9J8yx4=    1.0            0.0   \n",
       "1786354  h8Ui90iYczbI7Z4ezCl6AQ6kKjsz0kF+2vt7jrDCjV8=    0.0            0.0   \n",
       "1786355  7k3u/jaF58rUPcqsxLVizRAZgh5HbZB3UR0tHsC86qY=    0.0            0.0   \n",
       "1786356  qXE+j9MNdtPUbcCy2pyKLzAWZ1LztDukUa9RKmFfDUE=    1.0            0.0   \n",
       "1786357  SWoWJ6qiJdO874HSiCfSOah3KEpw/x6c4dPBDEOHMQI=    0.0            0.0   \n",
       "\n",
       "         log_days_between_subs  duration  log_days_since_reg_init  \\\n",
       "0                          0.0       7.0                 0.000000   \n",
       "1                          0.0     694.0                 4.262680   \n",
       "2                          0.0      61.0                 0.000000   \n",
       "3                          0.0      58.0                 0.693147   \n",
       "4                          0.0      30.0                 0.693147   \n",
       "...                        ...       ...                      ...   \n",
       "1786353                    0.0       7.0                 0.000000   \n",
       "1786354                    0.0     476.0                 0.693147   \n",
       "1786355                    0.0     273.0                 6.228511   \n",
       "1786356                    0.0      59.0                 7.101676   \n",
       "1786357                    0.0     790.0                 0.000000   \n",
       "\n",
       "         log_payment_plan_days  log_plan_list_price  log_actual_amount_paid  \\\n",
       "0                     2.079442             0.000000                0.000000   \n",
       "1                     3.433987             5.017280                5.017280   \n",
       "2                     3.433987             5.010635                0.000000   \n",
       "3                     3.433987             4.615121                4.615121   \n",
       "4                     3.433987             5.010635                0.000000   \n",
       "...                        ...                  ...                     ...   \n",
       "1786353               2.079442             0.000000                0.000000   \n",
       "1786354               2.397895             0.000000                0.000000   \n",
       "1786355               3.433987             5.198497                5.198497   \n",
       "1786356               3.433987             5.010635                5.010635   \n",
       "1786357               3.433987             5.010635                5.010635   \n",
       "\n",
       "         is_auto_renew  is_cancel city  gender registered_via  age_at_start  \\\n",
       "0                  0.0        0.0  NaN     NaN            NaN          -1.0   \n",
       "1                  0.0        0.0   15     NaN              9           0.0   \n",
       "2                  1.0        0.0  NaN     NaN            NaN          -1.0   \n",
       "3                  1.0        0.0    1     NaN              7          -0.0   \n",
       "4                  1.0        0.0   13  female              7           0.0   \n",
       "...                ...        ...  ...     ...            ...           ...   \n",
       "1786353            0.0        0.0  NaN     NaN            NaN          -1.0   \n",
       "1786354            0.0        0.0    4  female              4          27.0   \n",
       "1786355            0.0        0.0   12    male              3          22.0   \n",
       "1786356            1.0        0.0   14  female              9          27.0   \n",
       "1786357            1.0        0.0  NaN     NaN            NaN          -1.0   \n",
       "\n",
       "         strange_age  nan_days_since_reg_init  no_prev_churns  \n",
       "0                0.0                      1.0             1.0  \n",
       "1                1.0                      0.0             1.0  \n",
       "2                0.0                      1.0             1.0  \n",
       "3                1.0                      0.0             1.0  \n",
       "4                1.0                      0.0             1.0  \n",
       "...              ...                      ...             ...  \n",
       "1786353          0.0                      1.0             1.0  \n",
       "1786354          0.0                      0.0             1.0  \n",
       "1786355          0.0                      0.0             1.0  \n",
       "1786356          0.0                      0.0             1.0  \n",
       "1786357          0.0                      1.0             1.0  \n",
       "\n",
       "[1786358 rows x 18 columns]"
      ]
     },
     "execution_count": 3,
     "metadata": {},
     "output_type": "execute_result"
    }
   ],
   "source": [
    "train = kkbox_v1.read_df(subset=\"train\")\n",
    "train"
   ]
  },
  {
   "cell_type": "code",
   "execution_count": 4,
   "id": "0412d456-33cf-4beb-acfc-3a5a57dd213e",
   "metadata": {},
   "outputs": [
    {
     "data": {
      "text/html": [
       "<div>\n",
       "<style scoped>\n",
       "    .dataframe tbody tr th:only-of-type {\n",
       "        vertical-align: middle;\n",
       "    }\n",
       "\n",
       "    .dataframe tbody tr th {\n",
       "        vertical-align: top;\n",
       "    }\n",
       "\n",
       "    .dataframe thead th {\n",
       "        text-align: right;\n",
       "    }\n",
       "</style>\n",
       "<table border=\"1\" class=\"dataframe\">\n",
       "  <thead>\n",
       "    <tr style=\"text-align: right;\">\n",
       "      <th></th>\n",
       "      <th>msno</th>\n",
       "      <th>event</th>\n",
       "      <th>n_prev_churns</th>\n",
       "      <th>log_days_between_subs</th>\n",
       "      <th>duration</th>\n",
       "      <th>log_days_since_reg_init</th>\n",
       "      <th>log_payment_plan_days</th>\n",
       "      <th>log_plan_list_price</th>\n",
       "      <th>log_actual_amount_paid</th>\n",
       "      <th>is_auto_renew</th>\n",
       "      <th>is_cancel</th>\n",
       "      <th>city</th>\n",
       "      <th>gender</th>\n",
       "      <th>registered_via</th>\n",
       "      <th>age_at_start</th>\n",
       "      <th>strange_age</th>\n",
       "      <th>nan_days_since_reg_init</th>\n",
       "      <th>no_prev_churns</th>\n",
       "    </tr>\n",
       "  </thead>\n",
       "  <tbody>\n",
       "    <tr>\n",
       "      <th>0</th>\n",
       "      <td>ySeDlgqnyg7s6GysoIT6PA4dxKUtf7nNRCwc1rM9KHI=</td>\n",
       "      <td>1.0</td>\n",
       "      <td>0.0</td>\n",
       "      <td>0.000000</td>\n",
       "      <td>413.0</td>\n",
       "      <td>6.037871</td>\n",
       "      <td>6.018593</td>\n",
       "      <td>7.489412</td>\n",
       "      <td>7.489412</td>\n",
       "      <td>0.0</td>\n",
       "      <td>0.0</td>\n",
       "      <td>8</td>\n",
       "      <td>female</td>\n",
       "      <td>9</td>\n",
       "      <td>39.0</td>\n",
       "      <td>0.0</td>\n",
       "      <td>0.0</td>\n",
       "      <td>1.0</td>\n",
       "    </tr>\n",
       "    <tr>\n",
       "      <th>1</th>\n",
       "      <td>V8P2TtMajBFvu73ylPvuuL+TZt4gnJga4/2eP7zfcLg=</td>\n",
       "      <td>1.0</td>\n",
       "      <td>0.0</td>\n",
       "      <td>0.000000</td>\n",
       "      <td>29.0</td>\n",
       "      <td>0.000000</td>\n",
       "      <td>3.433987</td>\n",
       "      <td>5.010635</td>\n",
       "      <td>0.000000</td>\n",
       "      <td>1.0</td>\n",
       "      <td>0.0</td>\n",
       "      <td>NaN</td>\n",
       "      <td>NaN</td>\n",
       "      <td>NaN</td>\n",
       "      <td>-1.0</td>\n",
       "      <td>0.0</td>\n",
       "      <td>1.0</td>\n",
       "      <td>1.0</td>\n",
       "    </tr>\n",
       "    <tr>\n",
       "      <th>2</th>\n",
       "      <td>TBph+97zCjGwbI2nUxuWyOp2qpWqVn9k1iR4uaXEG7k=</td>\n",
       "      <td>0.0</td>\n",
       "      <td>0.0</td>\n",
       "      <td>0.000000</td>\n",
       "      <td>791.0</td>\n",
       "      <td>7.178545</td>\n",
       "      <td>3.433987</td>\n",
       "      <td>4.867535</td>\n",
       "      <td>4.867535</td>\n",
       "      <td>1.0</td>\n",
       "      <td>0.0</td>\n",
       "      <td>1</td>\n",
       "      <td>NaN</td>\n",
       "      <td>7</td>\n",
       "      <td>0.0</td>\n",
       "      <td>1.0</td>\n",
       "      <td>0.0</td>\n",
       "      <td>1.0</td>\n",
       "    </tr>\n",
       "    <tr>\n",
       "      <th>3</th>\n",
       "      <td>4+I6SwJRG6DipLKRrJtu4TivQqfEqUUs+FxK+dvo1wI=</td>\n",
       "      <td>1.0</td>\n",
       "      <td>0.0</td>\n",
       "      <td>0.000000</td>\n",
       "      <td>14.0</td>\n",
       "      <td>0.000000</td>\n",
       "      <td>3.433987</td>\n",
       "      <td>5.010635</td>\n",
       "      <td>0.000000</td>\n",
       "      <td>1.0</td>\n",
       "      <td>0.0</td>\n",
       "      <td>NaN</td>\n",
       "      <td>NaN</td>\n",
       "      <td>NaN</td>\n",
       "      <td>-1.0</td>\n",
       "      <td>0.0</td>\n",
       "      <td>1.0</td>\n",
       "      <td>1.0</td>\n",
       "    </tr>\n",
       "    <tr>\n",
       "      <th>4</th>\n",
       "      <td>S746huKfehQhDU9EHDppF5hnFRkNCBTilQT1l5XXibo=</td>\n",
       "      <td>1.0</td>\n",
       "      <td>0.0</td>\n",
       "      <td>0.000000</td>\n",
       "      <td>673.0</td>\n",
       "      <td>7.280697</td>\n",
       "      <td>3.465736</td>\n",
       "      <td>5.010635</td>\n",
       "      <td>5.010635</td>\n",
       "      <td>1.0</td>\n",
       "      <td>0.0</td>\n",
       "      <td>5</td>\n",
       "      <td>male</td>\n",
       "      <td>9</td>\n",
       "      <td>39.0</td>\n",
       "      <td>0.0</td>\n",
       "      <td>0.0</td>\n",
       "      <td>1.0</td>\n",
       "    </tr>\n",
       "    <tr>\n",
       "      <th>...</th>\n",
       "      <td>...</td>\n",
       "      <td>...</td>\n",
       "      <td>...</td>\n",
       "      <td>...</td>\n",
       "      <td>...</td>\n",
       "      <td>...</td>\n",
       "      <td>...</td>\n",
       "      <td>...</td>\n",
       "      <td>...</td>\n",
       "      <td>...</td>\n",
       "      <td>...</td>\n",
       "      <td>...</td>\n",
       "      <td>...</td>\n",
       "      <td>...</td>\n",
       "      <td>...</td>\n",
       "      <td>...</td>\n",
       "      <td>...</td>\n",
       "      <td>...</td>\n",
       "    </tr>\n",
       "    <tr>\n",
       "      <th>198635</th>\n",
       "      <td>YvRQdn78R7qa5uC4p/N4m+iJmcQIEJQmvtB3DLuER3U=</td>\n",
       "      <td>1.0</td>\n",
       "      <td>0.0</td>\n",
       "      <td>0.000000</td>\n",
       "      <td>3.0</td>\n",
       "      <td>6.216606</td>\n",
       "      <td>5.278115</td>\n",
       "      <td>0.000000</td>\n",
       "      <td>0.000000</td>\n",
       "      <td>0.0</td>\n",
       "      <td>0.0</td>\n",
       "      <td>5</td>\n",
       "      <td>female</td>\n",
       "      <td>3</td>\n",
       "      <td>48.0</td>\n",
       "      <td>0.0</td>\n",
       "      <td>0.0</td>\n",
       "      <td>1.0</td>\n",
       "    </tr>\n",
       "    <tr>\n",
       "      <th>198636</th>\n",
       "      <td>0TSySc3XgF3BoFN1gmDxssKqARwnE/fUnPQau+6wOgA=</td>\n",
       "      <td>1.0</td>\n",
       "      <td>0.0</td>\n",
       "      <td>0.000000</td>\n",
       "      <td>7.0</td>\n",
       "      <td>0.000000</td>\n",
       "      <td>2.079442</td>\n",
       "      <td>0.000000</td>\n",
       "      <td>0.000000</td>\n",
       "      <td>0.0</td>\n",
       "      <td>0.0</td>\n",
       "      <td>NaN</td>\n",
       "      <td>NaN</td>\n",
       "      <td>NaN</td>\n",
       "      <td>-1.0</td>\n",
       "      <td>0.0</td>\n",
       "      <td>1.0</td>\n",
       "      <td>1.0</td>\n",
       "    </tr>\n",
       "    <tr>\n",
       "      <th>198637</th>\n",
       "      <td>t4J50mpx8fCCalbag3FWOem0KblFWMgVKuq7fPwuFLk=</td>\n",
       "      <td>0.0</td>\n",
       "      <td>0.0</td>\n",
       "      <td>0.000000</td>\n",
       "      <td>150.0</td>\n",
       "      <td>0.000000</td>\n",
       "      <td>3.433987</td>\n",
       "      <td>4.867535</td>\n",
       "      <td>4.867535</td>\n",
       "      <td>1.0</td>\n",
       "      <td>0.0</td>\n",
       "      <td>NaN</td>\n",
       "      <td>NaN</td>\n",
       "      <td>NaN</td>\n",
       "      <td>-1.0</td>\n",
       "      <td>0.0</td>\n",
       "      <td>1.0</td>\n",
       "      <td>1.0</td>\n",
       "    </tr>\n",
       "    <tr>\n",
       "      <th>198638</th>\n",
       "      <td>7d7OstX9Mt6oIf7lt16ssUiGvmVou1vdolonepYfeY0=</td>\n",
       "      <td>1.0</td>\n",
       "      <td>0.0</td>\n",
       "      <td>0.000000</td>\n",
       "      <td>30.0</td>\n",
       "      <td>5.710427</td>\n",
       "      <td>0.000000</td>\n",
       "      <td>0.000000</td>\n",
       "      <td>5.010635</td>\n",
       "      <td>0.0</td>\n",
       "      <td>0.0</td>\n",
       "      <td>1</td>\n",
       "      <td>NaN</td>\n",
       "      <td>9</td>\n",
       "      <td>0.0</td>\n",
       "      <td>1.0</td>\n",
       "      <td>0.0</td>\n",
       "      <td>1.0</td>\n",
       "    </tr>\n",
       "    <tr>\n",
       "      <th>198639</th>\n",
       "      <td>7d7OstX9Mt6oIf7lt16ssUiGvmVou1vdolonepYfeY0=</td>\n",
       "      <td>1.0</td>\n",
       "      <td>1.0</td>\n",
       "      <td>3.610918</td>\n",
       "      <td>30.0</td>\n",
       "      <td>5.908083</td>\n",
       "      <td>3.433987</td>\n",
       "      <td>5.010635</td>\n",
       "      <td>5.010635</td>\n",
       "      <td>0.0</td>\n",
       "      <td>0.0</td>\n",
       "      <td>1</td>\n",
       "      <td>NaN</td>\n",
       "      <td>9</td>\n",
       "      <td>0.0</td>\n",
       "      <td>1.0</td>\n",
       "      <td>0.0</td>\n",
       "      <td>0.0</td>\n",
       "    </tr>\n",
       "  </tbody>\n",
       "</table>\n",
       "<p>198640 rows × 18 columns</p>\n",
       "</div>"
      ],
      "text/plain": [
       "                                                msno  event  n_prev_churns  \\\n",
       "0       ySeDlgqnyg7s6GysoIT6PA4dxKUtf7nNRCwc1rM9KHI=    1.0            0.0   \n",
       "1       V8P2TtMajBFvu73ylPvuuL+TZt4gnJga4/2eP7zfcLg=    1.0            0.0   \n",
       "2       TBph+97zCjGwbI2nUxuWyOp2qpWqVn9k1iR4uaXEG7k=    0.0            0.0   \n",
       "3       4+I6SwJRG6DipLKRrJtu4TivQqfEqUUs+FxK+dvo1wI=    1.0            0.0   \n",
       "4       S746huKfehQhDU9EHDppF5hnFRkNCBTilQT1l5XXibo=    1.0            0.0   \n",
       "...                                              ...    ...            ...   \n",
       "198635  YvRQdn78R7qa5uC4p/N4m+iJmcQIEJQmvtB3DLuER3U=    1.0            0.0   \n",
       "198636  0TSySc3XgF3BoFN1gmDxssKqARwnE/fUnPQau+6wOgA=    1.0            0.0   \n",
       "198637  t4J50mpx8fCCalbag3FWOem0KblFWMgVKuq7fPwuFLk=    0.0            0.0   \n",
       "198638  7d7OstX9Mt6oIf7lt16ssUiGvmVou1vdolonepYfeY0=    1.0            0.0   \n",
       "198639  7d7OstX9Mt6oIf7lt16ssUiGvmVou1vdolonepYfeY0=    1.0            1.0   \n",
       "\n",
       "        log_days_between_subs  duration  log_days_since_reg_init  \\\n",
       "0                    0.000000     413.0                 6.037871   \n",
       "1                    0.000000      29.0                 0.000000   \n",
       "2                    0.000000     791.0                 7.178545   \n",
       "3                    0.000000      14.0                 0.000000   \n",
       "4                    0.000000     673.0                 7.280697   \n",
       "...                       ...       ...                      ...   \n",
       "198635               0.000000       3.0                 6.216606   \n",
       "198636               0.000000       7.0                 0.000000   \n",
       "198637               0.000000     150.0                 0.000000   \n",
       "198638               0.000000      30.0                 5.710427   \n",
       "198639               3.610918      30.0                 5.908083   \n",
       "\n",
       "        log_payment_plan_days  log_plan_list_price  log_actual_amount_paid  \\\n",
       "0                    6.018593             7.489412                7.489412   \n",
       "1                    3.433987             5.010635                0.000000   \n",
       "2                    3.433987             4.867535                4.867535   \n",
       "3                    3.433987             5.010635                0.000000   \n",
       "4                    3.465736             5.010635                5.010635   \n",
       "...                       ...                  ...                     ...   \n",
       "198635               5.278115             0.000000                0.000000   \n",
       "198636               2.079442             0.000000                0.000000   \n",
       "198637               3.433987             4.867535                4.867535   \n",
       "198638               0.000000             0.000000                5.010635   \n",
       "198639               3.433987             5.010635                5.010635   \n",
       "\n",
       "        is_auto_renew  is_cancel city  gender registered_via  age_at_start  \\\n",
       "0                 0.0        0.0    8  female              9          39.0   \n",
       "1                 1.0        0.0  NaN     NaN            NaN          -1.0   \n",
       "2                 1.0        0.0    1     NaN              7           0.0   \n",
       "3                 1.0        0.0  NaN     NaN            NaN          -1.0   \n",
       "4                 1.0        0.0    5    male              9          39.0   \n",
       "...               ...        ...  ...     ...            ...           ...   \n",
       "198635            0.0        0.0    5  female              3          48.0   \n",
       "198636            0.0        0.0  NaN     NaN            NaN          -1.0   \n",
       "198637            1.0        0.0  NaN     NaN            NaN          -1.0   \n",
       "198638            0.0        0.0    1     NaN              9           0.0   \n",
       "198639            0.0        0.0    1     NaN              9           0.0   \n",
       "\n",
       "        strange_age  nan_days_since_reg_init  no_prev_churns  \n",
       "0               0.0                      0.0             1.0  \n",
       "1               0.0                      1.0             1.0  \n",
       "2               1.0                      0.0             1.0  \n",
       "3               0.0                      1.0             1.0  \n",
       "4               0.0                      0.0             1.0  \n",
       "...             ...                      ...             ...  \n",
       "198635          0.0                      0.0             1.0  \n",
       "198636          0.0                      1.0             1.0  \n",
       "198637          0.0                      1.0             1.0  \n",
       "198638          1.0                      0.0             1.0  \n",
       "198639          1.0                      0.0             0.0  \n",
       "\n",
       "[198640 rows x 18 columns]"
      ]
     },
     "execution_count": 4,
     "metadata": {},
     "output_type": "execute_result"
    }
   ],
   "source": [
    "val = kkbox_v1.read_df(subset=\"val\")\n",
    "val"
   ]
  },
  {
   "cell_type": "code",
   "execution_count": 5,
   "id": "9f727692-f484-43a8-a81b-750d088eeb8b",
   "metadata": {},
   "outputs": [
    {
     "data": {
      "text/html": [
       "<div>\n",
       "<style scoped>\n",
       "    .dataframe tbody tr th:only-of-type {\n",
       "        vertical-align: middle;\n",
       "    }\n",
       "\n",
       "    .dataframe tbody tr th {\n",
       "        vertical-align: top;\n",
       "    }\n",
       "\n",
       "    .dataframe thead th {\n",
       "        text-align: right;\n",
       "    }\n",
       "</style>\n",
       "<table border=\"1\" class=\"dataframe\">\n",
       "  <thead>\n",
       "    <tr style=\"text-align: right;\">\n",
       "      <th></th>\n",
       "      <th>msno</th>\n",
       "      <th>event</th>\n",
       "      <th>n_prev_churns</th>\n",
       "      <th>log_days_between_subs</th>\n",
       "      <th>duration</th>\n",
       "      <th>log_days_since_reg_init</th>\n",
       "      <th>log_payment_plan_days</th>\n",
       "      <th>log_plan_list_price</th>\n",
       "      <th>log_actual_amount_paid</th>\n",
       "      <th>is_auto_renew</th>\n",
       "      <th>is_cancel</th>\n",
       "      <th>city</th>\n",
       "      <th>gender</th>\n",
       "      <th>registered_via</th>\n",
       "      <th>age_at_start</th>\n",
       "      <th>strange_age</th>\n",
       "      <th>nan_days_since_reg_init</th>\n",
       "      <th>no_prev_churns</th>\n",
       "    </tr>\n",
       "  </thead>\n",
       "  <tbody>\n",
       "    <tr>\n",
       "      <th>0</th>\n",
       "      <td>O77INmOJUmfNOpkjIKDqUg2mspqVilbeIZNMeA9uSPI=</td>\n",
       "      <td>1.0</td>\n",
       "      <td>0.0</td>\n",
       "      <td>0.0</td>\n",
       "      <td>15.0</td>\n",
       "      <td>0.693147</td>\n",
       "      <td>2.708050</td>\n",
       "      <td>0.000000</td>\n",
       "      <td>0.000000</td>\n",
       "      <td>0.0</td>\n",
       "      <td>0.0</td>\n",
       "      <td>1</td>\n",
       "      <td>NaN</td>\n",
       "      <td>9</td>\n",
       "      <td>0.0</td>\n",
       "      <td>1.0</td>\n",
       "      <td>0.0</td>\n",
       "      <td>1.0</td>\n",
       "    </tr>\n",
       "    <tr>\n",
       "      <th>1</th>\n",
       "      <td>i7Rxt2tQegmPFrnn7gkeETBhWCAJ5TSuo5/hlp/nlWk=</td>\n",
       "      <td>1.0</td>\n",
       "      <td>0.0</td>\n",
       "      <td>0.0</td>\n",
       "      <td>410.0</td>\n",
       "      <td>3.583519</td>\n",
       "      <td>6.018593</td>\n",
       "      <td>7.489412</td>\n",
       "      <td>7.489412</td>\n",
       "      <td>0.0</td>\n",
       "      <td>0.0</td>\n",
       "      <td>13</td>\n",
       "      <td>male</td>\n",
       "      <td>3</td>\n",
       "      <td>49.0</td>\n",
       "      <td>0.0</td>\n",
       "      <td>0.0</td>\n",
       "      <td>1.0</td>\n",
       "    </tr>\n",
       "    <tr>\n",
       "      <th>2</th>\n",
       "      <td>y6oqfjpx42uMgAhqw75FzQWfPE/2JKe0TkLfHyCcdIY=</td>\n",
       "      <td>1.0</td>\n",
       "      <td>0.0</td>\n",
       "      <td>0.0</td>\n",
       "      <td>410.0</td>\n",
       "      <td>7.852439</td>\n",
       "      <td>3.465736</td>\n",
       "      <td>5.010635</td>\n",
       "      <td>5.010635</td>\n",
       "      <td>1.0</td>\n",
       "      <td>0.0</td>\n",
       "      <td>22</td>\n",
       "      <td>male</td>\n",
       "      <td>9</td>\n",
       "      <td>29.0</td>\n",
       "      <td>0.0</td>\n",
       "      <td>0.0</td>\n",
       "      <td>1.0</td>\n",
       "    </tr>\n",
       "    <tr>\n",
       "      <th>3</th>\n",
       "      <td>y6oqfjpx42uMgAhqw75FzQWfPE/2JKe0TkLfHyCcdIY=</td>\n",
       "      <td>1.0</td>\n",
       "      <td>1.0</td>\n",
       "      <td>0.0</td>\n",
       "      <td>138.0</td>\n",
       "      <td>8.045268</td>\n",
       "      <td>3.433987</td>\n",
       "      <td>5.010635</td>\n",
       "      <td>5.010635</td>\n",
       "      <td>1.0</td>\n",
       "      <td>0.0</td>\n",
       "      <td>22</td>\n",
       "      <td>male</td>\n",
       "      <td>9</td>\n",
       "      <td>30.0</td>\n",
       "      <td>0.0</td>\n",
       "      <td>0.0</td>\n",
       "      <td>0.0</td>\n",
       "    </tr>\n",
       "    <tr>\n",
       "      <th>4</th>\n",
       "      <td>ovOeCMa24deYRZkxKq9DLVCg0HYxFH3UC0kvluRr7hg=</td>\n",
       "      <td>1.0</td>\n",
       "      <td>0.0</td>\n",
       "      <td>0.0</td>\n",
       "      <td>393.0</td>\n",
       "      <td>0.693147</td>\n",
       "      <td>5.278115</td>\n",
       "      <td>6.796824</td>\n",
       "      <td>6.796824</td>\n",
       "      <td>0.0</td>\n",
       "      <td>0.0</td>\n",
       "      <td>5</td>\n",
       "      <td>female</td>\n",
       "      <td>9</td>\n",
       "      <td>20.0</td>\n",
       "      <td>0.0</td>\n",
       "      <td>0.0</td>\n",
       "      <td>1.0</td>\n",
       "    </tr>\n",
       "    <tr>\n",
       "      <th>...</th>\n",
       "      <td>...</td>\n",
       "      <td>...</td>\n",
       "      <td>...</td>\n",
       "      <td>...</td>\n",
       "      <td>...</td>\n",
       "      <td>...</td>\n",
       "      <td>...</td>\n",
       "      <td>...</td>\n",
       "      <td>...</td>\n",
       "      <td>...</td>\n",
       "      <td>...</td>\n",
       "      <td>...</td>\n",
       "      <td>...</td>\n",
       "      <td>...</td>\n",
       "      <td>...</td>\n",
       "      <td>...</td>\n",
       "      <td>...</td>\n",
       "      <td>...</td>\n",
       "    </tr>\n",
       "    <tr>\n",
       "      <th>661743</th>\n",
       "      <td>oDvTbXiI3lFVVP7FwP5S7902FHg43QxywIaL+ph362U=</td>\n",
       "      <td>1.0</td>\n",
       "      <td>0.0</td>\n",
       "      <td>0.0</td>\n",
       "      <td>394.0</td>\n",
       "      <td>3.044523</td>\n",
       "      <td>3.465736</td>\n",
       "      <td>5.010635</td>\n",
       "      <td>5.010635</td>\n",
       "      <td>1.0</td>\n",
       "      <td>0.0</td>\n",
       "      <td>5</td>\n",
       "      <td>female</td>\n",
       "      <td>3</td>\n",
       "      <td>24.0</td>\n",
       "      <td>0.0</td>\n",
       "      <td>0.0</td>\n",
       "      <td>1.0</td>\n",
       "    </tr>\n",
       "    <tr>\n",
       "      <th>661744</th>\n",
       "      <td>/gHyWzlbA/hSJUPaOPySmPPZg77knoIyRFxmnbVdfq8=</td>\n",
       "      <td>1.0</td>\n",
       "      <td>0.0</td>\n",
       "      <td>0.0</td>\n",
       "      <td>28.0</td>\n",
       "      <td>0.000000</td>\n",
       "      <td>3.433987</td>\n",
       "      <td>5.010635</td>\n",
       "      <td>0.000000</td>\n",
       "      <td>1.0</td>\n",
       "      <td>0.0</td>\n",
       "      <td>NaN</td>\n",
       "      <td>NaN</td>\n",
       "      <td>NaN</td>\n",
       "      <td>-1.0</td>\n",
       "      <td>0.0</td>\n",
       "      <td>1.0</td>\n",
       "      <td>1.0</td>\n",
       "    </tr>\n",
       "    <tr>\n",
       "      <th>661745</th>\n",
       "      <td>rvOvNfogF1rvCJ42ZHPmgflxaXm2Ix+vxizd/A4MDKM=</td>\n",
       "      <td>1.0</td>\n",
       "      <td>0.0</td>\n",
       "      <td>0.0</td>\n",
       "      <td>3.0</td>\n",
       "      <td>4.672829</td>\n",
       "      <td>2.079442</td>\n",
       "      <td>0.000000</td>\n",
       "      <td>0.000000</td>\n",
       "      <td>0.0</td>\n",
       "      <td>0.0</td>\n",
       "      <td>1</td>\n",
       "      <td>NaN</td>\n",
       "      <td>9</td>\n",
       "      <td>0.0</td>\n",
       "      <td>1.0</td>\n",
       "      <td>0.0</td>\n",
       "      <td>1.0</td>\n",
       "    </tr>\n",
       "    <tr>\n",
       "      <th>661746</th>\n",
       "      <td>QjyVGBDNTHLZq+jSGCnyZNmDNmOygedtzDvbbik1wAQ=</td>\n",
       "      <td>1.0</td>\n",
       "      <td>0.0</td>\n",
       "      <td>0.0</td>\n",
       "      <td>440.0</td>\n",
       "      <td>7.639642</td>\n",
       "      <td>6.018593</td>\n",
       "      <td>7.489412</td>\n",
       "      <td>7.489412</td>\n",
       "      <td>0.0</td>\n",
       "      <td>0.0</td>\n",
       "      <td>13</td>\n",
       "      <td>female</td>\n",
       "      <td>9</td>\n",
       "      <td>46.0</td>\n",
       "      <td>0.0</td>\n",
       "      <td>0.0</td>\n",
       "      <td>1.0</td>\n",
       "    </tr>\n",
       "    <tr>\n",
       "      <th>661747</th>\n",
       "      <td>123uwg2TXBzzWK+CzULfvUWlrMaJy7OnuPTkCT53IYc=</td>\n",
       "      <td>0.0</td>\n",
       "      <td>0.0</td>\n",
       "      <td>0.0</td>\n",
       "      <td>516.0</td>\n",
       "      <td>6.526495</td>\n",
       "      <td>3.433987</td>\n",
       "      <td>4.605170</td>\n",
       "      <td>4.605170</td>\n",
       "      <td>1.0</td>\n",
       "      <td>0.0</td>\n",
       "      <td>5</td>\n",
       "      <td>female</td>\n",
       "      <td>7</td>\n",
       "      <td>27.0</td>\n",
       "      <td>0.0</td>\n",
       "      <td>0.0</td>\n",
       "      <td>1.0</td>\n",
       "    </tr>\n",
       "  </tbody>\n",
       "</table>\n",
       "<p>661748 rows × 18 columns</p>\n",
       "</div>"
      ],
      "text/plain": [
       "                                                msno  event  n_prev_churns  \\\n",
       "0       O77INmOJUmfNOpkjIKDqUg2mspqVilbeIZNMeA9uSPI=    1.0            0.0   \n",
       "1       i7Rxt2tQegmPFrnn7gkeETBhWCAJ5TSuo5/hlp/nlWk=    1.0            0.0   \n",
       "2       y6oqfjpx42uMgAhqw75FzQWfPE/2JKe0TkLfHyCcdIY=    1.0            0.0   \n",
       "3       y6oqfjpx42uMgAhqw75FzQWfPE/2JKe0TkLfHyCcdIY=    1.0            1.0   \n",
       "4       ovOeCMa24deYRZkxKq9DLVCg0HYxFH3UC0kvluRr7hg=    1.0            0.0   \n",
       "...                                              ...    ...            ...   \n",
       "661743  oDvTbXiI3lFVVP7FwP5S7902FHg43QxywIaL+ph362U=    1.0            0.0   \n",
       "661744  /gHyWzlbA/hSJUPaOPySmPPZg77knoIyRFxmnbVdfq8=    1.0            0.0   \n",
       "661745  rvOvNfogF1rvCJ42ZHPmgflxaXm2Ix+vxizd/A4MDKM=    1.0            0.0   \n",
       "661746  QjyVGBDNTHLZq+jSGCnyZNmDNmOygedtzDvbbik1wAQ=    1.0            0.0   \n",
       "661747  123uwg2TXBzzWK+CzULfvUWlrMaJy7OnuPTkCT53IYc=    0.0            0.0   \n",
       "\n",
       "        log_days_between_subs  duration  log_days_since_reg_init  \\\n",
       "0                         0.0      15.0                 0.693147   \n",
       "1                         0.0     410.0                 3.583519   \n",
       "2                         0.0     410.0                 7.852439   \n",
       "3                         0.0     138.0                 8.045268   \n",
       "4                         0.0     393.0                 0.693147   \n",
       "...                       ...       ...                      ...   \n",
       "661743                    0.0     394.0                 3.044523   \n",
       "661744                    0.0      28.0                 0.000000   \n",
       "661745                    0.0       3.0                 4.672829   \n",
       "661746                    0.0     440.0                 7.639642   \n",
       "661747                    0.0     516.0                 6.526495   \n",
       "\n",
       "        log_payment_plan_days  log_plan_list_price  log_actual_amount_paid  \\\n",
       "0                    2.708050             0.000000                0.000000   \n",
       "1                    6.018593             7.489412                7.489412   \n",
       "2                    3.465736             5.010635                5.010635   \n",
       "3                    3.433987             5.010635                5.010635   \n",
       "4                    5.278115             6.796824                6.796824   \n",
       "...                       ...                  ...                     ...   \n",
       "661743               3.465736             5.010635                5.010635   \n",
       "661744               3.433987             5.010635                0.000000   \n",
       "661745               2.079442             0.000000                0.000000   \n",
       "661746               6.018593             7.489412                7.489412   \n",
       "661747               3.433987             4.605170                4.605170   \n",
       "\n",
       "        is_auto_renew  is_cancel city  gender registered_via  age_at_start  \\\n",
       "0                 0.0        0.0    1     NaN              9           0.0   \n",
       "1                 0.0        0.0   13    male              3          49.0   \n",
       "2                 1.0        0.0   22    male              9          29.0   \n",
       "3                 1.0        0.0   22    male              9          30.0   \n",
       "4                 0.0        0.0    5  female              9          20.0   \n",
       "...               ...        ...  ...     ...            ...           ...   \n",
       "661743            1.0        0.0    5  female              3          24.0   \n",
       "661744            1.0        0.0  NaN     NaN            NaN          -1.0   \n",
       "661745            0.0        0.0    1     NaN              9           0.0   \n",
       "661746            0.0        0.0   13  female              9          46.0   \n",
       "661747            1.0        0.0    5  female              7          27.0   \n",
       "\n",
       "        strange_age  nan_days_since_reg_init  no_prev_churns  \n",
       "0               1.0                      0.0             1.0  \n",
       "1               0.0                      0.0             1.0  \n",
       "2               0.0                      0.0             1.0  \n",
       "3               0.0                      0.0             0.0  \n",
       "4               0.0                      0.0             1.0  \n",
       "...             ...                      ...             ...  \n",
       "661743          0.0                      0.0             1.0  \n",
       "661744          0.0                      1.0             1.0  \n",
       "661745          1.0                      0.0             1.0  \n",
       "661746          0.0                      0.0             1.0  \n",
       "661747          0.0                      0.0             1.0  \n",
       "\n",
       "[661748 rows x 18 columns]"
      ]
     },
     "execution_count": 5,
     "metadata": {},
     "output_type": "execute_result"
    }
   ],
   "source": [
    "test = kkbox_v1.read_df(subset=\"test\")\n",
    "test"
   ]
  },
  {
   "cell_type": "code",
   "execution_count": 6,
   "id": "2c0bfd3e-27cc-425a-a3a0-ad301a0cb9a7",
   "metadata": {},
   "outputs": [
    {
     "data": {
      "text/plain": [
       "1582202"
      ]
     },
     "execution_count": 6,
     "metadata": {},
     "output_type": "execute_result"
    }
   ],
   "source": [
    "train.msno.nunique()"
   ]
  },
  {
   "cell_type": "code",
   "execution_count": 7,
   "id": "2d4dff8e-1c2b-470a-9485-48fcd19a975e",
   "metadata": {},
   "outputs": [
    {
     "data": {
      "text/plain": [
       "msno                            0\n",
       "event                           0\n",
       "n_prev_churns                   0\n",
       "log_days_between_subs           0\n",
       "duration                        0\n",
       "log_days_since_reg_init         0\n",
       "log_payment_plan_days           0\n",
       "log_plan_list_price             0\n",
       "log_actual_amount_paid          0\n",
       "is_auto_renew                   0\n",
       "is_cancel                       0\n",
       "city                       290209\n",
       "gender                     990092\n",
       "registered_via             290209\n",
       "age_at_start                    0\n",
       "strange_age                     0\n",
       "nan_days_since_reg_init         0\n",
       "no_prev_churns                  0\n",
       "dtype: int64"
      ]
     },
     "execution_count": 7,
     "metadata": {},
     "output_type": "execute_result"
    }
   ],
   "source": [
    "train.isna().sum()"
   ]
  },
  {
   "cell_type": "code",
   "execution_count": 8,
   "id": "21ae6d3d-3bc9-42b8-af62-cfcf27b06b85",
   "metadata": {},
   "outputs": [],
   "source": [
    "def replace_nan(df):\n",
    "    df[\"gender\"] = df[\"gender\"].astype(str)\n",
    "    gender_map = dict(zip(df[\"gender\"].unique(), range(df[\"gender\"].nunique())))\n",
    "    df[\"gender\"] = df[\"gender\"].map(gender_map)\n",
    "    \n",
    "    df[\"city\"] = df[\"city\"].astype(str).replace(\"nan\", -1).astype(int)\n",
    "    \n",
    "    df[\"registered_via\"] = df[\"registered_via\"].astype(str).replace(\"nan\", -1).astype(int)"
   ]
  },
  {
   "cell_type": "code",
   "execution_count": 9,
   "id": "42b5b533-222f-4bbc-adb9-b81c999f8b86",
   "metadata": {},
   "outputs": [],
   "source": [
    "for df in [train, test, val]:\n",
    "    replace_nan(df)"
   ]
  },
  {
   "cell_type": "code",
   "execution_count": 10,
   "id": "674ec33a-168a-41c6-a5d0-3d94af40a53d",
   "metadata": {},
   "outputs": [],
   "source": [
    "from sksurv.datasets import get_x_y\n",
    "\n",
    "# remove ID from covariates\n",
    "cols = list(set(train.columns) - {\"msno\"})\n",
    "\n",
    "X_train, y_train = get_x_y(train[cols], (\"event\", \"duration\"), pos_label=1)\n",
    "X_test, y_test = get_x_y(test[cols], (\"event\", \"duration\"), pos_label=1)\n",
    "X_val, y_val = get_x_y(val[cols], (\"event\", \"duration\"), pos_label=1)"
   ]
  },
  {
   "cell_type": "markdown",
   "id": "27d7db2a-2f8c-4c16-9aaf-11df62199976",
   "metadata": {},
   "source": [
    "## Fit some baselines models"
   ]
  },
  {
   "cell_type": "code",
   "execution_count": 11,
   "id": "62daec05-0392-4272-b5f0-6e05816cc718",
   "metadata": {},
   "outputs": [
    {
     "ename": "NameError",
     "evalue": "name 'np' is not defined",
     "output_type": "error",
     "traceback": [
      "\u001b[0;31m---------------------------------------------------------------------------\u001b[0m",
      "\u001b[0;31mNameError\u001b[0m                                 Traceback (most recent call last)",
      "Input \u001b[0;32mIn [11]\u001b[0m, in \u001b[0;36m<cell line: 1>\u001b[0;34m()\u001b[0m\n\u001b[0;32m----> 1\u001b[0m y_time \u001b[38;5;241m=\u001b[39m \u001b[43mnp\u001b[49m\u001b[38;5;241m.\u001b[39mhstack([y_train[\u001b[38;5;124m\"\u001b[39m\u001b[38;5;124mduration\u001b[39m\u001b[38;5;124m\"\u001b[39m], y_test[\u001b[38;5;124m\"\u001b[39m\u001b[38;5;124mduration\u001b[39m\u001b[38;5;124m\"\u001b[39m], y_val[\u001b[38;5;124m\"\u001b[39m\u001b[38;5;124mduration\u001b[39m\u001b[38;5;124m\"\u001b[39m]])\n\u001b[1;32m      2\u001b[0m lower, upper \u001b[38;5;241m=\u001b[39m np\u001b[38;5;241m.\u001b[39mpercentile(y_time, [\u001b[38;5;241m10\u001b[39m, \u001b[38;5;241m90\u001b[39m])\n\u001b[1;32m      3\u001b[0m times \u001b[38;5;241m=\u001b[39m np\u001b[38;5;241m.\u001b[39mlinspace(lower, upper, \u001b[38;5;241m100\u001b[39m)\n",
      "\u001b[0;31mNameError\u001b[0m: name 'np' is not defined"
     ]
    }
   ],
   "source": [
    "y_time = np.hstack([y_train[\"duration\"], y_test[\"duration\"], y_val[\"duration\"]])\n",
    "lower, upper = np.percentile(y_time, [10, 90])\n",
    "times = np.linspace(lower, upper, 100)"
   ]
  },
  {
   "cell_type": "code",
   "execution_count": null,
   "id": "cdf77e97-3b3d-484c-b866-0a095adcbb82",
   "metadata": {},
   "outputs": [],
   "source": [
    "import pickle\n",
    "from pathlib import Path\n",
    "\n",
    "from sksurv.metrics import (\n",
    "    brier_score,\n",
    "    integrated_brier_score,\n",
    "    cumulative_dynamic_auc,\n",
    "    concordance_index_censored,\n",
    "    concordance_index_ipcw,\n",
    ")\n",
    "\n",
    "\n",
    "def get_scores(model, y_train, X_test, y_test, times):\n",
    "\n",
    "    survival_probs = model.predict_survival_function(X_test, return_array=True)\n",
    "    #cumulative_hazards = model.predict_cumulative_hazard_function(X_test, return_array=True)\n",
    "    #risk_estimate = cumulative_hazards.sum(axis=1)\n",
    "\n",
    "    _, brier_scores = brier_score(y_train, y_test, survival_probs, times)\n",
    "    ibs = integrated_brier_score(y_train, y_test, survival_probs, times)\n",
    "    \n",
    "    #auc, mean_auc = cumulative_dynamic_auc(y_train, y_test, cumulative_hazards, times)\n",
    "    \n",
    "    #c_index = concordance_index_censored(y_test[\"event\"], y_test[\"duration\"], risk_estimate)[0]\n",
    "    #c_index_ipcw = concordance_index_ipcw(y_train, y_test, risk_estimate)[0]\n",
    "    \n",
    "    return dict(\n",
    "        brier_scores=brier_scores,\n",
    "        ibs=ibs,\n",
    "        times=times,\n",
    "        survival_probs=survival_probs,\n",
    "        #auc=auc,\n",
    "        #mean_auc=mean_auc,\n",
    "        #c_index=c_index,\n",
    "        #c_index_ipcw=c_index_ipcw,\n",
    "    )\n",
    "\n",
    "\n",
    "def save_scores(name, scores):\n",
    "    path = _make_path(name, create_dir=True)\n",
    "    pickle.dump(scores, open(path, \"wb+\"))\n",
    "\n",
    "    \n",
    "def load_scores(name):\n",
    "    path = _make_path(name, create_dir=False)\n",
    "    return pickle.load(open(path, \"rb\"))\n",
    "    \n",
    "    \n",
    "def _make_path(name, create_dir):\n",
    "    path = Path(os.getenv(\"PYCOX_DATA_DIR\")) / \"kkbox_v1\" / \"results\"\n",
    "    if create_dir:\n",
    "        path.mkdir(exist_ok=True, parents=True)\n",
    "    return path / f\"{name}.pkl\""
   ]
  },
  {
   "cell_type": "markdown",
   "id": "56830605-baf6-41a9-bff3-7e690f29bb0c",
   "metadata": {},
   "source": [
    "### RandomSurvivalForest"
   ]
  },
  {
   "cell_type": "code",
   "execution_count": 61,
   "id": "d509dfa2-c775-4aaf-8af9-82d434deb7b0",
   "metadata": {},
   "outputs": [
    {
     "name": "stdout",
     "output_type": "stream",
     "text": [
      "CPU times: user 16min 45s, sys: 5.48 s, total: 16min 51s\n",
      "Wall time: 4min 36s\n"
     ]
    }
   ],
   "source": [
    "%%time\n",
    "\n",
    "from sksurv.ensemble import RandomSurvivalForest\n",
    "\n",
    "rf_params = dict(\n",
    "    max_leaf_nodes=100,\n",
    "    min_samples_leaf=100,\n",
    "    n_estimators=30,\n",
    "    max_features=8,\n",
    "    n_jobs=4,\n",
    ")\n",
    "subsample = 0.05\n",
    "n_sample = max(1, int(X_train.shape[0] * subsample))\n",
    "rf = RandomSurvivalForest(**rf_params).fit(\n",
    "    X_train.values[:n_sample],\n",
    "    y_train[:n_sample],\n",
    ")"
   ]
  },
  {
   "cell_type": "code",
   "execution_count": 101,
   "id": "d8b96f83-84d8-44f9-80fc-50d47db417a4",
   "metadata": {},
   "outputs": [],
   "source": [
    "def get_scores_skurv(model, y_train, X_test, y_test, times):\n",
    "    \n",
    "    step_funcs = rf.predict_survival_function(X_test, return_array=False)\n",
    "    survival_probs = np.vstack([step_func(times) for step_func in step_funcs])\n",
    "    \n",
    "    _, brier_scores = brier_score(y_train, y_test, survival_probs, times)\n",
    "    ibs = integrated_brier_score(y_train, y_test, survival_probs, times)\n",
    "    \n",
    "    return dict(\n",
    "        times=times,\n",
    "        brier_scores=brier_scores,\n",
    "        ibs=ibs,\n",
    "        survival_probs=survival_probs,\n",
    "    )"
   ]
  },
  {
   "cell_type": "code",
   "execution_count": 103,
   "id": "e58ac3b1-4e80-4ff1-8474-acfe82e55b85",
   "metadata": {},
   "outputs": [
    {
     "name": "stdout",
     "output_type": "stream",
     "text": [
      "CPU times: user 21.2 s, sys: 17.3 s, total: 38.4 s\n",
      "Wall time: 16 s\n"
     ]
    },
    {
     "data": {
      "text/plain": [
       "0.1067206056417988"
      ]
     },
     "execution_count": 103,
     "metadata": {},
     "output_type": "execute_result"
    }
   ],
   "source": [
    "%%time\n",
    "\n",
    "scores = get_scores_skurv(rf, y_train[:n_sample], X_test.values[:100_000], y_test[:100_000], times)\n",
    "save_scores(\"random_survival_forest\", scores)\n",
    "scores[\"ibs\"]"
   ]
  },
  {
   "cell_type": "markdown",
   "id": "9d9fd240-8b95-441d-b6e8-63f146ae8650",
   "metadata": {},
   "source": [
    "**Comments**\n",
    "- This is one of the most widely used scikit-survival models, and it performs very slowly due to its logrank criterion.\n",
    "- Its IBS is actually slightly below our NaiveForestGridBC."
   ]
  },
  {
   "cell_type": "markdown",
   "id": "e6bec371-90f1-48ba-97db-efc93d4f926b",
   "metadata": {},
   "source": [
    "### MetaGridBC"
   ]
  },
  {
   "cell_type": "code",
   "execution_count": 105,
   "id": "129e9253-9111-437d-a151-71ce6dc8ebcc",
   "metadata": {},
   "outputs": [
    {
     "name": "stderr",
     "output_type": "stream",
     "text": [
      "/Users/vincentmaladiere/mambaforge/envs/skurvival/lib/python3.10/site-packages/joblib/externals/loky/process_executor.py:702: UserWarning: A worker stopped while some jobs were given to the executor. This can be caused by a too short worker timeout or by a memory leak.\n",
      "  warnings.warn(\n"
     ]
    },
    {
     "name": "stdout",
     "output_type": "stream",
     "text": [
      "CPU times: user 9.5 s, sys: 4.43 s, total: 13.9 s\n",
      "Wall time: 4min 1s\n"
     ]
    }
   ],
   "source": [
    "%%time\n",
    "\n",
    "from sklearn.linear_model import LogisticRegression\n",
    "\n",
    "from models.meta_grid_bc import MetaGridBC\n",
    "\n",
    "lr_params = dict(\n",
    "    C=1e-3, max_iter=500\n",
    ")\n",
    "meta_grid_bc = MetaGridBC(\n",
    "    LogisticRegression(**lr_params),\n",
    "    verbose=False,\n",
    "    n_jobs=4\n",
    ").fit(X_train.values, y_train, time_bins=times)"
   ]
  },
  {
   "cell_type": "code",
   "execution_count": 106,
   "id": "671f8c89-55ac-4e78-ac04-79b4d382814f",
   "metadata": {},
   "outputs": [
    {
     "name": "stdout",
     "output_type": "stream",
     "text": [
      "CPU times: user 7.96 s, sys: 2.68 s, total: 10.6 s\n",
      "Wall time: 11.5 s\n"
     ]
    },
    {
     "data": {
      "text/plain": [
       "0.12189194788095116"
      ]
     },
     "execution_count": 106,
     "metadata": {},
     "output_type": "execute_result"
    }
   ],
   "source": [
    "%%time\n",
    "\n",
    "scores = get_scores(meta_grid_bc, y_train, X_test.values, y_test, times)\n",
    "save_scores(\"meta_grid_bc\", scores)\n",
    "scores[\"ibs\"]"
   ]
  },
  {
   "cell_type": "markdown",
   "id": "fa1c2d9b-a6fb-4e7c-99a2-6e6efbcf88b3",
   "metadata": {},
   "source": [
    "### NaiveForestGridBC: RandomForestRegressor + MetaGridBC"
   ]
  },
  {
   "cell_type": "code",
   "execution_count": 108,
   "id": "24914e61-23e3-44fc-b8ab-3c4d4132ae2e",
   "metadata": {},
   "outputs": [
    {
     "name": "stdout",
     "output_type": "stream",
     "text": [
      "CPU times: user 1min 51s, sys: 8.75 s, total: 2min\n",
      "Wall time: 2min 10s\n"
     ]
    }
   ],
   "source": [
    "%%time\n",
    "\n",
    "from sklearn.pipeline import make_pipeline\n",
    "from sklearn.linear_model import LogisticRegression\n",
    "from sklearn.ensemble import RandomForestRegressor\n",
    "\n",
    "from models.tree_transformer import TreeTransformer\n",
    "from models.meta_grid_bc import MetaGridBC\n",
    "\n",
    "rf_params = dict(\n",
    "    min_samples_leaf=100,\n",
    "    max_leaf_nodes=100,\n",
    "    n_estimators=30,\n",
    "    max_features=8,\n",
    "    n_jobs=4,\n",
    "    verbose=False,\n",
    ")\n",
    "lr_params = dict(\n",
    "    C=1e-3, max_iter=500\n",
    ")\n",
    "forest_grid_bc = make_pipeline(\n",
    "    TreeTransformer(\n",
    "        RandomForestRegressor(**rf_params)\n",
    "    ),  # ignores censoring\n",
    "    MetaGridBC(\n",
    "        LogisticRegression(**lr_params),\n",
    "        verbose=False,\n",
    "        n_jobs=4\n",
    "    ),\n",
    ").fit(X_train.values, y_train, metagridbc__time_bins=times)"
   ]
  },
  {
   "cell_type": "code",
   "execution_count": 139,
   "id": "7647dc1f-ab9f-4f8c-a0f2-4451a2b694f5",
   "metadata": {},
   "outputs": [
    {
     "data": {
      "text/html": [
       "<style>#sk-container-id-5 {color: black;background-color: white;}#sk-container-id-5 pre{padding: 0;}#sk-container-id-5 div.sk-toggleable {background-color: white;}#sk-container-id-5 label.sk-toggleable__label {cursor: pointer;display: block;width: 100%;margin-bottom: 0;padding: 0.3em;box-sizing: border-box;text-align: center;}#sk-container-id-5 label.sk-toggleable__label-arrow:before {content: \"▸\";float: left;margin-right: 0.25em;color: #696969;}#sk-container-id-5 label.sk-toggleable__label-arrow:hover:before {color: black;}#sk-container-id-5 div.sk-estimator:hover label.sk-toggleable__label-arrow:before {color: black;}#sk-container-id-5 div.sk-toggleable__content {max-height: 0;max-width: 0;overflow: hidden;text-align: left;background-color: #f0f8ff;}#sk-container-id-5 div.sk-toggleable__content pre {margin: 0.2em;color: black;border-radius: 0.25em;background-color: #f0f8ff;}#sk-container-id-5 input.sk-toggleable__control:checked~div.sk-toggleable__content {max-height: 200px;max-width: 100%;overflow: auto;}#sk-container-id-5 input.sk-toggleable__control:checked~label.sk-toggleable__label-arrow:before {content: \"▾\";}#sk-container-id-5 div.sk-estimator input.sk-toggleable__control:checked~label.sk-toggleable__label {background-color: #d4ebff;}#sk-container-id-5 div.sk-label input.sk-toggleable__control:checked~label.sk-toggleable__label {background-color: #d4ebff;}#sk-container-id-5 input.sk-hidden--visually {border: 0;clip: rect(1px 1px 1px 1px);clip: rect(1px, 1px, 1px, 1px);height: 1px;margin: -1px;overflow: hidden;padding: 0;position: absolute;width: 1px;}#sk-container-id-5 div.sk-estimator {font-family: monospace;background-color: #f0f8ff;border: 1px dotted black;border-radius: 0.25em;box-sizing: border-box;margin-bottom: 0.5em;}#sk-container-id-5 div.sk-estimator:hover {background-color: #d4ebff;}#sk-container-id-5 div.sk-parallel-item::after {content: \"\";width: 100%;border-bottom: 1px solid gray;flex-grow: 1;}#sk-container-id-5 div.sk-label:hover label.sk-toggleable__label {background-color: #d4ebff;}#sk-container-id-5 div.sk-serial::before {content: \"\";position: absolute;border-left: 1px solid gray;box-sizing: border-box;top: 0;bottom: 0;left: 50%;z-index: 0;}#sk-container-id-5 div.sk-serial {display: flex;flex-direction: column;align-items: center;background-color: white;padding-right: 0.2em;padding-left: 0.2em;position: relative;}#sk-container-id-5 div.sk-item {position: relative;z-index: 1;}#sk-container-id-5 div.sk-parallel {display: flex;align-items: stretch;justify-content: center;background-color: white;position: relative;}#sk-container-id-5 div.sk-item::before, #sk-container-id-5 div.sk-parallel-item::before {content: \"\";position: absolute;border-left: 1px solid gray;box-sizing: border-box;top: 0;bottom: 0;left: 50%;z-index: -1;}#sk-container-id-5 div.sk-parallel-item {display: flex;flex-direction: column;z-index: 1;position: relative;background-color: white;}#sk-container-id-5 div.sk-parallel-item:first-child::after {align-self: flex-end;width: 50%;}#sk-container-id-5 div.sk-parallel-item:last-child::after {align-self: flex-start;width: 50%;}#sk-container-id-5 div.sk-parallel-item:only-child::after {width: 0;}#sk-container-id-5 div.sk-dashed-wrapped {border: 1px dashed gray;margin: 0 0.4em 0.5em 0.4em;box-sizing: border-box;padding-bottom: 0.4em;background-color: white;}#sk-container-id-5 div.sk-label label {font-family: monospace;font-weight: bold;display: inline-block;line-height: 1.2em;}#sk-container-id-5 div.sk-label-container {text-align: center;}#sk-container-id-5 div.sk-container {/* jupyter's `normalize.less` sets `[hidden] { display: none; }` but bootstrap.min.css set `[hidden] { display: none !important; }` so we also need the `!important` here to be able to override the default hidden behavior on the sphinx rendered scikit-learn.org. See: https://github.com/scikit-learn/scikit-learn/issues/21755 */display: inline-block !important;position: relative;}#sk-container-id-5 div.sk-text-repr-fallback {display: none;}</style><div id=\"sk-container-id-5\" class=\"sk-top-container\"><div class=\"sk-text-repr-fallback\"><pre>Pipeline(steps=[(&#x27;treetransformer&#x27;,\n",
       "                 TreeTransformer(base_estimator=RandomForestRegressor(max_features=8,\n",
       "                                                                      max_leaf_nodes=100,\n",
       "                                                                      min_samples_leaf=100,\n",
       "                                                                      n_estimators=30,\n",
       "                                                                      n_jobs=4,\n",
       "                                                                      verbose=True))),\n",
       "                (&#x27;metagridbc&#x27;,\n",
       "                 MetaGridBC(classifier=LogisticRegression(C=0.001,\n",
       "                                                          max_iter=500),\n",
       "                            n_jobs=4, verbose=True))])</pre><b>In a Jupyter environment, please rerun this cell to show the HTML representation or trust the notebook. <br />On GitHub, the HTML representation is unable to render, please try loading this page with nbviewer.org.</b></div><div class=\"sk-container\" hidden><div class=\"sk-item sk-dashed-wrapped\"><div class=\"sk-label-container\"><div class=\"sk-label sk-toggleable\"><input class=\"sk-toggleable__control sk-hidden--visually\" id=\"sk-estimator-id-21\" type=\"checkbox\" ><label for=\"sk-estimator-id-21\" class=\"sk-toggleable__label sk-toggleable__label-arrow\">Pipeline</label><div class=\"sk-toggleable__content\"><pre>Pipeline(steps=[(&#x27;treetransformer&#x27;,\n",
       "                 TreeTransformer(base_estimator=RandomForestRegressor(max_features=8,\n",
       "                                                                      max_leaf_nodes=100,\n",
       "                                                                      min_samples_leaf=100,\n",
       "                                                                      n_estimators=30,\n",
       "                                                                      n_jobs=4,\n",
       "                                                                      verbose=True))),\n",
       "                (&#x27;metagridbc&#x27;,\n",
       "                 MetaGridBC(classifier=LogisticRegression(C=0.001,\n",
       "                                                          max_iter=500),\n",
       "                            n_jobs=4, verbose=True))])</pre></div></div></div><div class=\"sk-serial\"><div class=\"sk-item sk-dashed-wrapped\"><div class=\"sk-label-container\"><div class=\"sk-label sk-toggleable\"><input class=\"sk-toggleable__control sk-hidden--visually\" id=\"sk-estimator-id-22\" type=\"checkbox\" ><label for=\"sk-estimator-id-22\" class=\"sk-toggleable__label sk-toggleable__label-arrow\">treetransformer: TreeTransformer</label><div class=\"sk-toggleable__content\"><pre>TreeTransformer(base_estimator=RandomForestRegressor(max_features=8,\n",
       "                                                     max_leaf_nodes=100,\n",
       "                                                     min_samples_leaf=100,\n",
       "                                                     n_estimators=30, n_jobs=4,\n",
       "                                                     verbose=True))</pre></div></div></div><div class=\"sk-parallel\"><div class=\"sk-parallel-item\"><div class=\"sk-item\"><div class=\"sk-label-container\"><div class=\"sk-label sk-toggleable\"><input class=\"sk-toggleable__control sk-hidden--visually\" id=\"sk-estimator-id-23\" type=\"checkbox\" ><label for=\"sk-estimator-id-23\" class=\"sk-toggleable__label sk-toggleable__label-arrow\">base_estimator: RandomForestRegressor</label><div class=\"sk-toggleable__content\"><pre>RandomForestRegressor(max_features=8, max_leaf_nodes=100, min_samples_leaf=100,\n",
       "                      n_estimators=30, n_jobs=4, verbose=True)</pre></div></div></div><div class=\"sk-serial\"><div class=\"sk-item\"><div class=\"sk-estimator sk-toggleable\"><input class=\"sk-toggleable__control sk-hidden--visually\" id=\"sk-estimator-id-24\" type=\"checkbox\" ><label for=\"sk-estimator-id-24\" class=\"sk-toggleable__label sk-toggleable__label-arrow\">RandomForestRegressor</label><div class=\"sk-toggleable__content\"><pre>RandomForestRegressor(max_features=8, max_leaf_nodes=100, min_samples_leaf=100,\n",
       "                      n_estimators=30, n_jobs=4, verbose=True)</pre></div></div></div></div></div></div></div></div><div class=\"sk-item sk-dashed-wrapped\"><div class=\"sk-label-container\"><div class=\"sk-label sk-toggleable\"><input class=\"sk-toggleable__control sk-hidden--visually\" id=\"sk-estimator-id-25\" type=\"checkbox\" ><label for=\"sk-estimator-id-25\" class=\"sk-toggleable__label sk-toggleable__label-arrow\">metagridbc: MetaGridBC</label><div class=\"sk-toggleable__content\"><pre>MetaGridBC(classifier=LogisticRegression(C=0.001, max_iter=500), n_jobs=4,\n",
       "           verbose=True)</pre></div></div></div><div class=\"sk-parallel\"><div class=\"sk-parallel-item\"><div class=\"sk-item\"><div class=\"sk-label-container\"><div class=\"sk-label sk-toggleable\"><input class=\"sk-toggleable__control sk-hidden--visually\" id=\"sk-estimator-id-26\" type=\"checkbox\" ><label for=\"sk-estimator-id-26\" class=\"sk-toggleable__label sk-toggleable__label-arrow\">classifier: LogisticRegression</label><div class=\"sk-toggleable__content\"><pre>LogisticRegression(C=0.001, max_iter=500)</pre></div></div></div><div class=\"sk-serial\"><div class=\"sk-item\"><div class=\"sk-estimator sk-toggleable\"><input class=\"sk-toggleable__control sk-hidden--visually\" id=\"sk-estimator-id-27\" type=\"checkbox\" ><label for=\"sk-estimator-id-27\" class=\"sk-toggleable__label sk-toggleable__label-arrow\">LogisticRegression</label><div class=\"sk-toggleable__content\"><pre>LogisticRegression(C=0.001, max_iter=500)</pre></div></div></div></div></div></div></div></div></div></div></div></div>"
      ],
      "text/plain": [
       "Pipeline(steps=[('treetransformer',\n",
       "                 TreeTransformer(base_estimator=RandomForestRegressor(max_features=8,\n",
       "                                                                      max_leaf_nodes=100,\n",
       "                                                                      min_samples_leaf=100,\n",
       "                                                                      n_estimators=30,\n",
       "                                                                      n_jobs=4,\n",
       "                                                                      verbose=True))),\n",
       "                ('metagridbc',\n",
       "                 MetaGridBC(classifier=LogisticRegression(C=0.001,\n",
       "                                                          max_iter=500),\n",
       "                            n_jobs=4, verbose=True))])"
      ]
     },
     "execution_count": 139,
     "metadata": {},
     "output_type": "execute_result"
    }
   ],
   "source": [
    "forest_grid_bc"
   ]
  },
  {
   "cell_type": "code",
   "execution_count": 109,
   "id": "561b17f7-f432-4ec6-bdff-62fceab2d737",
   "metadata": {},
   "outputs": [
    {
     "name": "stderr",
     "output_type": "stream",
     "text": [
      "/Users/vincentmaladiere/mambaforge/envs/skurvival/lib/python3.10/site-packages/sklearn/base.py:443: UserWarning: X has feature names, but RandomForestRegressor was fitted without feature names\n",
      "  warnings.warn(\n"
     ]
    },
    {
     "name": "stdout",
     "output_type": "stream",
     "text": [
      "CPU times: user 11.1 s, sys: 3.14 s, total: 14.3 s\n",
      "Wall time: 17.9 s\n"
     ]
    },
    {
     "data": {
      "text/plain": [
       "0.10580742949968416"
      ]
     },
     "execution_count": 109,
     "metadata": {},
     "output_type": "execute_result"
    }
   ],
   "source": [
    "%%time\n",
    "\n",
    "scores = get_scores(forest_grid_bc, y_train, X_test, y_test, times)\n",
    "save_scores(\"forest_grid_bc\", scores)\n",
    "scores[\"ibs\"]"
   ]
  },
  {
   "cell_type": "markdown",
   "id": "43d0bd81-a33b-417f-b6f4-18f771d70686",
   "metadata": {},
   "source": [
    "### SurvivalForestGridBC: RandomSurvivalForest + MetaGridBC"
   ]
  },
  {
   "cell_type": "code",
   "execution_count": 36,
   "id": "d8766eb5-91dd-4b3f-90a8-c7a3f2eab422",
   "metadata": {},
   "outputs": [
    {
     "name": "stderr",
     "output_type": "stream",
     "text": [
      "[Parallel(n_jobs=4)]: Using backend ThreadingBackend with 4 concurrent workers.\n",
      "[Parallel(n_jobs=4)]: Done  30 out of  30 | elapsed:  4.7min finished\n",
      "[Parallel(n_jobs=4)]: Using backend ThreadingBackend with 4 concurrent workers.\n",
      "[Parallel(n_jobs=4)]: Done  30 out of  30 | elapsed:    0.8s finished\n",
      "[Parallel(n_jobs=4)]: Using backend LokyBackend with 4 concurrent workers.\n",
      "[Parallel(n_jobs=4)]: Done  42 tasks      | elapsed:   46.7s\n",
      "/Users/vincentmaladiere/mambaforge/envs/skurvival/lib/python3.10/site-packages/joblib/externals/loky/process_executor.py:702: UserWarning: A worker stopped while some jobs were given to the executor. This can be caused by a too short worker timeout or by a memory leak.\n",
      "  warnings.warn(\n",
      "[Parallel(n_jobs=4)]: Done 100 out of 100 | elapsed:  1.1min finished\n"
     ]
    },
    {
     "name": "stdout",
     "output_type": "stream",
     "text": [
      "CPU times: user 19min 11s, sys: 10.5 s, total: 19min 21s\n",
      "Wall time: 6min 4s\n"
     ]
    }
   ],
   "source": [
    "%%time\n",
    "\n",
    "from sksurv.ensemble import RandomSurvivalForest\n",
    "\n",
    "rf_params = dict(\n",
    "    min_samples_leaf=100,\n",
    "    max_leaf_nodes=100,\n",
    "    n_estimators=30,\n",
    "    max_features=8,\n",
    "    n_jobs=4,\n",
    "    verbose=True,\n",
    ")\n",
    "lr_params = dict(\n",
    "    C=1e-3, max_iter=500\n",
    ")\n",
    "survival_forest_grid_bc = make_pipeline(\n",
    "    TreeTransformer(\n",
    "        RandomSurvivalForest(**rf_params),\n",
    "        handle_survival_target=True,  # activate censoring (fit on full y instead on y_duration)\n",
    "        subsample=.05,  # subsample to fit the RandomSurvivalForest faster\n",
    "    ),  \n",
    "    MetaGridBC(\n",
    "        LogisticRegression(**lr_params),\n",
    "        verbose=True,\n",
    "        n_jobs=4,\n",
    "    ),\n",
    ").fit(X_train.values, y_train, metagridbc__time_bins=times)"
   ]
  },
  {
   "cell_type": "code",
   "execution_count": 37,
   "id": "9a40a9f8-b659-4232-a346-a3017b74064d",
   "metadata": {},
   "outputs": [
    {
     "name": "stderr",
     "output_type": "stream",
     "text": [
      "[Parallel(n_jobs=4)]: Using backend ThreadingBackend with 4 concurrent workers.\n",
      "[Parallel(n_jobs=4)]: Done  30 out of  30 | elapsed:    0.3s finished\n"
     ]
    },
    {
     "name": "stdout",
     "output_type": "stream",
     "text": [
      "CPU times: user 9.4 s, sys: 2.24 s, total: 11.6 s\n",
      "Wall time: 13.6 s\n"
     ]
    },
    {
     "data": {
      "text/plain": [
       "0.10674772794993534"
      ]
     },
     "execution_count": 37,
     "metadata": {},
     "output_type": "execute_result"
    }
   ],
   "source": [
    "%%time\n",
    "\n",
    "scores = get_scores(survival_forest_grid_bc, y_train, X_test.values, y_test, times)\n",
    "save_scores(\"survival_forest_grid_bc\", scores)\n",
    "scores[\"ibs\"]"
   ]
  },
  {
   "cell_type": "markdown",
   "id": "5563544e-ad31-4c0d-a6b3-40fbcedc3c8e",
   "metadata": {},
   "source": [
    "TODO: Cross val to see if that slight gap sticks"
   ]
  },
  {
   "cell_type": "markdown",
   "id": "76d13810-27e8-4224-98cc-7af4c4271d4d",
   "metadata": {},
   "source": [
    "### NaiveForestKaplanNeighbors: RandomForestRegressor + KaplanNeighbors"
   ]
  },
  {
   "cell_type": "code",
   "execution_count": 70,
   "id": "5f0b9143-f575-4c7c-939c-d79b4279f676",
   "metadata": {},
   "outputs": [
    {
     "name": "stderr",
     "output_type": "stream",
     "text": [
      "[Parallel(n_jobs=4)]: Using backend ThreadingBackend with 4 concurrent workers.\n",
      "[Parallel(n_jobs=4)]: Done  30 out of  30 | elapsed:   23.0s finished\n",
      "[Parallel(n_jobs=4)]: Using backend ThreadingBackend with 4 concurrent workers.\n",
      "[Parallel(n_jobs=4)]: Done  30 out of  30 | elapsed:    0.7s finished\n"
     ]
    },
    {
     "name": "stdout",
     "output_type": "stream",
     "text": [
      "CPU times: user 1min 35s, sys: 1.67 s, total: 1min 36s\n",
      "Wall time: 32.1 s\n"
     ]
    },
    {
     "data": {
      "text/html": [
       "<style>#sk-container-id-4 {color: black;background-color: white;}#sk-container-id-4 pre{padding: 0;}#sk-container-id-4 div.sk-toggleable {background-color: white;}#sk-container-id-4 label.sk-toggleable__label {cursor: pointer;display: block;width: 100%;margin-bottom: 0;padding: 0.3em;box-sizing: border-box;text-align: center;}#sk-container-id-4 label.sk-toggleable__label-arrow:before {content: \"▸\";float: left;margin-right: 0.25em;color: #696969;}#sk-container-id-4 label.sk-toggleable__label-arrow:hover:before {color: black;}#sk-container-id-4 div.sk-estimator:hover label.sk-toggleable__label-arrow:before {color: black;}#sk-container-id-4 div.sk-toggleable__content {max-height: 0;max-width: 0;overflow: hidden;text-align: left;background-color: #f0f8ff;}#sk-container-id-4 div.sk-toggleable__content pre {margin: 0.2em;color: black;border-radius: 0.25em;background-color: #f0f8ff;}#sk-container-id-4 input.sk-toggleable__control:checked~div.sk-toggleable__content {max-height: 200px;max-width: 100%;overflow: auto;}#sk-container-id-4 input.sk-toggleable__control:checked~label.sk-toggleable__label-arrow:before {content: \"▾\";}#sk-container-id-4 div.sk-estimator input.sk-toggleable__control:checked~label.sk-toggleable__label {background-color: #d4ebff;}#sk-container-id-4 div.sk-label input.sk-toggleable__control:checked~label.sk-toggleable__label {background-color: #d4ebff;}#sk-container-id-4 input.sk-hidden--visually {border: 0;clip: rect(1px 1px 1px 1px);clip: rect(1px, 1px, 1px, 1px);height: 1px;margin: -1px;overflow: hidden;padding: 0;position: absolute;width: 1px;}#sk-container-id-4 div.sk-estimator {font-family: monospace;background-color: #f0f8ff;border: 1px dotted black;border-radius: 0.25em;box-sizing: border-box;margin-bottom: 0.5em;}#sk-container-id-4 div.sk-estimator:hover {background-color: #d4ebff;}#sk-container-id-4 div.sk-parallel-item::after {content: \"\";width: 100%;border-bottom: 1px solid gray;flex-grow: 1;}#sk-container-id-4 div.sk-label:hover label.sk-toggleable__label {background-color: #d4ebff;}#sk-container-id-4 div.sk-serial::before {content: \"\";position: absolute;border-left: 1px solid gray;box-sizing: border-box;top: 0;bottom: 0;left: 50%;z-index: 0;}#sk-container-id-4 div.sk-serial {display: flex;flex-direction: column;align-items: center;background-color: white;padding-right: 0.2em;padding-left: 0.2em;position: relative;}#sk-container-id-4 div.sk-item {position: relative;z-index: 1;}#sk-container-id-4 div.sk-parallel {display: flex;align-items: stretch;justify-content: center;background-color: white;position: relative;}#sk-container-id-4 div.sk-item::before, #sk-container-id-4 div.sk-parallel-item::before {content: \"\";position: absolute;border-left: 1px solid gray;box-sizing: border-box;top: 0;bottom: 0;left: 50%;z-index: -1;}#sk-container-id-4 div.sk-parallel-item {display: flex;flex-direction: column;z-index: 1;position: relative;background-color: white;}#sk-container-id-4 div.sk-parallel-item:first-child::after {align-self: flex-end;width: 50%;}#sk-container-id-4 div.sk-parallel-item:last-child::after {align-self: flex-start;width: 50%;}#sk-container-id-4 div.sk-parallel-item:only-child::after {width: 0;}#sk-container-id-4 div.sk-dashed-wrapped {border: 1px dashed gray;margin: 0 0.4em 0.5em 0.4em;box-sizing: border-box;padding-bottom: 0.4em;background-color: white;}#sk-container-id-4 div.sk-label label {font-family: monospace;font-weight: bold;display: inline-block;line-height: 1.2em;}#sk-container-id-4 div.sk-label-container {text-align: center;}#sk-container-id-4 div.sk-container {/* jupyter's `normalize.less` sets `[hidden] { display: none; }` but bootstrap.min.css set `[hidden] { display: none !important; }` so we also need the `!important` here to be able to override the default hidden behavior on the sphinx rendered scikit-learn.org. See: https://github.com/scikit-learn/scikit-learn/issues/21755 */display: inline-block !important;position: relative;}#sk-container-id-4 div.sk-text-repr-fallback {display: none;}</style><div id=\"sk-container-id-4\" class=\"sk-top-container\"><div class=\"sk-text-repr-fallback\"><pre>Pipeline(steps=[(&#x27;treetransformer&#x27;,\n",
       "                 TreeTransformer(base_estimator=RandomForestRegressor(max_features=8,\n",
       "                                                                      max_leaf_nodes=100,\n",
       "                                                                      min_samples_leaf=100,\n",
       "                                                                      n_estimators=30,\n",
       "                                                                      n_jobs=4,\n",
       "                                                                      verbose=1))),\n",
       "                (&#x27;kaplanneighbors&#x27;,\n",
       "                 KaplanNeighbors(neighbors_params={&#x27;metric&#x27;: &#x27;cosine&#x27;,\n",
       "                                                   &#x27;n_jobs&#x27;: 4,\n",
       "                                                   &#x27;n_neighbors&#x27;: 30}))])</pre><b>In a Jupyter environment, please rerun this cell to show the HTML representation or trust the notebook. <br />On GitHub, the HTML representation is unable to render, please try loading this page with nbviewer.org.</b></div><div class=\"sk-container\" hidden><div class=\"sk-item sk-dashed-wrapped\"><div class=\"sk-label-container\"><div class=\"sk-label sk-toggleable\"><input class=\"sk-toggleable__control sk-hidden--visually\" id=\"sk-estimator-id-16\" type=\"checkbox\" ><label for=\"sk-estimator-id-16\" class=\"sk-toggleable__label sk-toggleable__label-arrow\">Pipeline</label><div class=\"sk-toggleable__content\"><pre>Pipeline(steps=[(&#x27;treetransformer&#x27;,\n",
       "                 TreeTransformer(base_estimator=RandomForestRegressor(max_features=8,\n",
       "                                                                      max_leaf_nodes=100,\n",
       "                                                                      min_samples_leaf=100,\n",
       "                                                                      n_estimators=30,\n",
       "                                                                      n_jobs=4,\n",
       "                                                                      verbose=1))),\n",
       "                (&#x27;kaplanneighbors&#x27;,\n",
       "                 KaplanNeighbors(neighbors_params={&#x27;metric&#x27;: &#x27;cosine&#x27;,\n",
       "                                                   &#x27;n_jobs&#x27;: 4,\n",
       "                                                   &#x27;n_neighbors&#x27;: 30}))])</pre></div></div></div><div class=\"sk-serial\"><div class=\"sk-item sk-dashed-wrapped\"><div class=\"sk-label-container\"><div class=\"sk-label sk-toggleable\"><input class=\"sk-toggleable__control sk-hidden--visually\" id=\"sk-estimator-id-17\" type=\"checkbox\" ><label for=\"sk-estimator-id-17\" class=\"sk-toggleable__label sk-toggleable__label-arrow\">treetransformer: TreeTransformer</label><div class=\"sk-toggleable__content\"><pre>TreeTransformer(base_estimator=RandomForestRegressor(max_features=8,\n",
       "                                                     max_leaf_nodes=100,\n",
       "                                                     min_samples_leaf=100,\n",
       "                                                     n_estimators=30, n_jobs=4,\n",
       "                                                     verbose=1))</pre></div></div></div><div class=\"sk-parallel\"><div class=\"sk-parallel-item\"><div class=\"sk-item\"><div class=\"sk-label-container\"><div class=\"sk-label sk-toggleable\"><input class=\"sk-toggleable__control sk-hidden--visually\" id=\"sk-estimator-id-18\" type=\"checkbox\" ><label for=\"sk-estimator-id-18\" class=\"sk-toggleable__label sk-toggleable__label-arrow\">base_estimator: RandomForestRegressor</label><div class=\"sk-toggleable__content\"><pre>RandomForestRegressor(max_features=8, max_leaf_nodes=100, min_samples_leaf=100,\n",
       "                      n_estimators=30, n_jobs=4, verbose=1)</pre></div></div></div><div class=\"sk-serial\"><div class=\"sk-item\"><div class=\"sk-estimator sk-toggleable\"><input class=\"sk-toggleable__control sk-hidden--visually\" id=\"sk-estimator-id-19\" type=\"checkbox\" ><label for=\"sk-estimator-id-19\" class=\"sk-toggleable__label sk-toggleable__label-arrow\">RandomForestRegressor</label><div class=\"sk-toggleable__content\"><pre>RandomForestRegressor(max_features=8, max_leaf_nodes=100, min_samples_leaf=100,\n",
       "                      n_estimators=30, n_jobs=4, verbose=1)</pre></div></div></div></div></div></div></div></div><div class=\"sk-item\"><div class=\"sk-estimator sk-toggleable\"><input class=\"sk-toggleable__control sk-hidden--visually\" id=\"sk-estimator-id-20\" type=\"checkbox\" ><label for=\"sk-estimator-id-20\" class=\"sk-toggleable__label sk-toggleable__label-arrow\">KaplanNeighbors</label><div class=\"sk-toggleable__content\"><pre>KaplanNeighbors(neighbors_params={&#x27;metric&#x27;: &#x27;cosine&#x27;, &#x27;n_jobs&#x27;: 4,\n",
       "                                  &#x27;n_neighbors&#x27;: 30})</pre></div></div></div></div></div></div></div>"
      ],
      "text/plain": [
       "Pipeline(steps=[('treetransformer',\n",
       "                 TreeTransformer(base_estimator=RandomForestRegressor(max_features=8,\n",
       "                                                                      max_leaf_nodes=100,\n",
       "                                                                      min_samples_leaf=100,\n",
       "                                                                      n_estimators=30,\n",
       "                                                                      n_jobs=4,\n",
       "                                                                      verbose=1))),\n",
       "                ('kaplanneighbors',\n",
       "                 KaplanNeighbors(neighbors_params={'metric': 'cosine',\n",
       "                                                   'n_jobs': 4,\n",
       "                                                   'n_neighbors': 30}))])"
      ]
     },
     "execution_count": 70,
     "metadata": {},
     "output_type": "execute_result"
    }
   ],
   "source": [
    "%%time\n",
    "\n",
    "from sklearn.pipeline import make_pipeline\n",
    "from sklearn.ensemble import RandomForestRegressor\n",
    "\n",
    "from models.kaplan_neighbors import KaplanNeighbors\n",
    "from models.tree_transformer import TreeTransformer\n",
    "\n",
    "rf_params = dict(\n",
    "    min_samples_leaf=100,\n",
    "    max_leaf_nodes=100,\n",
    "    n_estimators=30,\n",
    "    max_features=8,\n",
    "    n_jobs=4,\n",
    "    verbose=1,\n",
    ")\n",
    "neighbors_params = dict(\n",
    "    n_neighbors=30,\n",
    "    n_jobs=4,\n",
    "    metric=\"cosine\", # TODO test cosine\n",
    ")\n",
    "\n",
    "naive_forest_kn = make_pipeline(\n",
    "    TreeTransformer(\n",
    "        RandomForestRegressor(**rf_params),\n",
    "    ),\n",
    "    KaplanNeighbors(neighbors_params),\n",
    ")\n",
    "naive_forest_kn.fit(X_train.values, y_train, kaplanneighbors__time_bins=times)"
   ]
  },
  {
   "cell_type": "code",
   "execution_count": 71,
   "id": "6689c8ff-2486-48ac-8753-27459954dfca",
   "metadata": {},
   "outputs": [
    {
     "name": "stderr",
     "output_type": "stream",
     "text": [
      "[Parallel(n_jobs=4)]: Using backend ThreadingBackend with 4 concurrent workers.\n",
      "[Parallel(n_jobs=4)]: Done  30 out of  30 | elapsed:    0.0s finished\n"
     ]
    },
    {
     "name": "stdout",
     "output_type": "stream",
     "text": [
      "CPU times: user 1min 46s, sys: 28 s, total: 2min 14s\n",
      "Wall time: 1min 3s\n"
     ]
    },
    {
     "data": {
      "text/plain": [
       "0.10609362006519708"
      ]
     },
     "execution_count": 71,
     "metadata": {},
     "output_type": "execute_result"
    }
   ],
   "source": [
    "%%time\n",
    "\n",
    "scores = get_scores(naive_forest_kn, y_train, X_test.values[:1000], y_test[:1000], times)\n",
    "save_scores(\"naive_forest_kn_cosine\", scores)\n",
    "scores[\"ibs\"]"
   ]
  },
  {
   "cell_type": "markdown",
   "id": "55891062-c525-4614-bef6-cd985b8d7464",
   "metadata": {},
   "source": [
    "### NaiveKaplanTree: DecisionTreeRegressor + KaplanTree"
   ]
  },
  {
   "cell_type": "code",
   "execution_count": 110,
   "id": "badea178-5f08-473e-b776-db94691266cd",
   "metadata": {},
   "outputs": [
    {
     "name": "stdout",
     "output_type": "stream",
     "text": [
      "CPU times: user 19 s, sys: 900 ms, total: 19.9 s\n",
      "Wall time: 21 s\n"
     ]
    },
    {
     "data": {
      "text/html": [
       "<style>#sk-container-id-2 {color: black;background-color: white;}#sk-container-id-2 pre{padding: 0;}#sk-container-id-2 div.sk-toggleable {background-color: white;}#sk-container-id-2 label.sk-toggleable__label {cursor: pointer;display: block;width: 100%;margin-bottom: 0;padding: 0.3em;box-sizing: border-box;text-align: center;}#sk-container-id-2 label.sk-toggleable__label-arrow:before {content: \"▸\";float: left;margin-right: 0.25em;color: #696969;}#sk-container-id-2 label.sk-toggleable__label-arrow:hover:before {color: black;}#sk-container-id-2 div.sk-estimator:hover label.sk-toggleable__label-arrow:before {color: black;}#sk-container-id-2 div.sk-toggleable__content {max-height: 0;max-width: 0;overflow: hidden;text-align: left;background-color: #f0f8ff;}#sk-container-id-2 div.sk-toggleable__content pre {margin: 0.2em;color: black;border-radius: 0.25em;background-color: #f0f8ff;}#sk-container-id-2 input.sk-toggleable__control:checked~div.sk-toggleable__content {max-height: 200px;max-width: 100%;overflow: auto;}#sk-container-id-2 input.sk-toggleable__control:checked~label.sk-toggleable__label-arrow:before {content: \"▾\";}#sk-container-id-2 div.sk-estimator input.sk-toggleable__control:checked~label.sk-toggleable__label {background-color: #d4ebff;}#sk-container-id-2 div.sk-label input.sk-toggleable__control:checked~label.sk-toggleable__label {background-color: #d4ebff;}#sk-container-id-2 input.sk-hidden--visually {border: 0;clip: rect(1px 1px 1px 1px);clip: rect(1px, 1px, 1px, 1px);height: 1px;margin: -1px;overflow: hidden;padding: 0;position: absolute;width: 1px;}#sk-container-id-2 div.sk-estimator {font-family: monospace;background-color: #f0f8ff;border: 1px dotted black;border-radius: 0.25em;box-sizing: border-box;margin-bottom: 0.5em;}#sk-container-id-2 div.sk-estimator:hover {background-color: #d4ebff;}#sk-container-id-2 div.sk-parallel-item::after {content: \"\";width: 100%;border-bottom: 1px solid gray;flex-grow: 1;}#sk-container-id-2 div.sk-label:hover label.sk-toggleable__label {background-color: #d4ebff;}#sk-container-id-2 div.sk-serial::before {content: \"\";position: absolute;border-left: 1px solid gray;box-sizing: border-box;top: 0;bottom: 0;left: 50%;z-index: 0;}#sk-container-id-2 div.sk-serial {display: flex;flex-direction: column;align-items: center;background-color: white;padding-right: 0.2em;padding-left: 0.2em;position: relative;}#sk-container-id-2 div.sk-item {position: relative;z-index: 1;}#sk-container-id-2 div.sk-parallel {display: flex;align-items: stretch;justify-content: center;background-color: white;position: relative;}#sk-container-id-2 div.sk-item::before, #sk-container-id-2 div.sk-parallel-item::before {content: \"\";position: absolute;border-left: 1px solid gray;box-sizing: border-box;top: 0;bottom: 0;left: 50%;z-index: -1;}#sk-container-id-2 div.sk-parallel-item {display: flex;flex-direction: column;z-index: 1;position: relative;background-color: white;}#sk-container-id-2 div.sk-parallel-item:first-child::after {align-self: flex-end;width: 50%;}#sk-container-id-2 div.sk-parallel-item:last-child::after {align-self: flex-start;width: 50%;}#sk-container-id-2 div.sk-parallel-item:only-child::after {width: 0;}#sk-container-id-2 div.sk-dashed-wrapped {border: 1px dashed gray;margin: 0 0.4em 0.5em 0.4em;box-sizing: border-box;padding-bottom: 0.4em;background-color: white;}#sk-container-id-2 div.sk-label label {font-family: monospace;font-weight: bold;display: inline-block;line-height: 1.2em;}#sk-container-id-2 div.sk-label-container {text-align: center;}#sk-container-id-2 div.sk-container {/* jupyter's `normalize.less` sets `[hidden] { display: none; }` but bootstrap.min.css set `[hidden] { display: none !important; }` so we also need the `!important` here to be able to override the default hidden behavior on the sphinx rendered scikit-learn.org. See: https://github.com/scikit-learn/scikit-learn/issues/21755 */display: inline-block !important;position: relative;}#sk-container-id-2 div.sk-text-repr-fallback {display: none;}</style><div id=\"sk-container-id-2\" class=\"sk-top-container\"><div class=\"sk-text-repr-fallback\"><pre>Pipeline(steps=[(&#x27;treetransformer&#x27;,\n",
       "                 TreeTransformer(base_estimator=DecisionTreeRegressor(max_leaf_nodes=100,\n",
       "                                                                      min_samples_leaf=100))),\n",
       "                (&#x27;kaplantree&#x27;, KaplanTree())])</pre><b>In a Jupyter environment, please rerun this cell to show the HTML representation or trust the notebook. <br />On GitHub, the HTML representation is unable to render, please try loading this page with nbviewer.org.</b></div><div class=\"sk-container\" hidden><div class=\"sk-item sk-dashed-wrapped\"><div class=\"sk-label-container\"><div class=\"sk-label sk-toggleable\"><input class=\"sk-toggleable__control sk-hidden--visually\" id=\"sk-estimator-id-6\" type=\"checkbox\" ><label for=\"sk-estimator-id-6\" class=\"sk-toggleable__label sk-toggleable__label-arrow\">Pipeline</label><div class=\"sk-toggleable__content\"><pre>Pipeline(steps=[(&#x27;treetransformer&#x27;,\n",
       "                 TreeTransformer(base_estimator=DecisionTreeRegressor(max_leaf_nodes=100,\n",
       "                                                                      min_samples_leaf=100))),\n",
       "                (&#x27;kaplantree&#x27;, KaplanTree())])</pre></div></div></div><div class=\"sk-serial\"><div class=\"sk-item sk-dashed-wrapped\"><div class=\"sk-label-container\"><div class=\"sk-label sk-toggleable\"><input class=\"sk-toggleable__control sk-hidden--visually\" id=\"sk-estimator-id-7\" type=\"checkbox\" ><label for=\"sk-estimator-id-7\" class=\"sk-toggleable__label sk-toggleable__label-arrow\">treetransformer: TreeTransformer</label><div class=\"sk-toggleable__content\"><pre>TreeTransformer(base_estimator=DecisionTreeRegressor(max_leaf_nodes=100,\n",
       "                                                     min_samples_leaf=100))</pre></div></div></div><div class=\"sk-parallel\"><div class=\"sk-parallel-item\"><div class=\"sk-item\"><div class=\"sk-label-container\"><div class=\"sk-label sk-toggleable\"><input class=\"sk-toggleable__control sk-hidden--visually\" id=\"sk-estimator-id-8\" type=\"checkbox\" ><label for=\"sk-estimator-id-8\" class=\"sk-toggleable__label sk-toggleable__label-arrow\">base_estimator: DecisionTreeRegressor</label><div class=\"sk-toggleable__content\"><pre>DecisionTreeRegressor(max_leaf_nodes=100, min_samples_leaf=100)</pre></div></div></div><div class=\"sk-serial\"><div class=\"sk-item\"><div class=\"sk-estimator sk-toggleable\"><input class=\"sk-toggleable__control sk-hidden--visually\" id=\"sk-estimator-id-9\" type=\"checkbox\" ><label for=\"sk-estimator-id-9\" class=\"sk-toggleable__label sk-toggleable__label-arrow\">DecisionTreeRegressor</label><div class=\"sk-toggleable__content\"><pre>DecisionTreeRegressor(max_leaf_nodes=100, min_samples_leaf=100)</pre></div></div></div></div></div></div></div></div><div class=\"sk-item\"><div class=\"sk-estimator sk-toggleable\"><input class=\"sk-toggleable__control sk-hidden--visually\" id=\"sk-estimator-id-10\" type=\"checkbox\" ><label for=\"sk-estimator-id-10\" class=\"sk-toggleable__label sk-toggleable__label-arrow\">KaplanTree</label><div class=\"sk-toggleable__content\"><pre>KaplanTree()</pre></div></div></div></div></div></div></div>"
      ],
      "text/plain": [
       "Pipeline(steps=[('treetransformer',\n",
       "                 TreeTransformer(base_estimator=DecisionTreeRegressor(max_leaf_nodes=100,\n",
       "                                                                      min_samples_leaf=100))),\n",
       "                ('kaplantree', KaplanTree())])"
      ]
     },
     "execution_count": 110,
     "metadata": {},
     "output_type": "execute_result"
    }
   ],
   "source": [
    "%%time\n",
    "\n",
    "from sklearn.pipeline import make_pipeline\n",
    "from sklearn.tree import DecisionTreeRegressor\n",
    "\n",
    "from models.kaplan_tree import KaplanTree\n",
    "from models.tree_transformer import TreeTransformer\n",
    "\n",
    "tree_params = dict(\n",
    "    min_samples_leaf=100,\n",
    "    max_leaf_nodes=100,\n",
    ")\n",
    "\n",
    "naive_kaplan_tree = make_pipeline(\n",
    "    TreeTransformer(\n",
    "        DecisionTreeRegressor(**tree_params),\n",
    "    ),\n",
    "    KaplanTree(),  # Kaplan Meier is a non-parametric model\n",
    ")\n",
    "naive_kaplan_tree.fit(X_train.values, y_train, kaplantree__time_bins=times)"
   ]
  },
  {
   "cell_type": "code",
   "execution_count": 111,
   "id": "cd2f955f-27ce-438c-95ff-0708e189a22f",
   "metadata": {},
   "outputs": [
    {
     "name": "stdout",
     "output_type": "stream",
     "text": [
      "CPU times: user 11.3 s, sys: 984 ms, total: 12.3 s\n",
      "Wall time: 12.6 s\n"
     ]
    },
    {
     "data": {
      "text/plain": [
       "0.1064595237686656"
      ]
     },
     "execution_count": 111,
     "metadata": {},
     "output_type": "execute_result"
    }
   ],
   "source": [
    "%%time\n",
    "\n",
    "scores = get_scores(naive_kaplan_tree, y_train, X_test.values, y_test, times)\n",
    "save_scores(\"naive_kaplan_tree\", scores)\n",
    "scores[\"ibs\"]"
   ]
  },
  {
   "cell_type": "markdown",
   "id": "10b7b621-171d-42a8-a998-f34ec6e36ca6",
   "metadata": {},
   "source": [
    "## XGBSE models"
   ]
  },
  {
   "cell_type": "code",
   "execution_count": 16,
   "id": "1556a3ab-972e-439c-9005-e32ab0391041",
   "metadata": {},
   "outputs": [
    {
     "name": "stdout",
     "output_type": "stream",
     "text": [
      "CPU times: user 2min 9s, sys: 12.3 s, total: 2min 22s\n",
      "Wall time: 2min 17s\n"
     ]
    }
   ],
   "source": [
    "%%time\n",
    "\n",
    "from xgbse import XGBSEDebiasedBCE\n",
    "\n",
    "PARAMS_TREE_COX = {\n",
    "    'objective': 'survival:cox',\n",
    "    'eval_metric': 'cox-nloglik',\n",
    "    'tree_method': 'hist',\n",
    "    'max_depth': 10,\n",
    "    'booster': 'dart',\n",
    "    'subsample': 1.0,\n",
    "    'min_child_weight': 50,\n",
    "    'colsample_bynode': 1.0,\n",
    "    'verbosity': 1,\n",
    "    'nthread': 4,\n",
    "}\n",
    "xgbse_bce_cox = XGBSEDebiasedBCE(PARAMS_TREE_COX, n_jobs=4).fit(\n",
    "    X_train,\n",
    "    y_train,\n",
    "    time_bins=times,\n",
    "    num_boost_round=30,  # instead of 1000\n",
    "    verbose_eval=5,  # print eval every 5 rounds\n",
    ")"
   ]
  },
  {
   "cell_type": "code",
   "execution_count": 23,
   "id": "64027404-9f0b-4865-9537-de7e8b8aa9ab",
   "metadata": {},
   "outputs": [],
   "source": [
    "def get_scores_xgbse(model, y_train, X_test, y_test, times):\n",
    "    survival_probs = model.predict(X_test, return_interval_probs=False)  # return survival probs instead of cumulative hazard\n",
    "    \n",
    "    _, brier_scores = brier_score(y_train, y_test, survival_probs.values, times)\n",
    "    ibs = integrated_brier_score(y_train, y_test, survival_probs.values, times)\n",
    "    \n",
    "    return dict(\n",
    "        times=times,\n",
    "        brier_scores=brier_scores,\n",
    "        ibs=ibs,\n",
    "        survival_probs=survival_probs,\n",
    "    )"
   ]
  },
  {
   "cell_type": "code",
   "execution_count": 25,
   "id": "fb4ea280-72f2-42d8-85c1-9f9007b45a07",
   "metadata": {},
   "outputs": [
    {
     "name": "stdout",
     "output_type": "stream",
     "text": [
      "0.10669334732608947\n",
      "CPU times: user 14.1 s, sys: 5.07 s, total: 19.2 s\n",
      "Wall time: 19.6 s\n"
     ]
    }
   ],
   "source": [
    "%%time\n",
    "\n",
    "scores = get_scores_xgbse(xgbse_bce_cox, y_train, X_test, y_test, times)\n",
    "save_scores(\"xgbse_bce_cox\", scores)\n",
    "print(scores[\"ibs\"])"
   ]
  },
  {
   "cell_type": "markdown",
   "id": "62a40f83-98d6-4eaf-8189-88e7c279f208",
   "metadata": {},
   "source": [
    "**Comments**\n",
    "- Direct contender to our `ForestGridBC` (we use xgbse `_build_multi_task_targets` which could be optimize, or we could vendor it at the very least).\n",
    "- Default `num_boost_round` (aka `n_estimators`) is 1000, which seems high.\n",
    "- Default `PARAMS_LR` is `{\"C\": 1e-3, \"max_iter\": 500}`, the regularization is high as well.\n",
    "- Booster is `\"dart\"` but `rate_drop` is at zero (default value, according to [xgboost documentation](https://xgboost.readthedocs.io/en/stable/parameter.html#additional-parameters-for-dart-booster-booster-dart)), hence there is no dropout."
   ]
  },
  {
   "cell_type": "code",
   "execution_count": 26,
   "id": "59265ef0-94cf-45f7-af5b-6c19e7b18c62",
   "metadata": {},
   "outputs": [
    {
     "name": "stderr",
     "output_type": "stream",
     "text": [
      "/Users/vincentmaladiere/mambaforge/envs/skurvival/lib/python3.10/site-packages/joblib/externals/loky/process_executor.py:702: UserWarning: A worker stopped while some jobs were given to the executor. This can be caused by a too short worker timeout or by a memory leak.\n",
      "  warnings.warn(\n"
     ]
    },
    {
     "name": "stdout",
     "output_type": "stream",
     "text": [
      "CPU times: user 2min 11s, sys: 48 s, total: 2min 59s\n",
      "Wall time: 1min 54s\n"
     ]
    }
   ],
   "source": [
    "%%time\n",
    "\n",
    "PARAMS_TREE_AFT = {\n",
    "    \"objective\": \"survival:aft\",\n",
    "    \"eval_metric\": \"aft-nloglik\",\n",
    "    \"aft_loss_distribution\": \"normal\",\n",
    "    \"aft_loss_distribution_scale\": 1,\n",
    "    \"tree_method\": \"hist\",\n",
    "    \"learning_rate\": 5e-2,\n",
    "    \"max_depth\": 8,\n",
    "    \"booster\": \"dart\",\n",
    "    \"subsample\": 0.5,\n",
    "    \"min_child_weight\": 50,\n",
    "    \"colsample_bynode\": 0.5,\n",
    "}\n",
    "xgbse_bce_aft = XGBSEDebiasedBCE(PARAMS_TREE_AFT, n_jobs=4).fit(\n",
    "    X_train,\n",
    "    y_train,\n",
    "    time_bins=times,\n",
    "    num_boost_round=30,\n",
    "    # validation_data=[(X_val, y_val)],\n",
    "    # verbose_eval=5,\n",
    ")"
   ]
  },
  {
   "cell_type": "code",
   "execution_count": 28,
   "id": "c85f8da8-5730-4f4a-a756-4d09b9ee5ea7",
   "metadata": {},
   "outputs": [
    {
     "name": "stdout",
     "output_type": "stream",
     "text": [
      "0.10594601562721337\n",
      "CPU times: user 12.3 s, sys: 5.49 s, total: 17.8 s\n",
      "Wall time: 18.4 s\n"
     ]
    }
   ],
   "source": [
    "%%time\n",
    "\n",
    "scores = get_scores_xgbse(xgbse_bce_aft, y_train, X_test, y_test, times)\n",
    "save_scores(\"xgbse_bce_aft\", scores)\n",
    "print(scores[\"ibs\"])"
   ]
  },
  {
   "cell_type": "markdown",
   "id": "700df01a-c8a5-452a-a0da-581e7830d2e5",
   "metadata": {},
   "source": [
    "**Comments**\n",
    "- This model uses an AFT method by default, perform slightly better than its cox cousin here."
   ]
  },
  {
   "cell_type": "markdown",
   "id": "deabb618-90ef-414f-8f39-2091cd7ea83a",
   "metadata": {},
   "source": [
    "## Scores"
   ]
  },
  {
   "cell_type": "code",
   "execution_count": 37,
   "id": "b0bc35b6-2f6e-42aa-93fe-724cbb56e112",
   "metadata": {},
   "outputs": [],
   "source": [
    "import os\n",
    "import pandas as pd\n",
    "from pathlib import Path\n",
    "import pickle\n",
    "\n",
    "\n",
    "def get_all_results():\n",
    "    results_dir = Path(os.getenv(\"PYCOX_DATA_DIR\")) / \"kkbox_v1\" / \"results\"\n",
    "    results = []\n",
    "    for path in results_dir.iterdir():\n",
    "        if path.is_file() and path.suffix == \".pkl\":\n",
    "            result = pickle.load(open(path, \"rb\"))\n",
    "            model = path.name.split(\".\")[0]\n",
    "            result[\"model\"] = model\n",
    "            results.append(result)\n",
    "    return pd.DataFrame(results).sort_values(\"ibs\").reset_index(drop=True)"
   ]
  },
  {
   "cell_type": "code",
   "execution_count": 38,
   "id": "2007dba5-ad0a-43c8-b1b5-00cba98700d9",
   "metadata": {},
   "outputs": [
    {
     "data": {
      "text/html": [
       "<div>\n",
       "<style scoped>\n",
       "    .dataframe tbody tr th:only-of-type {\n",
       "        vertical-align: middle;\n",
       "    }\n",
       "\n",
       "    .dataframe tbody tr th {\n",
       "        vertical-align: top;\n",
       "    }\n",
       "\n",
       "    .dataframe thead th {\n",
       "        text-align: right;\n",
       "    }\n",
       "</style>\n",
       "<table border=\"1\" class=\"dataframe\">\n",
       "  <thead>\n",
       "    <tr style=\"text-align: right;\">\n",
       "      <th></th>\n",
       "      <th>model</th>\n",
       "      <th>ibs</th>\n",
       "    </tr>\n",
       "  </thead>\n",
       "  <tbody>\n",
       "    <tr>\n",
       "      <th>0</th>\n",
       "      <td>forest_grid_bc</td>\n",
       "      <td>0.105807</td>\n",
       "    </tr>\n",
       "    <tr>\n",
       "      <th>1</th>\n",
       "      <td>xgbse_bce_aft</td>\n",
       "      <td>0.105946</td>\n",
       "    </tr>\n",
       "    <tr>\n",
       "      <th>2</th>\n",
       "      <td>naive_kaplan_tree</td>\n",
       "      <td>0.106460</td>\n",
       "    </tr>\n",
       "    <tr>\n",
       "      <th>3</th>\n",
       "      <td>xgbse_bce_cox</td>\n",
       "      <td>0.106693</td>\n",
       "    </tr>\n",
       "    <tr>\n",
       "      <th>4</th>\n",
       "      <td>random_survival_forest</td>\n",
       "      <td>0.106721</td>\n",
       "    </tr>\n",
       "    <tr>\n",
       "      <th>5</th>\n",
       "      <td>survival_forest_grid_bc</td>\n",
       "      <td>0.106748</td>\n",
       "    </tr>\n",
       "    <tr>\n",
       "      <th>6</th>\n",
       "      <td>naive_forest_kn</td>\n",
       "      <td>0.106774</td>\n",
       "    </tr>\n",
       "    <tr>\n",
       "      <th>7</th>\n",
       "      <td>meta_grid_bc</td>\n",
       "      <td>0.121892</td>\n",
       "    </tr>\n",
       "  </tbody>\n",
       "</table>\n",
       "</div>"
      ],
      "text/plain": [
       "                     model       ibs\n",
       "0           forest_grid_bc  0.105807\n",
       "1            xgbse_bce_aft  0.105946\n",
       "2        naive_kaplan_tree  0.106460\n",
       "3            xgbse_bce_cox  0.106693\n",
       "4   random_survival_forest  0.106721\n",
       "5  survival_forest_grid_bc  0.106748\n",
       "6          naive_forest_kn  0.106774\n",
       "7             meta_grid_bc  0.121892"
      ]
     },
     "execution_count": 38,
     "metadata": {},
     "output_type": "execute_result"
    }
   ],
   "source": [
    "results = get_all_results()\n",
    "results[[\"model\", \"ibs\"]]"
   ]
  },
  {
   "cell_type": "markdown",
   "id": "7eb21f59-461c-4209-9883-93dba23cec5d",
   "metadata": {},
   "source": [
    "Models from the [pycox paper](https://jmlr.org/papers/volume20/18-424/18-424.pdf) obtained the following results with the same preprocessing:\n",
    "\n",
    "<img src=\"../data/kkbox/kkbox_v1/pycox_paper_table7.png\" alt=\"pycox-table7\" style=\"width: 400px;\"/>"
   ]
  },
  {
   "cell_type": "code",
   "execution_count": 30,
   "id": "a5ddaf5a-65b0-407c-a7e8-aae70554a631",
   "metadata": {},
   "outputs": [
    {
     "data": {
      "text/html": [
       "<div>\n",
       "<style scoped>\n",
       "    .dataframe tbody tr th:only-of-type {\n",
       "        vertical-align: middle;\n",
       "    }\n",
       "\n",
       "    .dataframe tbody tr th {\n",
       "        vertical-align: top;\n",
       "    }\n",
       "\n",
       "    .dataframe thead th {\n",
       "        text-align: right;\n",
       "    }\n",
       "</style>\n",
       "<table border=\"1\" class=\"dataframe\">\n",
       "  <thead>\n",
       "    <tr style=\"text-align: right;\">\n",
       "      <th></th>\n",
       "      <th>model</th>\n",
       "      <th>params</th>\n",
       "      <th>n samples train</th>\n",
       "      <th>n samples test</th>\n",
       "      <th>training_duration</th>\n",
       "      <th>predict_duration</th>\n",
       "    </tr>\n",
       "  </thead>\n",
       "  <tbody>\n",
       "    <tr>\n",
       "      <th>0</th>\n",
       "      <td>random_survival_forest</td>\n",
       "      <td>{'n_jobs': 4}</td>\n",
       "      <td>89,317 (5%)</td>\n",
       "      <td>100,000</td>\n",
       "      <td>4min 36s</td>\n",
       "      <td>13.3 s</td>\n",
       "    </tr>\n",
       "    <tr>\n",
       "      <th>1</th>\n",
       "      <td>meta_grid_bc</td>\n",
       "      <td>{'n_jobs': 4}</td>\n",
       "      <td>1,786,358</td>\n",
       "      <td>661,748</td>\n",
       "      <td>3min 10s</td>\n",
       "      <td>9.52 s</td>\n",
       "    </tr>\n",
       "    <tr>\n",
       "      <th>2</th>\n",
       "      <td>naive_forest_grid_bc</td>\n",
       "      <td>{'n_jobs': 4}</td>\n",
       "      <td>1,786,358</td>\n",
       "      <td>661,748</td>\n",
       "      <td>1min 42s</td>\n",
       "      <td>14.2 s</td>\n",
       "    </tr>\n",
       "    <tr>\n",
       "      <th>3</th>\n",
       "      <td>survival_forest_grid_bc</td>\n",
       "      <td>{'n_jobs': 4, 'subsample': 0.05}</td>\n",
       "      <td>1,786,358</td>\n",
       "      <td>661,748</td>\n",
       "      <td>6min 4s</td>\n",
       "      <td>13.6 s</td>\n",
       "    </tr>\n",
       "    <tr>\n",
       "      <th>4</th>\n",
       "      <td>naive_forest_kaplan_neighbors</td>\n",
       "      <td>{'n_jobs': 4}</td>\n",
       "      <td>1,786,358</td>\n",
       "      <td>1,000</td>\n",
       "      <td>32.1 s</td>\n",
       "      <td>1min 3s</td>\n",
       "    </tr>\n",
       "    <tr>\n",
       "      <th>5</th>\n",
       "      <td>naive_kaplan_tree</td>\n",
       "      <td>N/A</td>\n",
       "      <td>1,786,358</td>\n",
       "      <td>661,748</td>\n",
       "      <td>16.6 s</td>\n",
       "      <td>10.1 s</td>\n",
       "    </tr>\n",
       "    <tr>\n",
       "      <th>6</th>\n",
       "      <td>XGBSEDebiased_BCE_cox</td>\n",
       "      <td>{'n_jobs': 4, 'objective': 'survival:cox'}</td>\n",
       "      <td>1,786,358</td>\n",
       "      <td>661,748</td>\n",
       "      <td>2min 17s</td>\n",
       "      <td>19.6 s</td>\n",
       "    </tr>\n",
       "    <tr>\n",
       "      <th>7</th>\n",
       "      <td>XGBSEDebiased_BCE_aft</td>\n",
       "      <td>{'n_jobs': 4, 'objective': 'survival:aft'}</td>\n",
       "      <td>1,786,358</td>\n",
       "      <td>661,748</td>\n",
       "      <td>1min 54s</td>\n",
       "      <td>18.4 s</td>\n",
       "    </tr>\n",
       "  </tbody>\n",
       "</table>\n",
       "</div>"
      ],
      "text/plain": [
       "                           model                                      params  \\\n",
       "0         random_survival_forest                               {'n_jobs': 4}   \n",
       "1                   meta_grid_bc                               {'n_jobs': 4}   \n",
       "2           naive_forest_grid_bc                               {'n_jobs': 4}   \n",
       "3        survival_forest_grid_bc            {'n_jobs': 4, 'subsample': 0.05}   \n",
       "4  naive_forest_kaplan_neighbors                               {'n_jobs': 4}   \n",
       "5              naive_kaplan_tree                                         N/A   \n",
       "6          XGBSEDebiased_BCE_cox  {'n_jobs': 4, 'objective': 'survival:cox'}   \n",
       "7          XGBSEDebiased_BCE_aft  {'n_jobs': 4, 'objective': 'survival:aft'}   \n",
       "\n",
       "  n samples train n samples test training_duration predict_duration  \n",
       "0     89,317 (5%)        100,000          4min 36s           13.3 s  \n",
       "1       1,786,358        661,748          3min 10s           9.52 s  \n",
       "2       1,786,358        661,748          1min 42s           14.2 s  \n",
       "3       1,786,358        661,748           6min 4s           13.6 s  \n",
       "4       1,786,358          1,000            32.1 s          1min 3s  \n",
       "5       1,786,358        661,748            16.6 s           10.1 s  \n",
       "6       1,786,358        661,748          2min 17s           19.6 s  \n",
       "7       1,786,358        661,748          1min 54s           18.4 s  "
      ]
     },
     "execution_count": 30,
     "metadata": {},
     "output_type": "execute_result"
    }
   ],
   "source": [
    "pd.DataFrame(\n",
    "    [\n",
    "        [\"random_survival_forest\", {\"n_jobs\": 4}, \"89,317 (5%)\", \"100,000\", \"4min 36s\", \"13.3 s\"],\n",
    "        [\"meta_grid_bc\", {\"n_jobs\": 4}, \"1,786,358\", \"661,748\", \"3min 10s\", \"9.52 s\"],\n",
    "        [\"naive_forest_grid_bc\", {\"n_jobs\": 4}, \"1,786,358\", \"661,748\", \"1min 42s\", \"14.2 s\"],\n",
    "        [\"survival_forest_grid_bc\", {\"n_jobs\": 4, \"subsample\": .05}, \"1,786,358\", \"661,748\", \"6min 4s\", \"13.6 s\"],\n",
    "        [\"naive_forest_kaplan_neighbors\", {\"n_jobs\": 4}, \"1,786,358\", \"1,000\", \"32.1 s\", \"1min 3s\"],\n",
    "        [\"naive_kaplan_tree\", \"N/A\", \"1,786,358\", \"661,748\", \"16.6 s\", \"10.1 s\"],\n",
    "        [\"XGBSEDebiased_BCE_cox\", {\"n_jobs\": 4, \"objective\": \"survival:cox\"}, \"1,786,358\", \"661,748\", \"2min 17s\", \"19.6 s\"],\n",
    "        [\"XGBSEDebiased_BCE_aft\", {\"n_jobs\": 4, \"objective\": \"survival:aft\"}, \"1,786,358\", \"661,748\", \"1min 54s\", \"18.4 s\"],\n",
    "    ],\n",
    "    columns=[\"model\", \"params\", \"n samples train\", \"n samples test\", \"training_duration\", \"predict_duration\"]\n",
    ")"
   ]
  },
  {
   "cell_type": "markdown",
   "id": "23c7a9f1-b0f6-49c0-afde-2a509b43ee74",
   "metadata": {},
   "source": [
    "All forests are config as follow:"
   ]
  },
  {
   "cell_type": "code",
   "execution_count": 131,
   "id": "7ee3e1e6-a650-4baa-9988-6648c8cbe567",
   "metadata": {},
   "outputs": [
    {
     "data": {
      "text/plain": [
       "{'min_samples_leaf': 100,\n",
       " 'max_leaf_nodes': 100,\n",
       " 'n_estimators': 30,\n",
       " 'max_features': 8,\n",
       " 'n_jobs': 4,\n",
       " 'verbose': True}"
      ]
     },
     "execution_count": 131,
     "metadata": {},
     "output_type": "execute_result"
    }
   ],
   "source": [
    "rf_params"
   ]
  },
  {
   "cell_type": "markdown",
   "id": "f9a7051d-856e-4550-b305-1d6d887e96a8",
   "metadata": {},
   "source": [
    "Cox Boosting trees config, with `num_boost_round = 30`:"
   ]
  },
  {
   "cell_type": "code",
   "execution_count": 34,
   "id": "3f62405d-1376-467f-b9bc-3f186fd65830",
   "metadata": {},
   "outputs": [
    {
     "data": {
      "text/plain": [
       "{'objective': 'survival:cox',\n",
       " 'eval_metric': 'cox-nloglik',\n",
       " 'tree_method': 'hist',\n",
       " 'max_depth': 10,\n",
       " 'booster': 'dart',\n",
       " 'subsample': 1.0,\n",
       " 'min_child_weight': 50,\n",
       " 'colsample_bynode': 1.0,\n",
       " 'verbosity': 1,\n",
       " 'nthread': 4}"
      ]
     },
     "execution_count": 34,
     "metadata": {},
     "output_type": "execute_result"
    }
   ],
   "source": [
    "PARAMS_TREE_COX"
   ]
  },
  {
   "cell_type": "markdown",
   "id": "df989632-6093-4ec4-98f5-a9cd2a5a6674",
   "metadata": {},
   "source": [
    "Aft Boosting trees config, with `num_boost_round = 30`:"
   ]
  },
  {
   "cell_type": "code",
   "execution_count": 36,
   "id": "bf3a9c0f-d3b0-458d-a16b-2df2db2d20b5",
   "metadata": {},
   "outputs": [
    {
     "data": {
      "text/plain": [
       "{'objective': 'survival:aft',\n",
       " 'eval_metric': 'aft-nloglik',\n",
       " 'aft_loss_distribution': 'normal',\n",
       " 'aft_loss_distribution_scale': 1,\n",
       " 'tree_method': 'hist',\n",
       " 'learning_rate': 0.05,\n",
       " 'max_depth': 8,\n",
       " 'booster': 'dart',\n",
       " 'subsample': 0.5,\n",
       " 'min_child_weight': 50,\n",
       " 'colsample_bynode': 0.5}"
      ]
     },
     "execution_count": 36,
     "metadata": {},
     "output_type": "execute_result"
    }
   ],
   "source": [
    "PARAMS_TREE_AFT"
   ]
  },
  {
   "cell_type": "markdown",
   "id": "3dc4667e-504d-451c-9a24-7c54d1d48e92",
   "metadata": {},
   "source": [
    "And the binary classifiers (\"bc\") are LogisticRegression with the following config:"
   ]
  },
  {
   "cell_type": "code",
   "execution_count": 88,
   "id": "863613e9-4ac6-4fd9-bc5a-b58012ac1f70",
   "metadata": {},
   "outputs": [
    {
     "data": {
      "text/plain": [
       "{'C': 0.001, 'max_iter': 500}"
      ]
     },
     "execution_count": 88,
     "metadata": {},
     "output_type": "execute_result"
    }
   ],
   "source": [
    "lr_params"
   ]
  },
  {
   "cell_type": "markdown",
   "id": "86117af2-2cdf-4702-8ad9-1ebff78b41cd",
   "metadata": {},
   "source": [
    "### Brier scores"
   ]
  },
  {
   "cell_type": "code",
   "execution_count": 40,
   "id": "1b358e74-0b33-484e-9522-765571a2a172",
   "metadata": {},
   "outputs": [
    {
     "data": {
      "image/png": "[encoded data removed]",
      "text/plain": [
       "<Figure size 2100x750 with 1 Axes>"
      ]
     },
     "metadata": {},
     "output_type": "display_data"
    }
   ],
   "source": [
    "import matplotlib as mpl\n",
    "from matplotlib import pyplot as plt\n",
    "import seaborn as sns\n",
    "\n",
    "mpl.rcParams['figure.dpi'] = 150\n",
    "sns.set_theme()\n",
    "sns.set_context(\"paper\")\n",
    "\n",
    "cols = results.columns\n",
    "col_to_idx = dict(zip(cols, range(len(cols))))\n",
    "\n",
    "fig, ax = plt.subplots(figsize=(14, 5))\n",
    "for row in results.values:\n",
    "    ax.plot(\n",
    "        times,\n",
    "        row[col_to_idx[\"brier_scores\"]],\n",
    "        label=row[col_to_idx[\"model\"]],\n",
    "    )\n",
    "plt.ylim([0, .225])\n",
    "plt.xlabel(\"Duration (days)\")\n",
    "plt.ylabel(\"Brier score\")\n",
    "legend = plt.legend(\n",
    "    bbox_to_anchor=(0, 1.02, 1, 0.2),\n",
    "    loc=\"lower left\",\n",
    "    mode=\"expand\",\n",
    "    borderaxespad=0,\n",
    "    ncol=6,\n",
    "    facecolor='white',\n",
    ");\n",
    "frame = legend.get_frame()\n",
    "frame.set_linewidth(2)"
   ]
  },
  {
   "cell_type": "markdown",
   "id": "7093a149-75fe-4a42-bdc5-c542df7943ad",
   "metadata": {},
   "source": [
    "<img src=\"../data/kkbox/kkbox_v1/pycox_paper_figure4.png\" alt=\"pycox-table7\" style=\"width: 900px;\"/>"
   ]
  },
  {
   "cell_type": "markdown",
   "id": "479dd894-7573-4564-8fb8-2719e0fa4817",
   "metadata": {},
   "source": [
    "### Calibration"
   ]
  },
  {
   "cell_type": "code",
   "execution_count": 136,
   "id": "5c7e5c38-7744-422a-9156-527e642cebeb",
   "metadata": {},
   "outputs": [
    {
     "data": {
      "image/png": "[encoded data removed]",
      "text/plain": [
       "<Figure size 2100x750 with 1 Axes>"
      ]
     },
     "metadata": {},
     "output_type": "display_data"
    }
   ],
   "source": [
    "from sksurv.nonparametric import kaplan_meier_estimator\n",
    "from sksurv.tree.tree import StepFunction\n",
    "\n",
    "km_times, km_values = kaplan_meier_estimator(y_test[\"event\"], y_test[\"duration\"])\n",
    "km = StepFunction(km_times, km_values)(times)\n",
    "\n",
    "fig, ax = plt.subplots(figsize=(14, 5))\n",
    "ax.step(times, km, label=\"kaplan_meier\");\n",
    "\n",
    "cols = results.columns\n",
    "col_to_idx = dict(zip(cols, range(len(cols))))\n",
    "for row in results.values:\n",
    "    survival_probs = row[col_to_idx[\"survival_probs\"]]\n",
    "    if getattr(survival_probs, \"ndim\", False):\n",
    "        ax.step(times, survival_probs.mean(axis=0), label=row[col_to_idx[\"model\"]])\n",
    "plt.xlabel(\"Time\")\n",
    "plt.ylabel(\"Survival probability\")\n",
    "plt.title(\"Models average survival function compared to Kaplan Meier\")\n",
    "plt.legend();"
   ]
  }
 ],
 "metadata": {
  "kernelspec": {
   "display_name": "Python 3 (ipykernel)",
   "language": "python",
   "name": "python3"
  },
  "language_info": {
   "codemirror_mode": {
    "name": "ipython",
    "version": 3
   },
   "file_extension": ".py",
   "mimetype": "text/x-python",
   "name": "python",
   "nbconvert_exporter": "python",
   "pygments_lexer": "ipython3",
   "version": "3.10.6"
  }
 },
 "nbformat": 4,
 "nbformat_minor": 5
}
